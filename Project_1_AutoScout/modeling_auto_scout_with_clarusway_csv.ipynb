{
 "cells": [
  {
   "cell_type": "markdown",
   "metadata": {
    "id": "4UCsvzbImqZN"
   },
   "source": [
    "___\n",
    "\n",
    "<p style=\"text-align: center;\"><img src=\"https://docs.google.com/uc?id=1lY0Uj5R04yMY3-ZppPWxqCr5pvBLYPnV\" class=\"img-fluid\" alt=\"CLRSWY\"></p>\n",
    "\n",
    "___"
   ]
  },
  {
   "cell_type": "markdown",
   "metadata": {
    "id": "i5WapR8JmqZN"
   },
   "source": [
    "# WELCOME!"
   ]
  },
  {
   "cell_type": "markdown",
   "metadata": {
    "id": "ZyeGWbuTmqZN"
   },
   "source": [
    "Welcome to \"***Car Price Prediction Project***\". This is the first medium project of ***Machine Learning*** course. In this project you will have the opportunity to apply many algorithms commonly used for regression problems.\n",
    "\n",
    "Also, you will apply various processes such as pre-processing, ***train-test spilit*** and ***cross validation*** that you will use in algorithm modeling and prediction processes in Python with ***scikit-learn***. \n",
    "\n",
    "Before diving into the project, please take a look at the determines and tasks.\n",
    "\n",
    "- **NOTE:** This project assumes that you already know the basics of coding in Python. You should also be familiar with the theory behind regression algorithms and scikit-learn module as well as Machine Learning before you begin.\n"
   ]
  },
  {
   "cell_type": "markdown",
   "metadata": {
    "id": "c0Iul5QymqZN"
   },
   "source": [
    "# Determines\n",
    "\n",
    "**Auto Scout** data which using for this project, scraped from the on-line car trading company(https://www.autoscout24.com)in 2019, contains many features of 9 different car models. In this project, you will use the data set which is already preprocessed and prepared for algorithms .\n",
    "\n",
    "The aim of this project to understand of machine learning algorithms. Therefore, you will not need any EDA process as you will be working on the edited data.\n",
    "\n",
    "---\n",
    "\n",
    "In this Senario, you will estimate the prices of cars using regression algorithms.\n",
    "\n",
    "While starting you should import the necessary modules and load the data given as pkl file. Also you'll need to do a few pre-processing before moving to modelling. After that you will implement ***Linear Regression, Ridge Regression, Lasso Regression,and Elastic-Net algorithms respectively*** (After completion of Unsupervised Learning section, you can also add bagging and boosting algorithms such as ***Random Forest and XG Boost*** this notebook to develop the project). You can measure the success of your models with regression evaluation metrics as well as with cross validation method.\n",
    "\n",
    "For the better results, you should try to increase the success of your models by performing hyperparameter tuning. Determine feature importances for the model. You can set your model with the most important features for resource saving. You should try to apply this especially in Random Forest and XG Boost algorithms. Unlike the others, you will perform hyperparameter tuning for Random Forest and XG Boost using the ***GridSearchCV*** method. \n",
    "\n",
    "Finally You can compare the performances of algorithms, work more on the algorithm have the most successful prediction rate.\n",
    "\n",
    "\n",
    "\n",
    "\n"
   ]
  },
  {
   "cell_type": "markdown",
   "metadata": {
    "id": "pL-jJ1irmqZN"
   },
   "source": [
    "# Tasks\n",
    "\n",
    "#### 1. Import Modules, Load Data and Data Review\n",
    "#### 2. Data Pre-Processing\n",
    "#### 3. Implement Linear Regression \n",
    "#### 4. Implement Ridge Regression\n",
    "#### 5. Implement Lasso Regression \n",
    "#### 6. Implement Elastic-Net\n",
    "#### 7. Visually Compare Models Performance In a Graph"
   ]
  },
  {
   "cell_type": "markdown",
   "metadata": {
    "id": "Rik6d_vimqZN"
   },
   "source": [
    "# Import Modules, Load Data and Data Review"
   ]
  },
  {
   "cell_type": "code",
   "execution_count": 1550,
   "metadata": {
    "id": "QBddHlqgmqZN"
   },
   "outputs": [],
   "source": [
    "import numpy as np\n",
    "import pandas as pd\n",
    "import seaborn as sns\n",
    "import matplotlib.pyplot as plt\n",
    "import scipy.stats as stats\n",
    "\n",
    "#%matplotlib inline\n",
    "#%matplotlib notebook\n",
    "plt.rcParams[\"figure.figsize\"] = (10,6)\n",
    "import warnings\n",
    "warnings.filterwarnings(\"ignore\")\n",
    "warnings.warn(\"this will not show\")\n",
    "pd.set_option('display.float_format', lambda x: '%.6f' % x)\n",
    "pd.set_option('display.max_columns', 100)"
   ]
  },
  {
   "cell_type": "code",
   "execution_count": 1551,
   "metadata": {},
   "outputs": [],
   "source": [
    "df = pd.read_csv(\"final_scout_dummy_instr.csv\")"
   ]
  },
  {
   "cell_type": "code",
   "execution_count": 1552,
   "metadata": {},
   "outputs": [
    {
     "data": {
      "text/plain": [
       "(15909, 131)"
      ]
     },
     "execution_count": 1552,
     "metadata": {},
     "output_type": "execute_result"
    }
   ],
   "source": [
    "df.shape"
   ]
  },
  {
   "cell_type": "code",
   "execution_count": 1553,
   "metadata": {
    "scrolled": true
   },
   "outputs": [
    {
     "data": {
      "text/html": [
       "<div>\n",
       "<style scoped>\n",
       "    .dataframe tbody tr th:only-of-type {\n",
       "        vertical-align: middle;\n",
       "    }\n",
       "\n",
       "    .dataframe tbody tr th {\n",
       "        vertical-align: top;\n",
       "    }\n",
       "\n",
       "    .dataframe thead th {\n",
       "        text-align: right;\n",
       "    }\n",
       "</style>\n",
       "<table border=\"1\" class=\"dataframe\">\n",
       "  <thead>\n",
       "    <tr style=\"text-align: right;\">\n",
       "      <th></th>\n",
       "      <th>price</th>\n",
       "      <th>km</th>\n",
       "      <th>Gears</th>\n",
       "      <th>age</th>\n",
       "      <th>Previous_Owners</th>\n",
       "      <th>hp_kW</th>\n",
       "      <th>Inspection_new</th>\n",
       "      <th>Displacement_cc</th>\n",
       "      <th>Weight_kg</th>\n",
       "      <th>CO2_Emission</th>\n",
       "      <th>cc_Air conditioning</th>\n",
       "      <th>cc_Air suspension</th>\n",
       "      <th>cc_Armrest</th>\n",
       "      <th>cc_Automatic climate control</th>\n",
       "      <th>cc_Auxiliary heating</th>\n",
       "      <th>cc_Cruise control</th>\n",
       "      <th>cc_Electric Starter</th>\n",
       "      <th>cc_Electric tailgate</th>\n",
       "      <th>cc_Electrical side mirrors</th>\n",
       "      <th>cc_Electrically adjustable seats</th>\n",
       "      <th>cc_Electrically heated windshield</th>\n",
       "      <th>cc_Heads-up display</th>\n",
       "      <th>cc_Heated steering wheel</th>\n",
       "      <th>cc_Hill Holder</th>\n",
       "      <th>cc_Keyless central door lock</th>\n",
       "      <th>cc_Leather seats</th>\n",
       "      <th>cc_Leather steering wheel</th>\n",
       "      <th>cc_Light sensor</th>\n",
       "      <th>cc_Lumbar support</th>\n",
       "      <th>cc_Massage seats</th>\n",
       "      <th>cc_Multi-function steering wheel</th>\n",
       "      <th>cc_Navigation system</th>\n",
       "      <th>cc_Panorama roof</th>\n",
       "      <th>cc_Park Distance Control</th>\n",
       "      <th>cc_Parking assist system camera</th>\n",
       "      <th>cc_Parking assist system self-steering</th>\n",
       "      <th>cc_Parking assist system sensors front</th>\n",
       "      <th>cc_Parking assist system sensors rear</th>\n",
       "      <th>cc_Power windows</th>\n",
       "      <th>cc_Rain sensor</th>\n",
       "      <th>cc_Seat heating</th>\n",
       "      <th>cc_Seat ventilation</th>\n",
       "      <th>cc_Split rear seats</th>\n",
       "      <th>cc_Start-stop system</th>\n",
       "      <th>cc_Sunroof</th>\n",
       "      <th>cc_Tinted windows</th>\n",
       "      <th>cc_Wind deflector</th>\n",
       "      <th>cc_Windshield</th>\n",
       "      <th>em_Bluetooth</th>\n",
       "      <th>em_CD player</th>\n",
       "      <th>...</th>\n",
       "      <th>ss_Central door lock with remote control</th>\n",
       "      <th>ss_Daytime running lights</th>\n",
       "      <th>ss_Driver drowsiness detection</th>\n",
       "      <th>ss_Driver-side airbag</th>\n",
       "      <th>ss_Electronic stability control</th>\n",
       "      <th>ss_Emergency brake assistant</th>\n",
       "      <th>ss_Emergency system</th>\n",
       "      <th>ss_Fog lights</th>\n",
       "      <th>ss_Head airbag</th>\n",
       "      <th>ss_Immobilizer</th>\n",
       "      <th>ss_Isofix</th>\n",
       "      <th>ss_LED Daytime Running Lights</th>\n",
       "      <th>ss_LED Headlights</th>\n",
       "      <th>ss_Lane departure warning system</th>\n",
       "      <th>ss_Night view assist</th>\n",
       "      <th>ss_Passenger-side airbag</th>\n",
       "      <th>ss_Power steering</th>\n",
       "      <th>ss_Rear airbag</th>\n",
       "      <th>ss_Side airbag</th>\n",
       "      <th>ss_Tire pressure monitoring system</th>\n",
       "      <th>ss_Traction control</th>\n",
       "      <th>ss_Traffic sign recognition</th>\n",
       "      <th>ss_Xenon headlights</th>\n",
       "      <th>make_model_Audi A3</th>\n",
       "      <th>make_model_Opel Astra</th>\n",
       "      <th>make_model_Opel Corsa</th>\n",
       "      <th>make_model_Opel Insignia</th>\n",
       "      <th>make_model_Renault Clio</th>\n",
       "      <th>make_model_Renault Duster</th>\n",
       "      <th>make_model_Renault Espace</th>\n",
       "      <th>body_type_Convertible</th>\n",
       "      <th>body_type_Coupe</th>\n",
       "      <th>body_type_Off-Road</th>\n",
       "      <th>body_type_Sedans</th>\n",
       "      <th>body_type_Station wagon</th>\n",
       "      <th>body_type_Transporter</th>\n",
       "      <th>body_type_Van</th>\n",
       "      <th>Type_Employee's car</th>\n",
       "      <th>Type_New</th>\n",
       "      <th>Type_Pre-registered</th>\n",
       "      <th>Type_Used</th>\n",
       "      <th>Fuel_Diesel</th>\n",
       "      <th>Fuel_LPG/CNG</th>\n",
       "      <th>Paint_Type_Perl effect</th>\n",
       "      <th>Paint_Type_Uni/basic</th>\n",
       "      <th>Upholstery_type_Part/Full Leather</th>\n",
       "      <th>Gearing_Type_Manual</th>\n",
       "      <th>Gearing_Type_Semi-automatic</th>\n",
       "      <th>Drive_chain_front</th>\n",
       "      <th>Drive_chain_rear</th>\n",
       "    </tr>\n",
       "  </thead>\n",
       "  <tbody>\n",
       "    <tr>\n",
       "      <th>0</th>\n",
       "      <td>15770</td>\n",
       "      <td>56013.000000</td>\n",
       "      <td>7.000000</td>\n",
       "      <td>3.000000</td>\n",
       "      <td>2.000000</td>\n",
       "      <td>66.000000</td>\n",
       "      <td>1</td>\n",
       "      <td>1422.000000</td>\n",
       "      <td>1220.000000</td>\n",
       "      <td>99.000000</td>\n",
       "      <td>1</td>\n",
       "      <td>0</td>\n",
       "      <td>1</td>\n",
       "      <td>1</td>\n",
       "      <td>0</td>\n",
       "      <td>1</td>\n",
       "      <td>0</td>\n",
       "      <td>0</td>\n",
       "      <td>1</td>\n",
       "      <td>0</td>\n",
       "      <td>0</td>\n",
       "      <td>0</td>\n",
       "      <td>0</td>\n",
       "      <td>1</td>\n",
       "      <td>0</td>\n",
       "      <td>0</td>\n",
       "      <td>1</td>\n",
       "      <td>1</td>\n",
       "      <td>0</td>\n",
       "      <td>0</td>\n",
       "      <td>1</td>\n",
       "      <td>1</td>\n",
       "      <td>0</td>\n",
       "      <td>1</td>\n",
       "      <td>0</td>\n",
       "      <td>0</td>\n",
       "      <td>0</td>\n",
       "      <td>1</td>\n",
       "      <td>1</td>\n",
       "      <td>1</td>\n",
       "      <td>1</td>\n",
       "      <td>0</td>\n",
       "      <td>0</td>\n",
       "      <td>1</td>\n",
       "      <td>0</td>\n",
       "      <td>0</td>\n",
       "      <td>0</td>\n",
       "      <td>0</td>\n",
       "      <td>1</td>\n",
       "      <td>0</td>\n",
       "      <td>...</td>\n",
       "      <td>0</td>\n",
       "      <td>1</td>\n",
       "      <td>0</td>\n",
       "      <td>1</td>\n",
       "      <td>1</td>\n",
       "      <td>0</td>\n",
       "      <td>0</td>\n",
       "      <td>1</td>\n",
       "      <td>0</td>\n",
       "      <td>1</td>\n",
       "      <td>1</td>\n",
       "      <td>0</td>\n",
       "      <td>0</td>\n",
       "      <td>0</td>\n",
       "      <td>0</td>\n",
       "      <td>1</td>\n",
       "      <td>1</td>\n",
       "      <td>0</td>\n",
       "      <td>1</td>\n",
       "      <td>1</td>\n",
       "      <td>1</td>\n",
       "      <td>0</td>\n",
       "      <td>1</td>\n",
       "      <td>0</td>\n",
       "      <td>0</td>\n",
       "      <td>0</td>\n",
       "      <td>0</td>\n",
       "      <td>0</td>\n",
       "      <td>0</td>\n",
       "      <td>0</td>\n",
       "      <td>0</td>\n",
       "      <td>0</td>\n",
       "      <td>0</td>\n",
       "      <td>1</td>\n",
       "      <td>0</td>\n",
       "      <td>0</td>\n",
       "      <td>0</td>\n",
       "      <td>0</td>\n",
       "      <td>0</td>\n",
       "      <td>0</td>\n",
       "      <td>1</td>\n",
       "      <td>1</td>\n",
       "      <td>0</td>\n",
       "      <td>0</td>\n",
       "      <td>0</td>\n",
       "      <td>0</td>\n",
       "      <td>0</td>\n",
       "      <td>0</td>\n",
       "      <td>1</td>\n",
       "      <td>0</td>\n",
       "    </tr>\n",
       "    <tr>\n",
       "      <th>1</th>\n",
       "      <td>14500</td>\n",
       "      <td>80000.000000</td>\n",
       "      <td>7.000000</td>\n",
       "      <td>2.000000</td>\n",
       "      <td>1.000000</td>\n",
       "      <td>141.000000</td>\n",
       "      <td>0</td>\n",
       "      <td>1798.000000</td>\n",
       "      <td>1255.000000</td>\n",
       "      <td>129.000000</td>\n",
       "      <td>1</td>\n",
       "      <td>0</td>\n",
       "      <td>0</td>\n",
       "      <td>1</td>\n",
       "      <td>0</td>\n",
       "      <td>0</td>\n",
       "      <td>0</td>\n",
       "      <td>0</td>\n",
       "      <td>0</td>\n",
       "      <td>0</td>\n",
       "      <td>0</td>\n",
       "      <td>0</td>\n",
       "      <td>0</td>\n",
       "      <td>1</td>\n",
       "      <td>0</td>\n",
       "      <td>0</td>\n",
       "      <td>1</td>\n",
       "      <td>0</td>\n",
       "      <td>1</td>\n",
       "      <td>0</td>\n",
       "      <td>0</td>\n",
       "      <td>0</td>\n",
       "      <td>0</td>\n",
       "      <td>0</td>\n",
       "      <td>0</td>\n",
       "      <td>0</td>\n",
       "      <td>0</td>\n",
       "      <td>1</td>\n",
       "      <td>1</td>\n",
       "      <td>0</td>\n",
       "      <td>0</td>\n",
       "      <td>0</td>\n",
       "      <td>0</td>\n",
       "      <td>1</td>\n",
       "      <td>0</td>\n",
       "      <td>1</td>\n",
       "      <td>0</td>\n",
       "      <td>0</td>\n",
       "      <td>1</td>\n",
       "      <td>0</td>\n",
       "      <td>...</td>\n",
       "      <td>1</td>\n",
       "      <td>1</td>\n",
       "      <td>0</td>\n",
       "      <td>1</td>\n",
       "      <td>1</td>\n",
       "      <td>0</td>\n",
       "      <td>0</td>\n",
       "      <td>0</td>\n",
       "      <td>1</td>\n",
       "      <td>1</td>\n",
       "      <td>1</td>\n",
       "      <td>0</td>\n",
       "      <td>0</td>\n",
       "      <td>0</td>\n",
       "      <td>0</td>\n",
       "      <td>1</td>\n",
       "      <td>1</td>\n",
       "      <td>0</td>\n",
       "      <td>1</td>\n",
       "      <td>1</td>\n",
       "      <td>1</td>\n",
       "      <td>0</td>\n",
       "      <td>1</td>\n",
       "      <td>0</td>\n",
       "      <td>0</td>\n",
       "      <td>0</td>\n",
       "      <td>0</td>\n",
       "      <td>0</td>\n",
       "      <td>0</td>\n",
       "      <td>0</td>\n",
       "      <td>0</td>\n",
       "      <td>0</td>\n",
       "      <td>0</td>\n",
       "      <td>1</td>\n",
       "      <td>0</td>\n",
       "      <td>0</td>\n",
       "      <td>0</td>\n",
       "      <td>0</td>\n",
       "      <td>0</td>\n",
       "      <td>0</td>\n",
       "      <td>1</td>\n",
       "      <td>0</td>\n",
       "      <td>0</td>\n",
       "      <td>0</td>\n",
       "      <td>0</td>\n",
       "      <td>0</td>\n",
       "      <td>0</td>\n",
       "      <td>0</td>\n",
       "      <td>1</td>\n",
       "      <td>0</td>\n",
       "    </tr>\n",
       "    <tr>\n",
       "      <th>2</th>\n",
       "      <td>14640</td>\n",
       "      <td>83450.000000</td>\n",
       "      <td>7.000000</td>\n",
       "      <td>3.000000</td>\n",
       "      <td>1.000000</td>\n",
       "      <td>85.000000</td>\n",
       "      <td>0</td>\n",
       "      <td>1598.000000</td>\n",
       "      <td>1135.000000</td>\n",
       "      <td>99.000000</td>\n",
       "      <td>1</td>\n",
       "      <td>0</td>\n",
       "      <td>0</td>\n",
       "      <td>0</td>\n",
       "      <td>0</td>\n",
       "      <td>1</td>\n",
       "      <td>0</td>\n",
       "      <td>0</td>\n",
       "      <td>1</td>\n",
       "      <td>0</td>\n",
       "      <td>0</td>\n",
       "      <td>0</td>\n",
       "      <td>0</td>\n",
       "      <td>1</td>\n",
       "      <td>0</td>\n",
       "      <td>0</td>\n",
       "      <td>1</td>\n",
       "      <td>0</td>\n",
       "      <td>0</td>\n",
       "      <td>0</td>\n",
       "      <td>1</td>\n",
       "      <td>1</td>\n",
       "      <td>0</td>\n",
       "      <td>1</td>\n",
       "      <td>0</td>\n",
       "      <td>0</td>\n",
       "      <td>1</td>\n",
       "      <td>1</td>\n",
       "      <td>1</td>\n",
       "      <td>0</td>\n",
       "      <td>1</td>\n",
       "      <td>0</td>\n",
       "      <td>0</td>\n",
       "      <td>1</td>\n",
       "      <td>0</td>\n",
       "      <td>0</td>\n",
       "      <td>0</td>\n",
       "      <td>0</td>\n",
       "      <td>0</td>\n",
       "      <td>0</td>\n",
       "      <td>...</td>\n",
       "      <td>0</td>\n",
       "      <td>1</td>\n",
       "      <td>0</td>\n",
       "      <td>1</td>\n",
       "      <td>1</td>\n",
       "      <td>0</td>\n",
       "      <td>0</td>\n",
       "      <td>0</td>\n",
       "      <td>0</td>\n",
       "      <td>1</td>\n",
       "      <td>1</td>\n",
       "      <td>0</td>\n",
       "      <td>0</td>\n",
       "      <td>0</td>\n",
       "      <td>0</td>\n",
       "      <td>1</td>\n",
       "      <td>1</td>\n",
       "      <td>0</td>\n",
       "      <td>1</td>\n",
       "      <td>1</td>\n",
       "      <td>1</td>\n",
       "      <td>0</td>\n",
       "      <td>0</td>\n",
       "      <td>0</td>\n",
       "      <td>0</td>\n",
       "      <td>0</td>\n",
       "      <td>0</td>\n",
       "      <td>0</td>\n",
       "      <td>0</td>\n",
       "      <td>0</td>\n",
       "      <td>0</td>\n",
       "      <td>0</td>\n",
       "      <td>0</td>\n",
       "      <td>1</td>\n",
       "      <td>0</td>\n",
       "      <td>0</td>\n",
       "      <td>0</td>\n",
       "      <td>0</td>\n",
       "      <td>0</td>\n",
       "      <td>0</td>\n",
       "      <td>1</td>\n",
       "      <td>1</td>\n",
       "      <td>0</td>\n",
       "      <td>0</td>\n",
       "      <td>0</td>\n",
       "      <td>0</td>\n",
       "      <td>0</td>\n",
       "      <td>0</td>\n",
       "      <td>1</td>\n",
       "      <td>0</td>\n",
       "    </tr>\n",
       "    <tr>\n",
       "      <th>3</th>\n",
       "      <td>14500</td>\n",
       "      <td>73000.000000</td>\n",
       "      <td>6.000000</td>\n",
       "      <td>3.000000</td>\n",
       "      <td>1.000000</td>\n",
       "      <td>66.000000</td>\n",
       "      <td>0</td>\n",
       "      <td>1422.000000</td>\n",
       "      <td>1195.000000</td>\n",
       "      <td>99.000000</td>\n",
       "      <td>0</td>\n",
       "      <td>1</td>\n",
       "      <td>1</td>\n",
       "      <td>0</td>\n",
       "      <td>1</td>\n",
       "      <td>0</td>\n",
       "      <td>0</td>\n",
       "      <td>0</td>\n",
       "      <td>1</td>\n",
       "      <td>0</td>\n",
       "      <td>0</td>\n",
       "      <td>1</td>\n",
       "      <td>0</td>\n",
       "      <td>1</td>\n",
       "      <td>0</td>\n",
       "      <td>0</td>\n",
       "      <td>1</td>\n",
       "      <td>1</td>\n",
       "      <td>1</td>\n",
       "      <td>0</td>\n",
       "      <td>1</td>\n",
       "      <td>1</td>\n",
       "      <td>0</td>\n",
       "      <td>0</td>\n",
       "      <td>0</td>\n",
       "      <td>0</td>\n",
       "      <td>0</td>\n",
       "      <td>0</td>\n",
       "      <td>1</td>\n",
       "      <td>1</td>\n",
       "      <td>1</td>\n",
       "      <td>0</td>\n",
       "      <td>1</td>\n",
       "      <td>1</td>\n",
       "      <td>0</td>\n",
       "      <td>0</td>\n",
       "      <td>0</td>\n",
       "      <td>0</td>\n",
       "      <td>1</td>\n",
       "      <td>1</td>\n",
       "      <td>...</td>\n",
       "      <td>1</td>\n",
       "      <td>0</td>\n",
       "      <td>1</td>\n",
       "      <td>1</td>\n",
       "      <td>1</td>\n",
       "      <td>0</td>\n",
       "      <td>1</td>\n",
       "      <td>0</td>\n",
       "      <td>1</td>\n",
       "      <td>1</td>\n",
       "      <td>1</td>\n",
       "      <td>0</td>\n",
       "      <td>0</td>\n",
       "      <td>0</td>\n",
       "      <td>0</td>\n",
       "      <td>1</td>\n",
       "      <td>1</td>\n",
       "      <td>0</td>\n",
       "      <td>1</td>\n",
       "      <td>1</td>\n",
       "      <td>0</td>\n",
       "      <td>0</td>\n",
       "      <td>0</td>\n",
       "      <td>0</td>\n",
       "      <td>0</td>\n",
       "      <td>0</td>\n",
       "      <td>0</td>\n",
       "      <td>0</td>\n",
       "      <td>0</td>\n",
       "      <td>0</td>\n",
       "      <td>0</td>\n",
       "      <td>0</td>\n",
       "      <td>0</td>\n",
       "      <td>1</td>\n",
       "      <td>0</td>\n",
       "      <td>0</td>\n",
       "      <td>0</td>\n",
       "      <td>0</td>\n",
       "      <td>0</td>\n",
       "      <td>0</td>\n",
       "      <td>1</td>\n",
       "      <td>1</td>\n",
       "      <td>0</td>\n",
       "      <td>0</td>\n",
       "      <td>0</td>\n",
       "      <td>0</td>\n",
       "      <td>0</td>\n",
       "      <td>0</td>\n",
       "      <td>1</td>\n",
       "      <td>0</td>\n",
       "    </tr>\n",
       "    <tr>\n",
       "      <th>4</th>\n",
       "      <td>16790</td>\n",
       "      <td>16200.000000</td>\n",
       "      <td>7.000000</td>\n",
       "      <td>3.000000</td>\n",
       "      <td>1.000000</td>\n",
       "      <td>66.000000</td>\n",
       "      <td>1</td>\n",
       "      <td>1422.000000</td>\n",
       "      <td>1135.000000</td>\n",
       "      <td>109.000000</td>\n",
       "      <td>1</td>\n",
       "      <td>0</td>\n",
       "      <td>1</td>\n",
       "      <td>1</td>\n",
       "      <td>0</td>\n",
       "      <td>0</td>\n",
       "      <td>0</td>\n",
       "      <td>0</td>\n",
       "      <td>1</td>\n",
       "      <td>0</td>\n",
       "      <td>0</td>\n",
       "      <td>0</td>\n",
       "      <td>0</td>\n",
       "      <td>1</td>\n",
       "      <td>0</td>\n",
       "      <td>0</td>\n",
       "      <td>1</td>\n",
       "      <td>1</td>\n",
       "      <td>0</td>\n",
       "      <td>0</td>\n",
       "      <td>1</td>\n",
       "      <td>0</td>\n",
       "      <td>0</td>\n",
       "      <td>1</td>\n",
       "      <td>0</td>\n",
       "      <td>0</td>\n",
       "      <td>0</td>\n",
       "      <td>1</td>\n",
       "      <td>1</td>\n",
       "      <td>1</td>\n",
       "      <td>0</td>\n",
       "      <td>0</td>\n",
       "      <td>0</td>\n",
       "      <td>1</td>\n",
       "      <td>0</td>\n",
       "      <td>0</td>\n",
       "      <td>0</td>\n",
       "      <td>0</td>\n",
       "      <td>1</td>\n",
       "      <td>1</td>\n",
       "      <td>...</td>\n",
       "      <td>0</td>\n",
       "      <td>0</td>\n",
       "      <td>0</td>\n",
       "      <td>1</td>\n",
       "      <td>1</td>\n",
       "      <td>0</td>\n",
       "      <td>0</td>\n",
       "      <td>1</td>\n",
       "      <td>0</td>\n",
       "      <td>1</td>\n",
       "      <td>1</td>\n",
       "      <td>0</td>\n",
       "      <td>0</td>\n",
       "      <td>0</td>\n",
       "      <td>0</td>\n",
       "      <td>1</td>\n",
       "      <td>1</td>\n",
       "      <td>0</td>\n",
       "      <td>1</td>\n",
       "      <td>1</td>\n",
       "      <td>1</td>\n",
       "      <td>0</td>\n",
       "      <td>1</td>\n",
       "      <td>0</td>\n",
       "      <td>0</td>\n",
       "      <td>0</td>\n",
       "      <td>0</td>\n",
       "      <td>0</td>\n",
       "      <td>0</td>\n",
       "      <td>0</td>\n",
       "      <td>0</td>\n",
       "      <td>0</td>\n",
       "      <td>0</td>\n",
       "      <td>1</td>\n",
       "      <td>0</td>\n",
       "      <td>0</td>\n",
       "      <td>0</td>\n",
       "      <td>0</td>\n",
       "      <td>0</td>\n",
       "      <td>0</td>\n",
       "      <td>1</td>\n",
       "      <td>1</td>\n",
       "      <td>0</td>\n",
       "      <td>0</td>\n",
       "      <td>0</td>\n",
       "      <td>0</td>\n",
       "      <td>0</td>\n",
       "      <td>0</td>\n",
       "      <td>1</td>\n",
       "      <td>0</td>\n",
       "    </tr>\n",
       "  </tbody>\n",
       "</table>\n",
       "<p>5 rows × 131 columns</p>\n",
       "</div>"
      ],
      "text/plain": [
       "   price           km    Gears      age  Previous_Owners      hp_kW  \\\n",
       "0  15770 56013.000000 7.000000 3.000000         2.000000  66.000000   \n",
       "1  14500 80000.000000 7.000000 2.000000         1.000000 141.000000   \n",
       "2  14640 83450.000000 7.000000 3.000000         1.000000  85.000000   \n",
       "3  14500 73000.000000 6.000000 3.000000         1.000000  66.000000   \n",
       "4  16790 16200.000000 7.000000 3.000000         1.000000  66.000000   \n",
       "\n",
       "   Inspection_new  Displacement_cc   Weight_kg  CO2_Emission  \\\n",
       "0               1      1422.000000 1220.000000     99.000000   \n",
       "1               0      1798.000000 1255.000000    129.000000   \n",
       "2               0      1598.000000 1135.000000     99.000000   \n",
       "3               0      1422.000000 1195.000000     99.000000   \n",
       "4               1      1422.000000 1135.000000    109.000000   \n",
       "\n",
       "   cc_Air conditioning  cc_Air suspension  cc_Armrest  \\\n",
       "0                    1                  0           1   \n",
       "1                    1                  0           0   \n",
       "2                    1                  0           0   \n",
       "3                    0                  1           1   \n",
       "4                    1                  0           1   \n",
       "\n",
       "   cc_Automatic climate control  cc_Auxiliary heating  cc_Cruise control  \\\n",
       "0                             1                     0                  1   \n",
       "1                             1                     0                  0   \n",
       "2                             0                     0                  1   \n",
       "3                             0                     1                  0   \n",
       "4                             1                     0                  0   \n",
       "\n",
       "   cc_Electric Starter  cc_Electric tailgate  cc_Electrical side mirrors  \\\n",
       "0                    0                     0                           1   \n",
       "1                    0                     0                           0   \n",
       "2                    0                     0                           1   \n",
       "3                    0                     0                           1   \n",
       "4                    0                     0                           1   \n",
       "\n",
       "   cc_Electrically adjustable seats  cc_Electrically heated windshield  \\\n",
       "0                                 0                                  0   \n",
       "1                                 0                                  0   \n",
       "2                                 0                                  0   \n",
       "3                                 0                                  0   \n",
       "4                                 0                                  0   \n",
       "\n",
       "   cc_Heads-up display  cc_Heated steering wheel  cc_Hill Holder  \\\n",
       "0                    0                         0               1   \n",
       "1                    0                         0               1   \n",
       "2                    0                         0               1   \n",
       "3                    1                         0               1   \n",
       "4                    0                         0               1   \n",
       "\n",
       "   cc_Keyless central door lock  cc_Leather seats  cc_Leather steering wheel  \\\n",
       "0                             0                 0                          1   \n",
       "1                             0                 0                          1   \n",
       "2                             0                 0                          1   \n",
       "3                             0                 0                          1   \n",
       "4                             0                 0                          1   \n",
       "\n",
       "   cc_Light sensor  cc_Lumbar support  cc_Massage seats  \\\n",
       "0                1                  0                 0   \n",
       "1                0                  1                 0   \n",
       "2                0                  0                 0   \n",
       "3                1                  1                 0   \n",
       "4                1                  0                 0   \n",
       "\n",
       "   cc_Multi-function steering wheel  cc_Navigation system  cc_Panorama roof  \\\n",
       "0                                 1                     1                 0   \n",
       "1                                 0                     0                 0   \n",
       "2                                 1                     1                 0   \n",
       "3                                 1                     1                 0   \n",
       "4                                 1                     0                 0   \n",
       "\n",
       "   cc_Park Distance Control  cc_Parking assist system camera  \\\n",
       "0                         1                                0   \n",
       "1                         0                                0   \n",
       "2                         1                                0   \n",
       "3                         0                                0   \n",
       "4                         1                                0   \n",
       "\n",
       "   cc_Parking assist system self-steering  \\\n",
       "0                                       0   \n",
       "1                                       0   \n",
       "2                                       0   \n",
       "3                                       0   \n",
       "4                                       0   \n",
       "\n",
       "   cc_Parking assist system sensors front  \\\n",
       "0                                       0   \n",
       "1                                       0   \n",
       "2                                       1   \n",
       "3                                       0   \n",
       "4                                       0   \n",
       "\n",
       "   cc_Parking assist system sensors rear  cc_Power windows  cc_Rain sensor  \\\n",
       "0                                      1                 1               1   \n",
       "1                                      1                 1               0   \n",
       "2                                      1                 1               0   \n",
       "3                                      0                 1               1   \n",
       "4                                      1                 1               1   \n",
       "\n",
       "   cc_Seat heating  cc_Seat ventilation  cc_Split rear seats  \\\n",
       "0                1                    0                    0   \n",
       "1                0                    0                    0   \n",
       "2                1                    0                    0   \n",
       "3                1                    0                    1   \n",
       "4                0                    0                    0   \n",
       "\n",
       "   cc_Start-stop system  cc_Sunroof  cc_Tinted windows  cc_Wind deflector  \\\n",
       "0                     1           0                  0                  0   \n",
       "1                     1           0                  1                  0   \n",
       "2                     1           0                  0                  0   \n",
       "3                     1           0                  0                  0   \n",
       "4                     1           0                  0                  0   \n",
       "\n",
       "   cc_Windshield  em_Bluetooth  em_CD player  ...  \\\n",
       "0              0             1             0  ...   \n",
       "1              0             1             0  ...   \n",
       "2              0             0             0  ...   \n",
       "3              0             1             1  ...   \n",
       "4              0             1             1  ...   \n",
       "\n",
       "   ss_Central door lock with remote control  ss_Daytime running lights  \\\n",
       "0                                         0                          1   \n",
       "1                                         1                          1   \n",
       "2                                         0                          1   \n",
       "3                                         1                          0   \n",
       "4                                         0                          0   \n",
       "\n",
       "   ss_Driver drowsiness detection  ss_Driver-side airbag  \\\n",
       "0                               0                      1   \n",
       "1                               0                      1   \n",
       "2                               0                      1   \n",
       "3                               1                      1   \n",
       "4                               0                      1   \n",
       "\n",
       "   ss_Electronic stability control  ss_Emergency brake assistant  \\\n",
       "0                                1                             0   \n",
       "1                                1                             0   \n",
       "2                                1                             0   \n",
       "3                                1                             0   \n",
       "4                                1                             0   \n",
       "\n",
       "   ss_Emergency system  ss_Fog lights  ss_Head airbag  ss_Immobilizer  \\\n",
       "0                    0              1               0               1   \n",
       "1                    0              0               1               1   \n",
       "2                    0              0               0               1   \n",
       "3                    1              0               1               1   \n",
       "4                    0              1               0               1   \n",
       "\n",
       "   ss_Isofix  ss_LED Daytime Running Lights  ss_LED Headlights  \\\n",
       "0          1                              0                  0   \n",
       "1          1                              0                  0   \n",
       "2          1                              0                  0   \n",
       "3          1                              0                  0   \n",
       "4          1                              0                  0   \n",
       "\n",
       "   ss_Lane departure warning system  ss_Night view assist  \\\n",
       "0                                 0                     0   \n",
       "1                                 0                     0   \n",
       "2                                 0                     0   \n",
       "3                                 0                     0   \n",
       "4                                 0                     0   \n",
       "\n",
       "   ss_Passenger-side airbag  ss_Power steering  ss_Rear airbag  \\\n",
       "0                         1                  1               0   \n",
       "1                         1                  1               0   \n",
       "2                         1                  1               0   \n",
       "3                         1                  1               0   \n",
       "4                         1                  1               0   \n",
       "\n",
       "   ss_Side airbag  ss_Tire pressure monitoring system  ss_Traction control  \\\n",
       "0               1                                   1                    1   \n",
       "1               1                                   1                    1   \n",
       "2               1                                   1                    1   \n",
       "3               1                                   1                    0   \n",
       "4               1                                   1                    1   \n",
       "\n",
       "   ss_Traffic sign recognition  ss_Xenon headlights  make_model_Audi A3  \\\n",
       "0                            0                    1                   0   \n",
       "1                            0                    1                   0   \n",
       "2                            0                    0                   0   \n",
       "3                            0                    0                   0   \n",
       "4                            0                    1                   0   \n",
       "\n",
       "   make_model_Opel Astra  make_model_Opel Corsa  make_model_Opel Insignia  \\\n",
       "0                      0                      0                         0   \n",
       "1                      0                      0                         0   \n",
       "2                      0                      0                         0   \n",
       "3                      0                      0                         0   \n",
       "4                      0                      0                         0   \n",
       "\n",
       "   make_model_Renault Clio  make_model_Renault Duster  \\\n",
       "0                        0                          0   \n",
       "1                        0                          0   \n",
       "2                        0                          0   \n",
       "3                        0                          0   \n",
       "4                        0                          0   \n",
       "\n",
       "   make_model_Renault Espace  body_type_Convertible  body_type_Coupe  \\\n",
       "0                          0                      0                0   \n",
       "1                          0                      0                0   \n",
       "2                          0                      0                0   \n",
       "3                          0                      0                0   \n",
       "4                          0                      0                0   \n",
       "\n",
       "   body_type_Off-Road  body_type_Sedans  body_type_Station wagon  \\\n",
       "0                   0                 1                        0   \n",
       "1                   0                 1                        0   \n",
       "2                   0                 1                        0   \n",
       "3                   0                 1                        0   \n",
       "4                   0                 1                        0   \n",
       "\n",
       "   body_type_Transporter  body_type_Van  Type_Employee's car  Type_New  \\\n",
       "0                      0              0                    0         0   \n",
       "1                      0              0                    0         0   \n",
       "2                      0              0                    0         0   \n",
       "3                      0              0                    0         0   \n",
       "4                      0              0                    0         0   \n",
       "\n",
       "   Type_Pre-registered  Type_Used  Fuel_Diesel  Fuel_LPG/CNG  \\\n",
       "0                    0          1            1             0   \n",
       "1                    0          1            0             0   \n",
       "2                    0          1            1             0   \n",
       "3                    0          1            1             0   \n",
       "4                    0          1            1             0   \n",
       "\n",
       "   Paint_Type_Perl effect  Paint_Type_Uni/basic  \\\n",
       "0                       0                     0   \n",
       "1                       0                     0   \n",
       "2                       0                     0   \n",
       "3                       0                     0   \n",
       "4                       0                     0   \n",
       "\n",
       "   Upholstery_type_Part/Full Leather  Gearing_Type_Manual  \\\n",
       "0                                  0                    0   \n",
       "1                                  0                    0   \n",
       "2                                  0                    0   \n",
       "3                                  0                    0   \n",
       "4                                  0                    0   \n",
       "\n",
       "   Gearing_Type_Semi-automatic  Drive_chain_front  Drive_chain_rear  \n",
       "0                            0                  1                 0  \n",
       "1                            0                  1                 0  \n",
       "2                            0                  1                 0  \n",
       "3                            0                  1                 0  \n",
       "4                            0                  1                 0  \n",
       "\n",
       "[5 rows x 131 columns]"
      ]
     },
     "execution_count": 1553,
     "metadata": {},
     "output_type": "execute_result"
    }
   ],
   "source": [
    "df.head()"
   ]
  },
  {
   "cell_type": "code",
   "execution_count": 1554,
   "metadata": {
    "scrolled": false
   },
   "outputs": [
    {
     "data": {
      "text/html": [
       "<div>\n",
       "<style scoped>\n",
       "    .dataframe tbody tr th:only-of-type {\n",
       "        vertical-align: middle;\n",
       "    }\n",
       "\n",
       "    .dataframe tbody tr th {\n",
       "        vertical-align: top;\n",
       "    }\n",
       "\n",
       "    .dataframe thead th {\n",
       "        text-align: right;\n",
       "    }\n",
       "</style>\n",
       "<table border=\"1\" class=\"dataframe\">\n",
       "  <thead>\n",
       "    <tr style=\"text-align: right;\">\n",
       "      <th></th>\n",
       "      <th>price</th>\n",
       "      <th>km</th>\n",
       "      <th>Gears</th>\n",
       "      <th>age</th>\n",
       "      <th>Previous_Owners</th>\n",
       "      <th>hp_kW</th>\n",
       "      <th>Inspection_new</th>\n",
       "      <th>Displacement_cc</th>\n",
       "      <th>Weight_kg</th>\n",
       "      <th>CO2_Emission</th>\n",
       "      <th>cc_Air conditioning</th>\n",
       "      <th>cc_Air suspension</th>\n",
       "      <th>cc_Armrest</th>\n",
       "      <th>cc_Automatic climate control</th>\n",
       "      <th>cc_Auxiliary heating</th>\n",
       "      <th>cc_Cruise control</th>\n",
       "      <th>cc_Electric Starter</th>\n",
       "      <th>cc_Electric tailgate</th>\n",
       "      <th>cc_Electrical side mirrors</th>\n",
       "      <th>cc_Electrically adjustable seats</th>\n",
       "      <th>cc_Electrically heated windshield</th>\n",
       "      <th>cc_Heads-up display</th>\n",
       "      <th>cc_Heated steering wheel</th>\n",
       "      <th>cc_Hill Holder</th>\n",
       "      <th>cc_Keyless central door lock</th>\n",
       "      <th>cc_Leather seats</th>\n",
       "      <th>cc_Leather steering wheel</th>\n",
       "      <th>cc_Light sensor</th>\n",
       "      <th>cc_Lumbar support</th>\n",
       "      <th>cc_Massage seats</th>\n",
       "      <th>cc_Multi-function steering wheel</th>\n",
       "      <th>cc_Navigation system</th>\n",
       "      <th>cc_Panorama roof</th>\n",
       "      <th>cc_Park Distance Control</th>\n",
       "      <th>cc_Parking assist system camera</th>\n",
       "      <th>cc_Parking assist system self-steering</th>\n",
       "      <th>cc_Parking assist system sensors front</th>\n",
       "      <th>cc_Parking assist system sensors rear</th>\n",
       "      <th>cc_Power windows</th>\n",
       "      <th>cc_Rain sensor</th>\n",
       "      <th>cc_Seat heating</th>\n",
       "      <th>cc_Seat ventilation</th>\n",
       "      <th>cc_Split rear seats</th>\n",
       "      <th>cc_Start-stop system</th>\n",
       "      <th>cc_Sunroof</th>\n",
       "      <th>cc_Tinted windows</th>\n",
       "      <th>cc_Wind deflector</th>\n",
       "      <th>cc_Windshield</th>\n",
       "      <th>em_Bluetooth</th>\n",
       "      <th>em_CD player</th>\n",
       "      <th>...</th>\n",
       "      <th>ss_Central door lock with remote control</th>\n",
       "      <th>ss_Daytime running lights</th>\n",
       "      <th>ss_Driver drowsiness detection</th>\n",
       "      <th>ss_Driver-side airbag</th>\n",
       "      <th>ss_Electronic stability control</th>\n",
       "      <th>ss_Emergency brake assistant</th>\n",
       "      <th>ss_Emergency system</th>\n",
       "      <th>ss_Fog lights</th>\n",
       "      <th>ss_Head airbag</th>\n",
       "      <th>ss_Immobilizer</th>\n",
       "      <th>ss_Isofix</th>\n",
       "      <th>ss_LED Daytime Running Lights</th>\n",
       "      <th>ss_LED Headlights</th>\n",
       "      <th>ss_Lane departure warning system</th>\n",
       "      <th>ss_Night view assist</th>\n",
       "      <th>ss_Passenger-side airbag</th>\n",
       "      <th>ss_Power steering</th>\n",
       "      <th>ss_Rear airbag</th>\n",
       "      <th>ss_Side airbag</th>\n",
       "      <th>ss_Tire pressure monitoring system</th>\n",
       "      <th>ss_Traction control</th>\n",
       "      <th>ss_Traffic sign recognition</th>\n",
       "      <th>ss_Xenon headlights</th>\n",
       "      <th>make_model_Audi A3</th>\n",
       "      <th>make_model_Opel Astra</th>\n",
       "      <th>make_model_Opel Corsa</th>\n",
       "      <th>make_model_Opel Insignia</th>\n",
       "      <th>make_model_Renault Clio</th>\n",
       "      <th>make_model_Renault Duster</th>\n",
       "      <th>make_model_Renault Espace</th>\n",
       "      <th>body_type_Convertible</th>\n",
       "      <th>body_type_Coupe</th>\n",
       "      <th>body_type_Off-Road</th>\n",
       "      <th>body_type_Sedans</th>\n",
       "      <th>body_type_Station wagon</th>\n",
       "      <th>body_type_Transporter</th>\n",
       "      <th>body_type_Van</th>\n",
       "      <th>Type_Employee's car</th>\n",
       "      <th>Type_New</th>\n",
       "      <th>Type_Pre-registered</th>\n",
       "      <th>Type_Used</th>\n",
       "      <th>Fuel_Diesel</th>\n",
       "      <th>Fuel_LPG/CNG</th>\n",
       "      <th>Paint_Type_Perl effect</th>\n",
       "      <th>Paint_Type_Uni/basic</th>\n",
       "      <th>Upholstery_type_Part/Full Leather</th>\n",
       "      <th>Gearing_Type_Manual</th>\n",
       "      <th>Gearing_Type_Semi-automatic</th>\n",
       "      <th>Drive_chain_front</th>\n",
       "      <th>Drive_chain_rear</th>\n",
       "    </tr>\n",
       "  </thead>\n",
       "  <tbody>\n",
       "    <tr>\n",
       "      <th>count</th>\n",
       "      <td>15909.000000</td>\n",
       "      <td>15909.000000</td>\n",
       "      <td>15909.000000</td>\n",
       "      <td>15909.000000</td>\n",
       "      <td>15909.000000</td>\n",
       "      <td>15909.000000</td>\n",
       "      <td>15909.000000</td>\n",
       "      <td>15909.000000</td>\n",
       "      <td>15909.000000</td>\n",
       "      <td>15909.000000</td>\n",
       "      <td>15909.000000</td>\n",
       "      <td>15909.000000</td>\n",
       "      <td>15909.000000</td>\n",
       "      <td>15909.000000</td>\n",
       "      <td>15909.000000</td>\n",
       "      <td>15909.000000</td>\n",
       "      <td>15909.000000</td>\n",
       "      <td>15909.000000</td>\n",
       "      <td>15909.000000</td>\n",
       "      <td>15909.000000</td>\n",
       "      <td>15909.000000</td>\n",
       "      <td>15909.000000</td>\n",
       "      <td>15909.000000</td>\n",
       "      <td>15909.000000</td>\n",
       "      <td>15909.000000</td>\n",
       "      <td>15909.000000</td>\n",
       "      <td>15909.000000</td>\n",
       "      <td>15909.000000</td>\n",
       "      <td>15909.000000</td>\n",
       "      <td>15909.000000</td>\n",
       "      <td>15909.000000</td>\n",
       "      <td>15909.000000</td>\n",
       "      <td>15909.000000</td>\n",
       "      <td>15909.000000</td>\n",
       "      <td>15909.000000</td>\n",
       "      <td>15909.000000</td>\n",
       "      <td>15909.000000</td>\n",
       "      <td>15909.000000</td>\n",
       "      <td>15909.000000</td>\n",
       "      <td>15909.000000</td>\n",
       "      <td>15909.000000</td>\n",
       "      <td>15909.000000</td>\n",
       "      <td>15909.000000</td>\n",
       "      <td>15909.000000</td>\n",
       "      <td>15909.000000</td>\n",
       "      <td>15909.000000</td>\n",
       "      <td>15909.000000</td>\n",
       "      <td>15909.000000</td>\n",
       "      <td>15909.000000</td>\n",
       "      <td>15909.000000</td>\n",
       "      <td>...</td>\n",
       "      <td>15909.000000</td>\n",
       "      <td>15909.000000</td>\n",
       "      <td>15909.000000</td>\n",
       "      <td>15909.000000</td>\n",
       "      <td>15909.000000</td>\n",
       "      <td>15909.000000</td>\n",
       "      <td>15909.000000</td>\n",
       "      <td>15909.000000</td>\n",
       "      <td>15909.000000</td>\n",
       "      <td>15909.000000</td>\n",
       "      <td>15909.000000</td>\n",
       "      <td>15909.000000</td>\n",
       "      <td>15909.000000</td>\n",
       "      <td>15909.000000</td>\n",
       "      <td>15909.000000</td>\n",
       "      <td>15909.000000</td>\n",
       "      <td>15909.000000</td>\n",
       "      <td>15909.000000</td>\n",
       "      <td>15909.000000</td>\n",
       "      <td>15909.000000</td>\n",
       "      <td>15909.000000</td>\n",
       "      <td>15909.000000</td>\n",
       "      <td>15909.000000</td>\n",
       "      <td>15909.000000</td>\n",
       "      <td>15909.000000</td>\n",
       "      <td>15909.000000</td>\n",
       "      <td>15909.000000</td>\n",
       "      <td>15909.000000</td>\n",
       "      <td>15909.000000</td>\n",
       "      <td>15909.000000</td>\n",
       "      <td>15909.000000</td>\n",
       "      <td>15909.000000</td>\n",
       "      <td>15909.000000</td>\n",
       "      <td>15909.000000</td>\n",
       "      <td>15909.000000</td>\n",
       "      <td>15909.000000</td>\n",
       "      <td>15909.000000</td>\n",
       "      <td>15909.000000</td>\n",
       "      <td>15909.000000</td>\n",
       "      <td>15909.000000</td>\n",
       "      <td>15909.000000</td>\n",
       "      <td>15909.000000</td>\n",
       "      <td>15909.000000</td>\n",
       "      <td>15909.000000</td>\n",
       "      <td>15909.000000</td>\n",
       "      <td>15909.000000</td>\n",
       "      <td>15909.000000</td>\n",
       "      <td>15909.000000</td>\n",
       "      <td>15909.000000</td>\n",
       "      <td>15909.000000</td>\n",
       "    </tr>\n",
       "    <tr>\n",
       "      <th>mean</th>\n",
       "      <td>18020.241876</td>\n",
       "      <td>32092.436526</td>\n",
       "      <td>5.937268</td>\n",
       "      <td>1.389591</td>\n",
       "      <td>1.042869</td>\n",
       "      <td>88.497769</td>\n",
       "      <td>0.247156</td>\n",
       "      <td>1428.657364</td>\n",
       "      <td>1337.675467</td>\n",
       "      <td>117.783110</td>\n",
       "      <td>0.948457</td>\n",
       "      <td>0.004149</td>\n",
       "      <td>0.477466</td>\n",
       "      <td>0.577849</td>\n",
       "      <td>0.016657</td>\n",
       "      <td>0.730278</td>\n",
       "      <td>0.000063</td>\n",
       "      <td>0.069898</td>\n",
       "      <td>0.784776</td>\n",
       "      <td>0.130555</td>\n",
       "      <td>0.059275</td>\n",
       "      <td>0.038280</td>\n",
       "      <td>0.201710</td>\n",
       "      <td>0.460997</td>\n",
       "      <td>0.175498</td>\n",
       "      <td>0.002954</td>\n",
       "      <td>0.611666</td>\n",
       "      <td>0.504746</td>\n",
       "      <td>0.218556</td>\n",
       "      <td>0.022629</td>\n",
       "      <td>0.737947</td>\n",
       "      <td>0.536363</td>\n",
       "      <td>0.038783</td>\n",
       "      <td>0.669684</td>\n",
       "      <td>0.231316</td>\n",
       "      <td>0.048463</td>\n",
       "      <td>0.383494</td>\n",
       "      <td>0.633729</td>\n",
       "      <td>0.927211</td>\n",
       "      <td>0.569363</td>\n",
       "      <td>0.466277</td>\n",
       "      <td>0.052612</td>\n",
       "      <td>0.150041</td>\n",
       "      <td>0.594066</td>\n",
       "      <td>0.023320</td>\n",
       "      <td>0.090955</td>\n",
       "      <td>0.002577</td>\n",
       "      <td>0.000754</td>\n",
       "      <td>0.797033</td>\n",
       "      <td>0.315545</td>\n",
       "      <td>...</td>\n",
       "      <td>0.150732</td>\n",
       "      <td>0.708278</td>\n",
       "      <td>0.031869</td>\n",
       "      <td>0.929977</td>\n",
       "      <td>0.884594</td>\n",
       "      <td>0.209881</td>\n",
       "      <td>0.099189</td>\n",
       "      <td>0.548369</td>\n",
       "      <td>0.137344</td>\n",
       "      <td>0.704695</td>\n",
       "      <td>0.797347</td>\n",
       "      <td>0.371299</td>\n",
       "      <td>0.207681</td>\n",
       "      <td>0.199573</td>\n",
       "      <td>0.004714</td>\n",
       "      <td>0.900685</td>\n",
       "      <td>0.910428</td>\n",
       "      <td>0.054560</td>\n",
       "      <td>0.879565</td>\n",
       "      <td>0.727450</td>\n",
       "      <td>0.744233</td>\n",
       "      <td>0.129235</td>\n",
       "      <td>0.232070</td>\n",
       "      <td>0.194418</td>\n",
       "      <td>0.158715</td>\n",
       "      <td>0.139292</td>\n",
       "      <td>0.163304</td>\n",
       "      <td>0.115532</td>\n",
       "      <td>0.002137</td>\n",
       "      <td>0.062292</td>\n",
       "      <td>0.000503</td>\n",
       "      <td>0.001571</td>\n",
       "      <td>0.003457</td>\n",
       "      <td>0.502860</td>\n",
       "      <td>0.231127</td>\n",
       "      <td>0.005531</td>\n",
       "      <td>0.051355</td>\n",
       "      <td>0.063486</td>\n",
       "      <td>0.103652</td>\n",
       "      <td>0.085738</td>\n",
       "      <td>0.697090</td>\n",
       "      <td>0.458671</td>\n",
       "      <td>0.004023</td>\n",
       "      <td>0.002011</td>\n",
       "      <td>0.040040</td>\n",
       "      <td>0.231190</td>\n",
       "      <td>0.512163</td>\n",
       "      <td>0.029229</td>\n",
       "      <td>0.986926</td>\n",
       "      <td>0.000251</td>\n",
       "    </tr>\n",
       "    <tr>\n",
       "      <th>std</th>\n",
       "      <td>7377.200813</td>\n",
       "      <td>36982.838757</td>\n",
       "      <td>0.704943</td>\n",
       "      <td>1.121355</td>\n",
       "      <td>0.339241</td>\n",
       "      <td>26.666504</td>\n",
       "      <td>0.431372</td>\n",
       "      <td>275.852413</td>\n",
       "      <td>199.672043</td>\n",
       "      <td>18.022786</td>\n",
       "      <td>0.221110</td>\n",
       "      <td>0.064278</td>\n",
       "      <td>0.499508</td>\n",
       "      <td>0.493918</td>\n",
       "      <td>0.127988</td>\n",
       "      <td>0.443829</td>\n",
       "      <td>0.007928</td>\n",
       "      <td>0.254982</td>\n",
       "      <td>0.410991</td>\n",
       "      <td>0.336924</td>\n",
       "      <td>0.236145</td>\n",
       "      <td>0.191878</td>\n",
       "      <td>0.401289</td>\n",
       "      <td>0.498492</td>\n",
       "      <td>0.380405</td>\n",
       "      <td>0.054275</td>\n",
       "      <td>0.487386</td>\n",
       "      <td>0.499993</td>\n",
       "      <td>0.413279</td>\n",
       "      <td>0.148721</td>\n",
       "      <td>0.439765</td>\n",
       "      <td>0.498692</td>\n",
       "      <td>0.193084</td>\n",
       "      <td>0.470342</td>\n",
       "      <td>0.421687</td>\n",
       "      <td>0.214750</td>\n",
       "      <td>0.486252</td>\n",
       "      <td>0.481800</td>\n",
       "      <td>0.259798</td>\n",
       "      <td>0.495181</td>\n",
       "      <td>0.498877</td>\n",
       "      <td>0.223264</td>\n",
       "      <td>0.357123</td>\n",
       "      <td>0.491087</td>\n",
       "      <td>0.150923</td>\n",
       "      <td>0.287554</td>\n",
       "      <td>0.050702</td>\n",
       "      <td>0.027455</td>\n",
       "      <td>0.402221</td>\n",
       "      <td>0.464747</td>\n",
       "      <td>...</td>\n",
       "      <td>0.357799</td>\n",
       "      <td>0.454569</td>\n",
       "      <td>0.175656</td>\n",
       "      <td>0.255194</td>\n",
       "      <td>0.319522</td>\n",
       "      <td>0.407236</td>\n",
       "      <td>0.298925</td>\n",
       "      <td>0.497671</td>\n",
       "      <td>0.344221</td>\n",
       "      <td>0.456194</td>\n",
       "      <td>0.401988</td>\n",
       "      <td>0.483167</td>\n",
       "      <td>0.405660</td>\n",
       "      <td>0.399692</td>\n",
       "      <td>0.068501</td>\n",
       "      <td>0.299094</td>\n",
       "      <td>0.285576</td>\n",
       "      <td>0.227127</td>\n",
       "      <td>0.325480</td>\n",
       "      <td>0.445285</td>\n",
       "      <td>0.436305</td>\n",
       "      <td>0.335470</td>\n",
       "      <td>0.422167</td>\n",
       "      <td>0.395765</td>\n",
       "      <td>0.365422</td>\n",
       "      <td>0.346262</td>\n",
       "      <td>0.369654</td>\n",
       "      <td>0.319673</td>\n",
       "      <td>0.046181</td>\n",
       "      <td>0.241692</td>\n",
       "      <td>0.022420</td>\n",
       "      <td>0.039611</td>\n",
       "      <td>0.058698</td>\n",
       "      <td>0.500008</td>\n",
       "      <td>0.421567</td>\n",
       "      <td>0.074170</td>\n",
       "      <td>0.220727</td>\n",
       "      <td>0.243843</td>\n",
       "      <td>0.304818</td>\n",
       "      <td>0.279985</td>\n",
       "      <td>0.459531</td>\n",
       "      <td>0.498305</td>\n",
       "      <td>0.063300</td>\n",
       "      <td>0.044805</td>\n",
       "      <td>0.196060</td>\n",
       "      <td>0.421607</td>\n",
       "      <td>0.499868</td>\n",
       "      <td>0.168452</td>\n",
       "      <td>0.113597</td>\n",
       "      <td>0.015855</td>\n",
       "    </tr>\n",
       "    <tr>\n",
       "      <th>min</th>\n",
       "      <td>4950.000000</td>\n",
       "      <td>0.000000</td>\n",
       "      <td>5.000000</td>\n",
       "      <td>0.000000</td>\n",
       "      <td>0.000000</td>\n",
       "      <td>51.000000</td>\n",
       "      <td>0.000000</td>\n",
       "      <td>890.000000</td>\n",
       "      <td>840.000000</td>\n",
       "      <td>45.000000</td>\n",
       "      <td>0.000000</td>\n",
       "      <td>0.000000</td>\n",
       "      <td>0.000000</td>\n",
       "      <td>0.000000</td>\n",
       "      <td>0.000000</td>\n",
       "      <td>0.000000</td>\n",
       "      <td>0.000000</td>\n",
       "      <td>0.000000</td>\n",
       "      <td>0.000000</td>\n",
       "      <td>0.000000</td>\n",
       "      <td>0.000000</td>\n",
       "      <td>0.000000</td>\n",
       "      <td>0.000000</td>\n",
       "      <td>0.000000</td>\n",
       "      <td>0.000000</td>\n",
       "      <td>0.000000</td>\n",
       "      <td>0.000000</td>\n",
       "      <td>0.000000</td>\n",
       "      <td>0.000000</td>\n",
       "      <td>0.000000</td>\n",
       "      <td>0.000000</td>\n",
       "      <td>0.000000</td>\n",
       "      <td>0.000000</td>\n",
       "      <td>0.000000</td>\n",
       "      <td>0.000000</td>\n",
       "      <td>0.000000</td>\n",
       "      <td>0.000000</td>\n",
       "      <td>0.000000</td>\n",
       "      <td>0.000000</td>\n",
       "      <td>0.000000</td>\n",
       "      <td>0.000000</td>\n",
       "      <td>0.000000</td>\n",
       "      <td>0.000000</td>\n",
       "      <td>0.000000</td>\n",
       "      <td>0.000000</td>\n",
       "      <td>0.000000</td>\n",
       "      <td>0.000000</td>\n",
       "      <td>0.000000</td>\n",
       "      <td>0.000000</td>\n",
       "      <td>0.000000</td>\n",
       "      <td>...</td>\n",
       "      <td>0.000000</td>\n",
       "      <td>0.000000</td>\n",
       "      <td>0.000000</td>\n",
       "      <td>0.000000</td>\n",
       "      <td>0.000000</td>\n",
       "      <td>0.000000</td>\n",
       "      <td>0.000000</td>\n",
       "      <td>0.000000</td>\n",
       "      <td>0.000000</td>\n",
       "      <td>0.000000</td>\n",
       "      <td>0.000000</td>\n",
       "      <td>0.000000</td>\n",
       "      <td>0.000000</td>\n",
       "      <td>0.000000</td>\n",
       "      <td>0.000000</td>\n",
       "      <td>0.000000</td>\n",
       "      <td>0.000000</td>\n",
       "      <td>0.000000</td>\n",
       "      <td>0.000000</td>\n",
       "      <td>0.000000</td>\n",
       "      <td>0.000000</td>\n",
       "      <td>0.000000</td>\n",
       "      <td>0.000000</td>\n",
       "      <td>0.000000</td>\n",
       "      <td>0.000000</td>\n",
       "      <td>0.000000</td>\n",
       "      <td>0.000000</td>\n",
       "      <td>0.000000</td>\n",
       "      <td>0.000000</td>\n",
       "      <td>0.000000</td>\n",
       "      <td>0.000000</td>\n",
       "      <td>0.000000</td>\n",
       "      <td>0.000000</td>\n",
       "      <td>0.000000</td>\n",
       "      <td>0.000000</td>\n",
       "      <td>0.000000</td>\n",
       "      <td>0.000000</td>\n",
       "      <td>0.000000</td>\n",
       "      <td>0.000000</td>\n",
       "      <td>0.000000</td>\n",
       "      <td>0.000000</td>\n",
       "      <td>0.000000</td>\n",
       "      <td>0.000000</td>\n",
       "      <td>0.000000</td>\n",
       "      <td>0.000000</td>\n",
       "      <td>0.000000</td>\n",
       "      <td>0.000000</td>\n",
       "      <td>0.000000</td>\n",
       "      <td>0.000000</td>\n",
       "      <td>0.000000</td>\n",
       "    </tr>\n",
       "    <tr>\n",
       "      <th>25%</th>\n",
       "      <td>12850.000000</td>\n",
       "      <td>1913.000000</td>\n",
       "      <td>5.000000</td>\n",
       "      <td>0.000000</td>\n",
       "      <td>1.000000</td>\n",
       "      <td>66.000000</td>\n",
       "      <td>0.000000</td>\n",
       "      <td>1229.000000</td>\n",
       "      <td>1165.000000</td>\n",
       "      <td>104.000000</td>\n",
       "      <td>1.000000</td>\n",
       "      <td>0.000000</td>\n",
       "      <td>0.000000</td>\n",
       "      <td>0.000000</td>\n",
       "      <td>0.000000</td>\n",
       "      <td>0.000000</td>\n",
       "      <td>0.000000</td>\n",
       "      <td>0.000000</td>\n",
       "      <td>1.000000</td>\n",
       "      <td>0.000000</td>\n",
       "      <td>0.000000</td>\n",
       "      <td>0.000000</td>\n",
       "      <td>0.000000</td>\n",
       "      <td>0.000000</td>\n",
       "      <td>0.000000</td>\n",
       "      <td>0.000000</td>\n",
       "      <td>0.000000</td>\n",
       "      <td>0.000000</td>\n",
       "      <td>0.000000</td>\n",
       "      <td>0.000000</td>\n",
       "      <td>0.000000</td>\n",
       "      <td>0.000000</td>\n",
       "      <td>0.000000</td>\n",
       "      <td>0.000000</td>\n",
       "      <td>0.000000</td>\n",
       "      <td>0.000000</td>\n",
       "      <td>0.000000</td>\n",
       "      <td>0.000000</td>\n",
       "      <td>1.000000</td>\n",
       "      <td>0.000000</td>\n",
       "      <td>0.000000</td>\n",
       "      <td>0.000000</td>\n",
       "      <td>0.000000</td>\n",
       "      <td>0.000000</td>\n",
       "      <td>0.000000</td>\n",
       "      <td>0.000000</td>\n",
       "      <td>0.000000</td>\n",
       "      <td>0.000000</td>\n",
       "      <td>1.000000</td>\n",
       "      <td>0.000000</td>\n",
       "      <td>...</td>\n",
       "      <td>0.000000</td>\n",
       "      <td>0.000000</td>\n",
       "      <td>0.000000</td>\n",
       "      <td>1.000000</td>\n",
       "      <td>1.000000</td>\n",
       "      <td>0.000000</td>\n",
       "      <td>0.000000</td>\n",
       "      <td>0.000000</td>\n",
       "      <td>0.000000</td>\n",
       "      <td>0.000000</td>\n",
       "      <td>1.000000</td>\n",
       "      <td>0.000000</td>\n",
       "      <td>0.000000</td>\n",
       "      <td>0.000000</td>\n",
       "      <td>0.000000</td>\n",
       "      <td>1.000000</td>\n",
       "      <td>1.000000</td>\n",
       "      <td>0.000000</td>\n",
       "      <td>1.000000</td>\n",
       "      <td>0.000000</td>\n",
       "      <td>0.000000</td>\n",
       "      <td>0.000000</td>\n",
       "      <td>0.000000</td>\n",
       "      <td>0.000000</td>\n",
       "      <td>0.000000</td>\n",
       "      <td>0.000000</td>\n",
       "      <td>0.000000</td>\n",
       "      <td>0.000000</td>\n",
       "      <td>0.000000</td>\n",
       "      <td>0.000000</td>\n",
       "      <td>0.000000</td>\n",
       "      <td>0.000000</td>\n",
       "      <td>0.000000</td>\n",
       "      <td>0.000000</td>\n",
       "      <td>0.000000</td>\n",
       "      <td>0.000000</td>\n",
       "      <td>0.000000</td>\n",
       "      <td>0.000000</td>\n",
       "      <td>0.000000</td>\n",
       "      <td>0.000000</td>\n",
       "      <td>0.000000</td>\n",
       "      <td>0.000000</td>\n",
       "      <td>0.000000</td>\n",
       "      <td>0.000000</td>\n",
       "      <td>0.000000</td>\n",
       "      <td>0.000000</td>\n",
       "      <td>0.000000</td>\n",
       "      <td>0.000000</td>\n",
       "      <td>1.000000</td>\n",
       "      <td>0.000000</td>\n",
       "    </tr>\n",
       "    <tr>\n",
       "      <th>50%</th>\n",
       "      <td>16900.000000</td>\n",
       "      <td>20410.000000</td>\n",
       "      <td>6.000000</td>\n",
       "      <td>1.000000</td>\n",
       "      <td>1.000000</td>\n",
       "      <td>85.000000</td>\n",
       "      <td>0.000000</td>\n",
       "      <td>1461.000000</td>\n",
       "      <td>1295.000000</td>\n",
       "      <td>117.000000</td>\n",
       "      <td>1.000000</td>\n",
       "      <td>0.000000</td>\n",
       "      <td>0.000000</td>\n",
       "      <td>1.000000</td>\n",
       "      <td>0.000000</td>\n",
       "      <td>1.000000</td>\n",
       "      <td>0.000000</td>\n",
       "      <td>0.000000</td>\n",
       "      <td>1.000000</td>\n",
       "      <td>0.000000</td>\n",
       "      <td>0.000000</td>\n",
       "      <td>0.000000</td>\n",
       "      <td>0.000000</td>\n",
       "      <td>0.000000</td>\n",
       "      <td>0.000000</td>\n",
       "      <td>0.000000</td>\n",
       "      <td>1.000000</td>\n",
       "      <td>1.000000</td>\n",
       "      <td>0.000000</td>\n",
       "      <td>0.000000</td>\n",
       "      <td>1.000000</td>\n",
       "      <td>1.000000</td>\n",
       "      <td>0.000000</td>\n",
       "      <td>1.000000</td>\n",
       "      <td>0.000000</td>\n",
       "      <td>0.000000</td>\n",
       "      <td>0.000000</td>\n",
       "      <td>1.000000</td>\n",
       "      <td>1.000000</td>\n",
       "      <td>1.000000</td>\n",
       "      <td>0.000000</td>\n",
       "      <td>0.000000</td>\n",
       "      <td>0.000000</td>\n",
       "      <td>1.000000</td>\n",
       "      <td>0.000000</td>\n",
       "      <td>0.000000</td>\n",
       "      <td>0.000000</td>\n",
       "      <td>0.000000</td>\n",
       "      <td>1.000000</td>\n",
       "      <td>0.000000</td>\n",
       "      <td>...</td>\n",
       "      <td>0.000000</td>\n",
       "      <td>1.000000</td>\n",
       "      <td>0.000000</td>\n",
       "      <td>1.000000</td>\n",
       "      <td>1.000000</td>\n",
       "      <td>0.000000</td>\n",
       "      <td>0.000000</td>\n",
       "      <td>1.000000</td>\n",
       "      <td>0.000000</td>\n",
       "      <td>1.000000</td>\n",
       "      <td>1.000000</td>\n",
       "      <td>0.000000</td>\n",
       "      <td>0.000000</td>\n",
       "      <td>0.000000</td>\n",
       "      <td>0.000000</td>\n",
       "      <td>1.000000</td>\n",
       "      <td>1.000000</td>\n",
       "      <td>0.000000</td>\n",
       "      <td>1.000000</td>\n",
       "      <td>1.000000</td>\n",
       "      <td>1.000000</td>\n",
       "      <td>0.000000</td>\n",
       "      <td>0.000000</td>\n",
       "      <td>0.000000</td>\n",
       "      <td>0.000000</td>\n",
       "      <td>0.000000</td>\n",
       "      <td>0.000000</td>\n",
       "      <td>0.000000</td>\n",
       "      <td>0.000000</td>\n",
       "      <td>0.000000</td>\n",
       "      <td>0.000000</td>\n",
       "      <td>0.000000</td>\n",
       "      <td>0.000000</td>\n",
       "      <td>1.000000</td>\n",
       "      <td>0.000000</td>\n",
       "      <td>0.000000</td>\n",
       "      <td>0.000000</td>\n",
       "      <td>0.000000</td>\n",
       "      <td>0.000000</td>\n",
       "      <td>0.000000</td>\n",
       "      <td>1.000000</td>\n",
       "      <td>0.000000</td>\n",
       "      <td>0.000000</td>\n",
       "      <td>0.000000</td>\n",
       "      <td>0.000000</td>\n",
       "      <td>0.000000</td>\n",
       "      <td>1.000000</td>\n",
       "      <td>0.000000</td>\n",
       "      <td>1.000000</td>\n",
       "      <td>0.000000</td>\n",
       "    </tr>\n",
       "    <tr>\n",
       "      <th>75%</th>\n",
       "      <td>21900.000000</td>\n",
       "      <td>46900.000000</td>\n",
       "      <td>6.000000</td>\n",
       "      <td>2.000000</td>\n",
       "      <td>1.000000</td>\n",
       "      <td>103.000000</td>\n",
       "      <td>0.000000</td>\n",
       "      <td>1598.000000</td>\n",
       "      <td>1472.000000</td>\n",
       "      <td>129.000000</td>\n",
       "      <td>1.000000</td>\n",
       "      <td>0.000000</td>\n",
       "      <td>1.000000</td>\n",
       "      <td>1.000000</td>\n",
       "      <td>0.000000</td>\n",
       "      <td>1.000000</td>\n",
       "      <td>0.000000</td>\n",
       "      <td>0.000000</td>\n",
       "      <td>1.000000</td>\n",
       "      <td>0.000000</td>\n",
       "      <td>0.000000</td>\n",
       "      <td>0.000000</td>\n",
       "      <td>0.000000</td>\n",
       "      <td>1.000000</td>\n",
       "      <td>0.000000</td>\n",
       "      <td>0.000000</td>\n",
       "      <td>1.000000</td>\n",
       "      <td>1.000000</td>\n",
       "      <td>0.000000</td>\n",
       "      <td>0.000000</td>\n",
       "      <td>1.000000</td>\n",
       "      <td>1.000000</td>\n",
       "      <td>0.000000</td>\n",
       "      <td>1.000000</td>\n",
       "      <td>0.000000</td>\n",
       "      <td>0.000000</td>\n",
       "      <td>1.000000</td>\n",
       "      <td>1.000000</td>\n",
       "      <td>1.000000</td>\n",
       "      <td>1.000000</td>\n",
       "      <td>1.000000</td>\n",
       "      <td>0.000000</td>\n",
       "      <td>0.000000</td>\n",
       "      <td>1.000000</td>\n",
       "      <td>0.000000</td>\n",
       "      <td>0.000000</td>\n",
       "      <td>0.000000</td>\n",
       "      <td>0.000000</td>\n",
       "      <td>1.000000</td>\n",
       "      <td>1.000000</td>\n",
       "      <td>...</td>\n",
       "      <td>0.000000</td>\n",
       "      <td>1.000000</td>\n",
       "      <td>0.000000</td>\n",
       "      <td>1.000000</td>\n",
       "      <td>1.000000</td>\n",
       "      <td>0.000000</td>\n",
       "      <td>0.000000</td>\n",
       "      <td>1.000000</td>\n",
       "      <td>0.000000</td>\n",
       "      <td>1.000000</td>\n",
       "      <td>1.000000</td>\n",
       "      <td>1.000000</td>\n",
       "      <td>0.000000</td>\n",
       "      <td>0.000000</td>\n",
       "      <td>0.000000</td>\n",
       "      <td>1.000000</td>\n",
       "      <td>1.000000</td>\n",
       "      <td>0.000000</td>\n",
       "      <td>1.000000</td>\n",
       "      <td>1.000000</td>\n",
       "      <td>1.000000</td>\n",
       "      <td>0.000000</td>\n",
       "      <td>0.000000</td>\n",
       "      <td>0.000000</td>\n",
       "      <td>0.000000</td>\n",
       "      <td>0.000000</td>\n",
       "      <td>0.000000</td>\n",
       "      <td>0.000000</td>\n",
       "      <td>0.000000</td>\n",
       "      <td>0.000000</td>\n",
       "      <td>0.000000</td>\n",
       "      <td>0.000000</td>\n",
       "      <td>0.000000</td>\n",
       "      <td>1.000000</td>\n",
       "      <td>0.000000</td>\n",
       "      <td>0.000000</td>\n",
       "      <td>0.000000</td>\n",
       "      <td>0.000000</td>\n",
       "      <td>0.000000</td>\n",
       "      <td>0.000000</td>\n",
       "      <td>1.000000</td>\n",
       "      <td>1.000000</td>\n",
       "      <td>0.000000</td>\n",
       "      <td>0.000000</td>\n",
       "      <td>0.000000</td>\n",
       "      <td>0.000000</td>\n",
       "      <td>1.000000</td>\n",
       "      <td>0.000000</td>\n",
       "      <td>1.000000</td>\n",
       "      <td>0.000000</td>\n",
       "    </tr>\n",
       "    <tr>\n",
       "      <th>max</th>\n",
       "      <td>74600.000000</td>\n",
       "      <td>317000.000000</td>\n",
       "      <td>8.000000</td>\n",
       "      <td>3.000000</td>\n",
       "      <td>4.000000</td>\n",
       "      <td>294.000000</td>\n",
       "      <td>1.000000</td>\n",
       "      <td>2967.000000</td>\n",
       "      <td>2471.000000</td>\n",
       "      <td>253.000000</td>\n",
       "      <td>1.000000</td>\n",
       "      <td>1.000000</td>\n",
       "      <td>1.000000</td>\n",
       "      <td>1.000000</td>\n",
       "      <td>1.000000</td>\n",
       "      <td>1.000000</td>\n",
       "      <td>1.000000</td>\n",
       "      <td>1.000000</td>\n",
       "      <td>1.000000</td>\n",
       "      <td>1.000000</td>\n",
       "      <td>1.000000</td>\n",
       "      <td>1.000000</td>\n",
       "      <td>1.000000</td>\n",
       "      <td>1.000000</td>\n",
       "      <td>1.000000</td>\n",
       "      <td>1.000000</td>\n",
       "      <td>1.000000</td>\n",
       "      <td>1.000000</td>\n",
       "      <td>1.000000</td>\n",
       "      <td>1.000000</td>\n",
       "      <td>1.000000</td>\n",
       "      <td>1.000000</td>\n",
       "      <td>1.000000</td>\n",
       "      <td>1.000000</td>\n",
       "      <td>1.000000</td>\n",
       "      <td>1.000000</td>\n",
       "      <td>1.000000</td>\n",
       "      <td>1.000000</td>\n",
       "      <td>1.000000</td>\n",
       "      <td>1.000000</td>\n",
       "      <td>1.000000</td>\n",
       "      <td>1.000000</td>\n",
       "      <td>1.000000</td>\n",
       "      <td>1.000000</td>\n",
       "      <td>1.000000</td>\n",
       "      <td>1.000000</td>\n",
       "      <td>1.000000</td>\n",
       "      <td>1.000000</td>\n",
       "      <td>1.000000</td>\n",
       "      <td>1.000000</td>\n",
       "      <td>...</td>\n",
       "      <td>1.000000</td>\n",
       "      <td>1.000000</td>\n",
       "      <td>1.000000</td>\n",
       "      <td>1.000000</td>\n",
       "      <td>1.000000</td>\n",
       "      <td>1.000000</td>\n",
       "      <td>1.000000</td>\n",
       "      <td>1.000000</td>\n",
       "      <td>1.000000</td>\n",
       "      <td>1.000000</td>\n",
       "      <td>1.000000</td>\n",
       "      <td>1.000000</td>\n",
       "      <td>1.000000</td>\n",
       "      <td>1.000000</td>\n",
       "      <td>1.000000</td>\n",
       "      <td>1.000000</td>\n",
       "      <td>1.000000</td>\n",
       "      <td>1.000000</td>\n",
       "      <td>1.000000</td>\n",
       "      <td>1.000000</td>\n",
       "      <td>1.000000</td>\n",
       "      <td>1.000000</td>\n",
       "      <td>1.000000</td>\n",
       "      <td>1.000000</td>\n",
       "      <td>1.000000</td>\n",
       "      <td>1.000000</td>\n",
       "      <td>1.000000</td>\n",
       "      <td>1.000000</td>\n",
       "      <td>1.000000</td>\n",
       "      <td>1.000000</td>\n",
       "      <td>1.000000</td>\n",
       "      <td>1.000000</td>\n",
       "      <td>1.000000</td>\n",
       "      <td>1.000000</td>\n",
       "      <td>1.000000</td>\n",
       "      <td>1.000000</td>\n",
       "      <td>1.000000</td>\n",
       "      <td>1.000000</td>\n",
       "      <td>1.000000</td>\n",
       "      <td>1.000000</td>\n",
       "      <td>1.000000</td>\n",
       "      <td>1.000000</td>\n",
       "      <td>1.000000</td>\n",
       "      <td>1.000000</td>\n",
       "      <td>1.000000</td>\n",
       "      <td>1.000000</td>\n",
       "      <td>1.000000</td>\n",
       "      <td>1.000000</td>\n",
       "      <td>1.000000</td>\n",
       "      <td>1.000000</td>\n",
       "    </tr>\n",
       "  </tbody>\n",
       "</table>\n",
       "<p>8 rows × 131 columns</p>\n",
       "</div>"
      ],
      "text/plain": [
       "             price            km        Gears          age  Previous_Owners  \\\n",
       "count 15909.000000  15909.000000 15909.000000 15909.000000     15909.000000   \n",
       "mean  18020.241876  32092.436526     5.937268     1.389591         1.042869   \n",
       "std    7377.200813  36982.838757     0.704943     1.121355         0.339241   \n",
       "min    4950.000000      0.000000     5.000000     0.000000         0.000000   \n",
       "25%   12850.000000   1913.000000     5.000000     0.000000         1.000000   \n",
       "50%   16900.000000  20410.000000     6.000000     1.000000         1.000000   \n",
       "75%   21900.000000  46900.000000     6.000000     2.000000         1.000000   \n",
       "max   74600.000000 317000.000000     8.000000     3.000000         4.000000   \n",
       "\n",
       "             hp_kW  Inspection_new  Displacement_cc    Weight_kg  \\\n",
       "count 15909.000000    15909.000000     15909.000000 15909.000000   \n",
       "mean     88.497769        0.247156      1428.657364  1337.675467   \n",
       "std      26.666504        0.431372       275.852413   199.672043   \n",
       "min      51.000000        0.000000       890.000000   840.000000   \n",
       "25%      66.000000        0.000000      1229.000000  1165.000000   \n",
       "50%      85.000000        0.000000      1461.000000  1295.000000   \n",
       "75%     103.000000        0.000000      1598.000000  1472.000000   \n",
       "max     294.000000        1.000000      2967.000000  2471.000000   \n",
       "\n",
       "       CO2_Emission  cc_Air conditioning  cc_Air suspension   cc_Armrest  \\\n",
       "count  15909.000000         15909.000000       15909.000000 15909.000000   \n",
       "mean     117.783110             0.948457           0.004149     0.477466   \n",
       "std       18.022786             0.221110           0.064278     0.499508   \n",
       "min       45.000000             0.000000           0.000000     0.000000   \n",
       "25%      104.000000             1.000000           0.000000     0.000000   \n",
       "50%      117.000000             1.000000           0.000000     0.000000   \n",
       "75%      129.000000             1.000000           0.000000     1.000000   \n",
       "max      253.000000             1.000000           1.000000     1.000000   \n",
       "\n",
       "       cc_Automatic climate control  cc_Auxiliary heating  cc_Cruise control  \\\n",
       "count                  15909.000000          15909.000000       15909.000000   \n",
       "mean                       0.577849              0.016657           0.730278   \n",
       "std                        0.493918              0.127988           0.443829   \n",
       "min                        0.000000              0.000000           0.000000   \n",
       "25%                        0.000000              0.000000           0.000000   \n",
       "50%                        1.000000              0.000000           1.000000   \n",
       "75%                        1.000000              0.000000           1.000000   \n",
       "max                        1.000000              1.000000           1.000000   \n",
       "\n",
       "       cc_Electric Starter  cc_Electric tailgate  cc_Electrical side mirrors  \\\n",
       "count         15909.000000          15909.000000                15909.000000   \n",
       "mean              0.000063              0.069898                    0.784776   \n",
       "std               0.007928              0.254982                    0.410991   \n",
       "min               0.000000              0.000000                    0.000000   \n",
       "25%               0.000000              0.000000                    1.000000   \n",
       "50%               0.000000              0.000000                    1.000000   \n",
       "75%               0.000000              0.000000                    1.000000   \n",
       "max               1.000000              1.000000                    1.000000   \n",
       "\n",
       "       cc_Electrically adjustable seats  cc_Electrically heated windshield  \\\n",
       "count                      15909.000000                       15909.000000   \n",
       "mean                           0.130555                           0.059275   \n",
       "std                            0.336924                           0.236145   \n",
       "min                            0.000000                           0.000000   \n",
       "25%                            0.000000                           0.000000   \n",
       "50%                            0.000000                           0.000000   \n",
       "75%                            0.000000                           0.000000   \n",
       "max                            1.000000                           1.000000   \n",
       "\n",
       "       cc_Heads-up display  cc_Heated steering wheel  cc_Hill Holder  \\\n",
       "count         15909.000000              15909.000000    15909.000000   \n",
       "mean              0.038280                  0.201710        0.460997   \n",
       "std               0.191878                  0.401289        0.498492   \n",
       "min               0.000000                  0.000000        0.000000   \n",
       "25%               0.000000                  0.000000        0.000000   \n",
       "50%               0.000000                  0.000000        0.000000   \n",
       "75%               0.000000                  0.000000        1.000000   \n",
       "max               1.000000                  1.000000        1.000000   \n",
       "\n",
       "       cc_Keyless central door lock  cc_Leather seats  \\\n",
       "count                  15909.000000      15909.000000   \n",
       "mean                       0.175498          0.002954   \n",
       "std                        0.380405          0.054275   \n",
       "min                        0.000000          0.000000   \n",
       "25%                        0.000000          0.000000   \n",
       "50%                        0.000000          0.000000   \n",
       "75%                        0.000000          0.000000   \n",
       "max                        1.000000          1.000000   \n",
       "\n",
       "       cc_Leather steering wheel  cc_Light sensor  cc_Lumbar support  \\\n",
       "count               15909.000000     15909.000000       15909.000000   \n",
       "mean                    0.611666         0.504746           0.218556   \n",
       "std                     0.487386         0.499993           0.413279   \n",
       "min                     0.000000         0.000000           0.000000   \n",
       "25%                     0.000000         0.000000           0.000000   \n",
       "50%                     1.000000         1.000000           0.000000   \n",
       "75%                     1.000000         1.000000           0.000000   \n",
       "max                     1.000000         1.000000           1.000000   \n",
       "\n",
       "       cc_Massage seats  cc_Multi-function steering wheel  \\\n",
       "count      15909.000000                      15909.000000   \n",
       "mean           0.022629                          0.737947   \n",
       "std            0.148721                          0.439765   \n",
       "min            0.000000                          0.000000   \n",
       "25%            0.000000                          0.000000   \n",
       "50%            0.000000                          1.000000   \n",
       "75%            0.000000                          1.000000   \n",
       "max            1.000000                          1.000000   \n",
       "\n",
       "       cc_Navigation system  cc_Panorama roof  cc_Park Distance Control  \\\n",
       "count          15909.000000      15909.000000              15909.000000   \n",
       "mean               0.536363          0.038783                  0.669684   \n",
       "std                0.498692          0.193084                  0.470342   \n",
       "min                0.000000          0.000000                  0.000000   \n",
       "25%                0.000000          0.000000                  0.000000   \n",
       "50%                1.000000          0.000000                  1.000000   \n",
       "75%                1.000000          0.000000                  1.000000   \n",
       "max                1.000000          1.000000                  1.000000   \n",
       "\n",
       "       cc_Parking assist system camera  \\\n",
       "count                     15909.000000   \n",
       "mean                          0.231316   \n",
       "std                           0.421687   \n",
       "min                           0.000000   \n",
       "25%                           0.000000   \n",
       "50%                           0.000000   \n",
       "75%                           0.000000   \n",
       "max                           1.000000   \n",
       "\n",
       "       cc_Parking assist system self-steering  \\\n",
       "count                            15909.000000   \n",
       "mean                                 0.048463   \n",
       "std                                  0.214750   \n",
       "min                                  0.000000   \n",
       "25%                                  0.000000   \n",
       "50%                                  0.000000   \n",
       "75%                                  0.000000   \n",
       "max                                  1.000000   \n",
       "\n",
       "       cc_Parking assist system sensors front  \\\n",
       "count                            15909.000000   \n",
       "mean                                 0.383494   \n",
       "std                                  0.486252   \n",
       "min                                  0.000000   \n",
       "25%                                  0.000000   \n",
       "50%                                  0.000000   \n",
       "75%                                  1.000000   \n",
       "max                                  1.000000   \n",
       "\n",
       "       cc_Parking assist system sensors rear  cc_Power windows  \\\n",
       "count                           15909.000000      15909.000000   \n",
       "mean                                0.633729          0.927211   \n",
       "std                                 0.481800          0.259798   \n",
       "min                                 0.000000          0.000000   \n",
       "25%                                 0.000000          1.000000   \n",
       "50%                                 1.000000          1.000000   \n",
       "75%                                 1.000000          1.000000   \n",
       "max                                 1.000000          1.000000   \n",
       "\n",
       "       cc_Rain sensor  cc_Seat heating  cc_Seat ventilation  \\\n",
       "count    15909.000000     15909.000000         15909.000000   \n",
       "mean         0.569363         0.466277             0.052612   \n",
       "std          0.495181         0.498877             0.223264   \n",
       "min          0.000000         0.000000             0.000000   \n",
       "25%          0.000000         0.000000             0.000000   \n",
       "50%          1.000000         0.000000             0.000000   \n",
       "75%          1.000000         1.000000             0.000000   \n",
       "max          1.000000         1.000000             1.000000   \n",
       "\n",
       "       cc_Split rear seats  cc_Start-stop system   cc_Sunroof  \\\n",
       "count         15909.000000          15909.000000 15909.000000   \n",
       "mean              0.150041              0.594066     0.023320   \n",
       "std               0.357123              0.491087     0.150923   \n",
       "min               0.000000              0.000000     0.000000   \n",
       "25%               0.000000              0.000000     0.000000   \n",
       "50%               0.000000              1.000000     0.000000   \n",
       "75%               0.000000              1.000000     0.000000   \n",
       "max               1.000000              1.000000     1.000000   \n",
       "\n",
       "       cc_Tinted windows  cc_Wind deflector  cc_Windshield  em_Bluetooth  \\\n",
       "count       15909.000000       15909.000000   15909.000000  15909.000000   \n",
       "mean            0.090955           0.002577       0.000754      0.797033   \n",
       "std             0.287554           0.050702       0.027455      0.402221   \n",
       "min             0.000000           0.000000       0.000000      0.000000   \n",
       "25%             0.000000           0.000000       0.000000      1.000000   \n",
       "50%             0.000000           0.000000       0.000000      1.000000   \n",
       "75%             0.000000           0.000000       0.000000      1.000000   \n",
       "max             1.000000           1.000000       1.000000      1.000000   \n",
       "\n",
       "       em_CD player  ...  ss_Central door lock with remote control  \\\n",
       "count  15909.000000  ...                              15909.000000   \n",
       "mean       0.315545  ...                                  0.150732   \n",
       "std        0.464747  ...                                  0.357799   \n",
       "min        0.000000  ...                                  0.000000   \n",
       "25%        0.000000  ...                                  0.000000   \n",
       "50%        0.000000  ...                                  0.000000   \n",
       "75%        1.000000  ...                                  0.000000   \n",
       "max        1.000000  ...                                  1.000000   \n",
       "\n",
       "       ss_Daytime running lights  ss_Driver drowsiness detection  \\\n",
       "count               15909.000000                    15909.000000   \n",
       "mean                    0.708278                        0.031869   \n",
       "std                     0.454569                        0.175656   \n",
       "min                     0.000000                        0.000000   \n",
       "25%                     0.000000                        0.000000   \n",
       "50%                     1.000000                        0.000000   \n",
       "75%                     1.000000                        0.000000   \n",
       "max                     1.000000                        1.000000   \n",
       "\n",
       "       ss_Driver-side airbag  ss_Electronic stability control  \\\n",
       "count           15909.000000                     15909.000000   \n",
       "mean                0.929977                         0.884594   \n",
       "std                 0.255194                         0.319522   \n",
       "min                 0.000000                         0.000000   \n",
       "25%                 1.000000                         1.000000   \n",
       "50%                 1.000000                         1.000000   \n",
       "75%                 1.000000                         1.000000   \n",
       "max                 1.000000                         1.000000   \n",
       "\n",
       "       ss_Emergency brake assistant  ss_Emergency system  ss_Fog lights  \\\n",
       "count                  15909.000000         15909.000000   15909.000000   \n",
       "mean                       0.209881             0.099189       0.548369   \n",
       "std                        0.407236             0.298925       0.497671   \n",
       "min                        0.000000             0.000000       0.000000   \n",
       "25%                        0.000000             0.000000       0.000000   \n",
       "50%                        0.000000             0.000000       1.000000   \n",
       "75%                        0.000000             0.000000       1.000000   \n",
       "max                        1.000000             1.000000       1.000000   \n",
       "\n",
       "       ss_Head airbag  ss_Immobilizer    ss_Isofix  \\\n",
       "count    15909.000000    15909.000000 15909.000000   \n",
       "mean         0.137344        0.704695     0.797347   \n",
       "std          0.344221        0.456194     0.401988   \n",
       "min          0.000000        0.000000     0.000000   \n",
       "25%          0.000000        0.000000     1.000000   \n",
       "50%          0.000000        1.000000     1.000000   \n",
       "75%          0.000000        1.000000     1.000000   \n",
       "max          1.000000        1.000000     1.000000   \n",
       "\n",
       "       ss_LED Daytime Running Lights  ss_LED Headlights  \\\n",
       "count                   15909.000000       15909.000000   \n",
       "mean                        0.371299           0.207681   \n",
       "std                         0.483167           0.405660   \n",
       "min                         0.000000           0.000000   \n",
       "25%                         0.000000           0.000000   \n",
       "50%                         0.000000           0.000000   \n",
       "75%                         1.000000           0.000000   \n",
       "max                         1.000000           1.000000   \n",
       "\n",
       "       ss_Lane departure warning system  ss_Night view assist  \\\n",
       "count                      15909.000000          15909.000000   \n",
       "mean                           0.199573              0.004714   \n",
       "std                            0.399692              0.068501   \n",
       "min                            0.000000              0.000000   \n",
       "25%                            0.000000              0.000000   \n",
       "50%                            0.000000              0.000000   \n",
       "75%                            0.000000              0.000000   \n",
       "max                            1.000000              1.000000   \n",
       "\n",
       "       ss_Passenger-side airbag  ss_Power steering  ss_Rear airbag  \\\n",
       "count              15909.000000       15909.000000    15909.000000   \n",
       "mean                   0.900685           0.910428        0.054560   \n",
       "std                    0.299094           0.285576        0.227127   \n",
       "min                    0.000000           0.000000        0.000000   \n",
       "25%                    1.000000           1.000000        0.000000   \n",
       "50%                    1.000000           1.000000        0.000000   \n",
       "75%                    1.000000           1.000000        0.000000   \n",
       "max                    1.000000           1.000000        1.000000   \n",
       "\n",
       "       ss_Side airbag  ss_Tire pressure monitoring system  \\\n",
       "count    15909.000000                        15909.000000   \n",
       "mean         0.879565                            0.727450   \n",
       "std          0.325480                            0.445285   \n",
       "min          0.000000                            0.000000   \n",
       "25%          1.000000                            0.000000   \n",
       "50%          1.000000                            1.000000   \n",
       "75%          1.000000                            1.000000   \n",
       "max          1.000000                            1.000000   \n",
       "\n",
       "       ss_Traction control  ss_Traffic sign recognition  ss_Xenon headlights  \\\n",
       "count         15909.000000                 15909.000000         15909.000000   \n",
       "mean              0.744233                     0.129235             0.232070   \n",
       "std               0.436305                     0.335470             0.422167   \n",
       "min               0.000000                     0.000000             0.000000   \n",
       "25%               0.000000                     0.000000             0.000000   \n",
       "50%               1.000000                     0.000000             0.000000   \n",
       "75%               1.000000                     0.000000             0.000000   \n",
       "max               1.000000                     1.000000             1.000000   \n",
       "\n",
       "       make_model_Audi A3  make_model_Opel Astra  make_model_Opel Corsa  \\\n",
       "count        15909.000000           15909.000000           15909.000000   \n",
       "mean             0.194418               0.158715               0.139292   \n",
       "std              0.395765               0.365422               0.346262   \n",
       "min              0.000000               0.000000               0.000000   \n",
       "25%              0.000000               0.000000               0.000000   \n",
       "50%              0.000000               0.000000               0.000000   \n",
       "75%              0.000000               0.000000               0.000000   \n",
       "max              1.000000               1.000000               1.000000   \n",
       "\n",
       "       make_model_Opel Insignia  make_model_Renault Clio  \\\n",
       "count              15909.000000             15909.000000   \n",
       "mean                   0.163304                 0.115532   \n",
       "std                    0.369654                 0.319673   \n",
       "min                    0.000000                 0.000000   \n",
       "25%                    0.000000                 0.000000   \n",
       "50%                    0.000000                 0.000000   \n",
       "75%                    0.000000                 0.000000   \n",
       "max                    1.000000                 1.000000   \n",
       "\n",
       "       make_model_Renault Duster  make_model_Renault Espace  \\\n",
       "count               15909.000000               15909.000000   \n",
       "mean                    0.002137                   0.062292   \n",
       "std                     0.046181                   0.241692   \n",
       "min                     0.000000                   0.000000   \n",
       "25%                     0.000000                   0.000000   \n",
       "50%                     0.000000                   0.000000   \n",
       "75%                     0.000000                   0.000000   \n",
       "max                     1.000000                   1.000000   \n",
       "\n",
       "       body_type_Convertible  body_type_Coupe  body_type_Off-Road  \\\n",
       "count           15909.000000     15909.000000        15909.000000   \n",
       "mean                0.000503         0.001571            0.003457   \n",
       "std                 0.022420         0.039611            0.058698   \n",
       "min                 0.000000         0.000000            0.000000   \n",
       "25%                 0.000000         0.000000            0.000000   \n",
       "50%                 0.000000         0.000000            0.000000   \n",
       "75%                 0.000000         0.000000            0.000000   \n",
       "max                 1.000000         1.000000            1.000000   \n",
       "\n",
       "       body_type_Sedans  body_type_Station wagon  body_type_Transporter  \\\n",
       "count      15909.000000             15909.000000           15909.000000   \n",
       "mean           0.502860                 0.231127               0.005531   \n",
       "std            0.500008                 0.421567               0.074170   \n",
       "min            0.000000                 0.000000               0.000000   \n",
       "25%            0.000000                 0.000000               0.000000   \n",
       "50%            1.000000                 0.000000               0.000000   \n",
       "75%            1.000000                 0.000000               0.000000   \n",
       "max            1.000000                 1.000000               1.000000   \n",
       "\n",
       "       body_type_Van  Type_Employee's car     Type_New  Type_Pre-registered  \\\n",
       "count   15909.000000         15909.000000 15909.000000         15909.000000   \n",
       "mean        0.051355             0.063486     0.103652             0.085738   \n",
       "std         0.220727             0.243843     0.304818             0.279985   \n",
       "min         0.000000             0.000000     0.000000             0.000000   \n",
       "25%         0.000000             0.000000     0.000000             0.000000   \n",
       "50%         0.000000             0.000000     0.000000             0.000000   \n",
       "75%         0.000000             0.000000     0.000000             0.000000   \n",
       "max         1.000000             1.000000     1.000000             1.000000   \n",
       "\n",
       "         Type_Used  Fuel_Diesel  Fuel_LPG/CNG  Paint_Type_Perl effect  \\\n",
       "count 15909.000000 15909.000000  15909.000000            15909.000000   \n",
       "mean      0.697090     0.458671      0.004023                0.002011   \n",
       "std       0.459531     0.498305      0.063300                0.044805   \n",
       "min       0.000000     0.000000      0.000000                0.000000   \n",
       "25%       0.000000     0.000000      0.000000                0.000000   \n",
       "50%       1.000000     0.000000      0.000000                0.000000   \n",
       "75%       1.000000     1.000000      0.000000                0.000000   \n",
       "max       1.000000     1.000000      1.000000                1.000000   \n",
       "\n",
       "       Paint_Type_Uni/basic  Upholstery_type_Part/Full Leather  \\\n",
       "count          15909.000000                       15909.000000   \n",
       "mean               0.040040                           0.231190   \n",
       "std                0.196060                           0.421607   \n",
       "min                0.000000                           0.000000   \n",
       "25%                0.000000                           0.000000   \n",
       "50%                0.000000                           0.000000   \n",
       "75%                0.000000                           0.000000   \n",
       "max                1.000000                           1.000000   \n",
       "\n",
       "       Gearing_Type_Manual  Gearing_Type_Semi-automatic  Drive_chain_front  \\\n",
       "count         15909.000000                 15909.000000       15909.000000   \n",
       "mean              0.512163                     0.029229           0.986926   \n",
       "std               0.499868                     0.168452           0.113597   \n",
       "min               0.000000                     0.000000           0.000000   \n",
       "25%               0.000000                     0.000000           1.000000   \n",
       "50%               1.000000                     0.000000           1.000000   \n",
       "75%               1.000000                     0.000000           1.000000   \n",
       "max               1.000000                     1.000000           1.000000   \n",
       "\n",
       "       Drive_chain_rear  \n",
       "count      15909.000000  \n",
       "mean           0.000251  \n",
       "std            0.015855  \n",
       "min            0.000000  \n",
       "25%            0.000000  \n",
       "50%            0.000000  \n",
       "75%            0.000000  \n",
       "max            1.000000  \n",
       "\n",
       "[8 rows x 131 columns]"
      ]
     },
     "execution_count": 1554,
     "metadata": {},
     "output_type": "execute_result"
    }
   ],
   "source": [
    "df.describe()"
   ]
  },
  {
   "cell_type": "code",
   "execution_count": 1555,
   "metadata": {},
   "outputs": [
    {
     "data": {
      "text/plain": [
       "1689"
      ]
     },
     "execution_count": 1555,
     "metadata": {},
     "output_type": "execute_result"
    }
   ],
   "source": [
    "df.duplicated().sum()"
   ]
  },
  {
   "cell_type": "code",
   "execution_count": 1556,
   "metadata": {},
   "outputs": [],
   "source": [
    "# df_not_dummy = pd.read_csv(\"final_scout_not_dummy_instr.csv\")\n",
    "# df_not_dummy.info()"
   ]
  },
  {
   "cell_type": "code",
   "execution_count": 1557,
   "metadata": {
    "code_folding": []
   },
   "outputs": [],
   "source": [
    "# df.drop_duplicates(inplace=True)"
   ]
  },
  {
   "cell_type": "code",
   "execution_count": 1558,
   "metadata": {},
   "outputs": [],
   "source": [
    "# df.shape"
   ]
  },
  {
   "cell_type": "code",
   "execution_count": 1559,
   "metadata": {
    "scrolled": false
   },
   "outputs": [],
   "source": [
    "# df.describe()"
   ]
  },
  {
   "cell_type": "markdown",
   "metadata": {
    "id": "QsEUUAAKmqZN"
   },
   "source": [
    "# Data Pre-Processing"
   ]
  },
  {
   "cell_type": "markdown",
   "metadata": {
    "id": "QtVkM6f2mqZN"
   },
   "source": [
    "As you know, the data set must be edited before proceeding to the implementation of the model. As the last step before model fitting, you need to spilit the data set as train and test. Then, you should train the model with train data and evaluate the performance of the model on the test data. You can use the train and test data you have created for all algorithms.\n",
    "\n",
    "You must also drop your target variable, the column you are trying to predict."
   ]
  },
  {
   "cell_type": "markdown",
   "metadata": {
    "id": "K7d_92iemqZN"
   },
   "source": [
    "You can use many [performance metrics for regression](https://medium.com/analytics-vidhya/evaluation-metrics-for-regression-problems-343c4923d922) to measure the performance of the regression model you train. You can define a function to view different metric results together.\n",
    "\n",
    "You can also use the [cross validation](https://towardsdatascience.com/cross-validation-explained-evaluating-estimator-performance-e51e5430ff85) method to measure the estimator performance. Cross validation uses different data samples from your test set and calculates the accuracy score for each data sample. You can calculate the final performance of your estimator by averaging these scores."
   ]
  },
  {
   "cell_type": "code",
   "execution_count": 1560,
   "metadata": {
    "id": "-3gMQ3utmqZN"
   },
   "outputs": [],
   "source": [
    "X = df.drop(\"price\", axis=1)\n",
    "y = df[\"price\"]"
   ]
  },
  {
   "cell_type": "code",
   "execution_count": 1561,
   "metadata": {},
   "outputs": [],
   "source": [
    "# splitting the data\n",
    "\n",
    "from sklearn.model_selection import train_test_split\n",
    "\n",
    "X_train, X_test, y_train, y_test = train_test_split(X, y, test_size=0.3, random_state=42)"
   ]
  },
  {
   "cell_type": "markdown",
   "metadata": {
    "id": "An_5ITcAmqZO"
   },
   "source": [
    "# Implement Linear Regression"
   ]
  },
  {
   "cell_type": "markdown",
   "metadata": {
    "id": "0c0y-w8vmqZO"
   },
   "source": [
    " - Import the modul\n",
    " - Fit the model \n",
    " - Predict the test set\n",
    " - Determine feature coefficiant\n",
    " - Evaluate model performance (use performance metrics for regression and cross_val_score)\n",
    " - Compare different evaluation metrics\n",
    " \n",
    "*Note: You can use the [dir()](https://www.geeksforgeeks.org/python-dir-function/) function to see the methods you need.*"
   ]
  },
  {
   "cell_type": "code",
   "execution_count": 1562,
   "metadata": {},
   "outputs": [],
   "source": [
    "# import necessary machine learning libraries\n",
    "\n",
    "from sklearn.linear_model import LinearRegression, Ridge, RidgeCV, Lasso, LassoCV\n",
    "from sklearn.preprocessing import StandardScaler, MinMaxScaler, RobustScaler\n",
    "from sklearn.metrics import mean_absolute_error, mean_squared_error, r2_score"
   ]
  },
  {
   "cell_type": "code",
   "execution_count": 1563,
   "metadata": {},
   "outputs": [],
   "source": [
    "# define a function to compare evaluation metrics of train and test data\n",
    "\n",
    "def train_val(y_train, y_train_pred, y_test, y_pred, model_name):\n",
    "    \n",
    "    scores = {model_name+\"_train\": {\"R2\" : r2_score(y_train, y_train_pred),\n",
    "    \"mae\" : mean_absolute_error(y_train, y_train_pred),\n",
    "    \"mse\" : mean_squared_error(y_train, y_train_pred),                          \n",
    "    \"rmse\" : np.sqrt(mean_squared_error(y_train, y_train_pred))},\n",
    "    \n",
    "    model_name+\"_test\": {\"R2\" : r2_score(y_test, y_pred),\n",
    "    \"mae\" : mean_absolute_error(y_test, y_pred),\n",
    "    \"mse\" : mean_squared_error(y_test, y_pred),\n",
    "    \"rmse\" : np.sqrt(mean_squared_error(y_test, y_pred))}}\n",
    "    \n",
    "    return pd.DataFrame(scores)"
   ]
  },
  {
   "cell_type": "markdown",
   "metadata": {},
   "source": [
    "## Linear regression without scaling"
   ]
  },
  {
   "cell_type": "code",
   "execution_count": 1564,
   "metadata": {},
   "outputs": [],
   "source": [
    "# create  an empty model object\n",
    "\n",
    "model_linear = LinearRegression()"
   ]
  },
  {
   "cell_type": "code",
   "execution_count": 1565,
   "metadata": {},
   "outputs": [
    {
     "data": {
      "text/html": [
       "<style>#sk-container-id-125 {color: black;background-color: white;}#sk-container-id-125 pre{padding: 0;}#sk-container-id-125 div.sk-toggleable {background-color: white;}#sk-container-id-125 label.sk-toggleable__label {cursor: pointer;display: block;width: 100%;margin-bottom: 0;padding: 0.3em;box-sizing: border-box;text-align: center;}#sk-container-id-125 label.sk-toggleable__label-arrow:before {content: \"▸\";float: left;margin-right: 0.25em;color: #696969;}#sk-container-id-125 label.sk-toggleable__label-arrow:hover:before {color: black;}#sk-container-id-125 div.sk-estimator:hover label.sk-toggleable__label-arrow:before {color: black;}#sk-container-id-125 div.sk-toggleable__content {max-height: 0;max-width: 0;overflow: hidden;text-align: left;background-color: #f0f8ff;}#sk-container-id-125 div.sk-toggleable__content pre {margin: 0.2em;color: black;border-radius: 0.25em;background-color: #f0f8ff;}#sk-container-id-125 input.sk-toggleable__control:checked~div.sk-toggleable__content {max-height: 200px;max-width: 100%;overflow: auto;}#sk-container-id-125 input.sk-toggleable__control:checked~label.sk-toggleable__label-arrow:before {content: \"▾\";}#sk-container-id-125 div.sk-estimator input.sk-toggleable__control:checked~label.sk-toggleable__label {background-color: #d4ebff;}#sk-container-id-125 div.sk-label input.sk-toggleable__control:checked~label.sk-toggleable__label {background-color: #d4ebff;}#sk-container-id-125 input.sk-hidden--visually {border: 0;clip: rect(1px 1px 1px 1px);clip: rect(1px, 1px, 1px, 1px);height: 1px;margin: -1px;overflow: hidden;padding: 0;position: absolute;width: 1px;}#sk-container-id-125 div.sk-estimator {font-family: monospace;background-color: #f0f8ff;border: 1px dotted black;border-radius: 0.25em;box-sizing: border-box;margin-bottom: 0.5em;}#sk-container-id-125 div.sk-estimator:hover {background-color: #d4ebff;}#sk-container-id-125 div.sk-parallel-item::after {content: \"\";width: 100%;border-bottom: 1px solid gray;flex-grow: 1;}#sk-container-id-125 div.sk-label:hover label.sk-toggleable__label {background-color: #d4ebff;}#sk-container-id-125 div.sk-serial::before {content: \"\";position: absolute;border-left: 1px solid gray;box-sizing: border-box;top: 0;bottom: 0;left: 50%;z-index: 0;}#sk-container-id-125 div.sk-serial {display: flex;flex-direction: column;align-items: center;background-color: white;padding-right: 0.2em;padding-left: 0.2em;position: relative;}#sk-container-id-125 div.sk-item {position: relative;z-index: 1;}#sk-container-id-125 div.sk-parallel {display: flex;align-items: stretch;justify-content: center;background-color: white;position: relative;}#sk-container-id-125 div.sk-item::before, #sk-container-id-125 div.sk-parallel-item::before {content: \"\";position: absolute;border-left: 1px solid gray;box-sizing: border-box;top: 0;bottom: 0;left: 50%;z-index: -1;}#sk-container-id-125 div.sk-parallel-item {display: flex;flex-direction: column;z-index: 1;position: relative;background-color: white;}#sk-container-id-125 div.sk-parallel-item:first-child::after {align-self: flex-end;width: 50%;}#sk-container-id-125 div.sk-parallel-item:last-child::after {align-self: flex-start;width: 50%;}#sk-container-id-125 div.sk-parallel-item:only-child::after {width: 0;}#sk-container-id-125 div.sk-dashed-wrapped {border: 1px dashed gray;margin: 0 0.4em 0.5em 0.4em;box-sizing: border-box;padding-bottom: 0.4em;background-color: white;}#sk-container-id-125 div.sk-label label {font-family: monospace;font-weight: bold;display: inline-block;line-height: 1.2em;}#sk-container-id-125 div.sk-label-container {text-align: center;}#sk-container-id-125 div.sk-container {/* jupyter's `normalize.less` sets `[hidden] { display: none; }` but bootstrap.min.css set `[hidden] { display: none !important; }` so we also need the `!important` here to be able to override the default hidden behavior on the sphinx rendered scikit-learn.org. See: https://github.com/scikit-learn/scikit-learn/issues/21755 */display: inline-block !important;position: relative;}#sk-container-id-125 div.sk-text-repr-fallback {display: none;}</style><div id=\"sk-container-id-125\" class=\"sk-top-container\"><div class=\"sk-text-repr-fallback\"><pre>LinearRegression()</pre><b>In a Jupyter environment, please rerun this cell to show the HTML representation or trust the notebook. <br />On GitHub, the HTML representation is unable to render, please try loading this page with nbviewer.org.</b></div><div class=\"sk-container\" hidden><div class=\"sk-item\"><div class=\"sk-estimator sk-toggleable\"><input class=\"sk-toggleable__control sk-hidden--visually\" id=\"sk-estimator-id-161\" type=\"checkbox\" checked><label for=\"sk-estimator-id-161\" class=\"sk-toggleable__label sk-toggleable__label-arrow\">LinearRegression</label><div class=\"sk-toggleable__content\"><pre>LinearRegression()</pre></div></div></div></div></div>"
      ],
      "text/plain": [
       "LinearRegression()"
      ]
     },
     "execution_count": 1565,
     "metadata": {},
     "output_type": "execute_result"
    }
   ],
   "source": [
    "# fit model with train data\n",
    "\n",
    "model_linear.fit(X_train, y_train)"
   ]
  },
  {
   "cell_type": "code",
   "execution_count": 1566,
   "metadata": {},
   "outputs": [
    {
     "data": {
      "text/plain": [
       "array([12844.26971349,  7480.00761386, 12015.62587135, ...,\n",
       "       10254.16222126, 15741.9099945 , 36705.42045648])"
      ]
     },
     "execution_count": 1566,
     "metadata": {},
     "output_type": "execute_result"
    }
   ],
   "source": [
    "# predicton with test data\n",
    "\n",
    "y_test_pred= model_linear.predict(X_test)\n",
    "y_test_pred"
   ]
  },
  {
   "cell_type": "code",
   "execution_count": 1567,
   "metadata": {},
   "outputs": [
    {
     "data": {
      "text/plain": [
       "array([17409.55781383, 14325.03725159, 19670.05412118, ...,\n",
       "       19722.96030728, 37178.92679813, 17073.85278693])"
      ]
     },
     "execution_count": 1567,
     "metadata": {},
     "output_type": "execute_result"
    }
   ],
   "source": [
    "# predicton with train data\n",
    "\n",
    "y_train_pred = model_linear.predict(X_train)\n",
    "y_train_pred"
   ]
  },
  {
   "cell_type": "code",
   "execution_count": 1568,
   "metadata": {
    "scrolled": false
   },
   "outputs": [
    {
     "data": {
      "text/html": [
       "<div>\n",
       "<style scoped>\n",
       "    .dataframe tbody tr th:only-of-type {\n",
       "        vertical-align: middle;\n",
       "    }\n",
       "\n",
       "    .dataframe tbody tr th {\n",
       "        vertical-align: top;\n",
       "    }\n",
       "\n",
       "    .dataframe thead th {\n",
       "        text-align: right;\n",
       "    }\n",
       "</style>\n",
       "<table border=\"1\" class=\"dataframe\">\n",
       "  <thead>\n",
       "    <tr style=\"text-align: right;\">\n",
       "      <th></th>\n",
       "      <th>Lm_train</th>\n",
       "      <th>Lm_test</th>\n",
       "    </tr>\n",
       "  </thead>\n",
       "  <tbody>\n",
       "    <tr>\n",
       "      <th>R2</th>\n",
       "      <td>0.893157</td>\n",
       "      <td>0.882850</td>\n",
       "    </tr>\n",
       "    <tr>\n",
       "      <th>mae</th>\n",
       "      <td>1676.831325</td>\n",
       "      <td>1728.127943</td>\n",
       "    </tr>\n",
       "    <tr>\n",
       "      <th>mse</th>\n",
       "      <td>5713523.565390</td>\n",
       "      <td>6631687.677788</td>\n",
       "    </tr>\n",
       "    <tr>\n",
       "      <th>rmse</th>\n",
       "      <td>2390.297798</td>\n",
       "      <td>2575.206337</td>\n",
       "    </tr>\n",
       "  </tbody>\n",
       "</table>\n",
       "</div>"
      ],
      "text/plain": [
       "           Lm_train        Lm_test\n",
       "R2         0.893157       0.882850\n",
       "mae     1676.831325    1728.127943\n",
       "mse  5713523.565390 6631687.677788\n",
       "rmse    2390.297798    2575.206337"
      ]
     },
     "execution_count": 1568,
     "metadata": {},
     "output_type": "execute_result"
    }
   ],
   "source": [
    "# comparison of evaluation metrics for test and train data\n",
    "\n",
    "lm = train_val(y_train, y_train_pred, y_test, y_test_pred, \"Lm\")\n",
    "lm"
   ]
  },
  {
   "cell_type": "code",
   "execution_count": 1569,
   "metadata": {
    "scrolled": true
   },
   "outputs": [
    {
     "data": {
      "text/plain": [
       "19571.865786656945"
      ]
     },
     "execution_count": 1569,
     "metadata": {},
     "output_type": "execute_result"
    }
   ],
   "source": [
    "# linear model intercept\n",
    "\n",
    "model_linear.intercept_"
   ]
  },
  {
   "cell_type": "code",
   "execution_count": 1570,
   "metadata": {
    "scrolled": false
   },
   "outputs": [
    {
     "data": {
      "text/plain": [
       "array([-3.62480933e-02,  6.04843626e+02, -1.61912948e+03,  1.74423648e+02,\n",
       "        9.27578125e+01, -2.16031678e+02, -3.67116430e-01, -1.29027176e+00,\n",
       "       -1.14724506e+01,  2.13250736e+02, -2.41078556e+02,  1.61753243e+01,\n",
       "        2.77807039e+02, -8.53057275e+01,  3.11943490e+02, -1.43915908e+03,\n",
       "        3.07928147e+01,  9.54820511e+01,  4.76637242e+01,  4.35970668e+02,\n",
       "        2.44949922e+03,  4.53482398e+02,  1.18172033e+02,  6.15060229e+01,\n",
       "       -2.11165238e+02,  1.73178039e+02,  8.14500669e+01, -3.45973475e+02,\n",
       "        4.28613585e+02,  1.57995322e+02,  2.63729755e+02, -2.81639102e+02,\n",
       "        6.67719803e+02,  6.29967083e+01,  1.03798748e+03,  2.60107926e+02,\n",
       "       -5.87561998e+02,  7.37566817e+01, -3.05497101e+02, -3.38937283e+01,\n",
       "        8.18555804e+02, -2.32366420e+02,  5.16324894e+00,  6.30598857e+02,\n",
       "        6.91271480e+01, -1.04152566e+03, -7.54382311e+02, -3.82051115e+02,\n",
       "        1.10198607e+02,  7.15894614e+02, -6.57625335e+00,  7.23465265e+01,\n",
       "       -1.09529157e+02,  1.03079380e+02, -2.66500245e+02, -5.47329094e+02,\n",
       "       -3.60969651e+02,  2.34389253e+02,  2.57777527e+02,  2.22258711e+02,\n",
       "       -1.04377899e+03, -9.68039836e+02,  3.03691356e+01,  5.07981922e+01,\n",
       "       -3.07394419e+02, -3.15712648e+02,  6.62202260e+02,  9.42127579e+01,\n",
       "       -1.19252494e+02, -2.38532117e+02,  1.48128455e+02,  1.30032736e+03,\n",
       "       -9.39123918e+01,  9.64367439e+01,  2.67235523e+02,  2.22541090e+02,\n",
       "        5.25808771e+01,  1.25727352e+02, -2.55890500e+02, -3.39258145e+02,\n",
       "       -1.04722134e+02, -1.36603968e+02, -3.25371432e+01, -1.00648357e+02,\n",
       "       -2.45421605e+02,  2.66920769e+02, -7.81438095e+02, -9.74944078e+01,\n",
       "       -3.55693929e+01, -2.85339278e+02, -4.71691151e+02, -1.84859343e+02,\n",
       "        7.95591729e+02,  7.26763101e+02, -1.20371379e+02,  4.65895216e+02,\n",
       "       -5.24064024e+02, -7.80500405e+02,  1.94168899e+02,  1.00854428e+02,\n",
       "        8.56572577e+01,  7.89987930e+01, -2.82099134e+02,  1.22329925e+03,\n",
       "       -3.92289079e+03, -5.18549286e+03, -1.33601323e+03, -5.45187460e+03,\n",
       "       -1.03754256e+04,  3.36705878e+03,  1.27302932e+02, -3.26521426e+02,\n",
       "        4.91116929e+02,  1.05432643e+02,  3.05101728e+02, -1.01607571e+03,\n",
       "        1.53563636e+03, -2.99585537e+03, -9.55701203e+02, -2.32406179e+03,\n",
       "       -2.84932739e+03,  4.56945711e+02,  2.67399091e+01,  1.83670384e+03,\n",
       "        1.48814265e+02,  2.66178977e+02, -1.37961461e+03,  2.06130349e+03,\n",
       "       -2.65788542e+03, -4.27522298e+03])"
      ]
     },
     "execution_count": 1570,
     "metadata": {},
     "output_type": "execute_result"
    }
   ],
   "source": [
    "# linear model coefficients\n",
    "\n",
    "model_linear.coef_"
   ]
  },
  {
   "cell_type": "code",
   "execution_count": 1571,
   "metadata": {
    "scrolled": true
   },
   "outputs": [
    {
     "name": "stdout",
     "output_type": "stream",
     "text": [
      "train RMSE: 0.13264515618003667\n",
      "test RMSE: 0.14290631362041908\n"
     ]
    }
   ],
   "source": [
    "print(\"train RMSE:\", 2390.297798/df[\"price\"].mean())\n",
    "print(\"test RMSE:\", 2575.206337/df[\"price\"].mean())"
   ]
  },
  {
   "cell_type": "markdown",
   "metadata": {},
   "source": [
    "## Linear regression with scaling using StandartScaler"
   ]
  },
  {
   "cell_type": "code",
   "execution_count": 1572,
   "metadata": {},
   "outputs": [],
   "source": [
    "# create an empty StandartScaler object\n",
    "\n",
    "scaler = StandardScaler()  "
   ]
  },
  {
   "cell_type": "code",
   "execution_count": 1573,
   "metadata": {},
   "outputs": [],
   "source": [
    "# scale train data applying fit and transform\n",
    "\n",
    "Xz_train= scaler.fit_transform(X_train)"
   ]
  },
  {
   "cell_type": "code",
   "execution_count": 1574,
   "metadata": {},
   "outputs": [],
   "source": [
    "# scaling test data only applying transform to prevent data leakage\n",
    "\n",
    "Xz_test = scaler.transform(X_test)"
   ]
  },
  {
   "cell_type": "code",
   "execution_count": 1575,
   "metadata": {},
   "outputs": [
    {
     "data": {
      "text/html": [
       "<style>#sk-container-id-126 {color: black;background-color: white;}#sk-container-id-126 pre{padding: 0;}#sk-container-id-126 div.sk-toggleable {background-color: white;}#sk-container-id-126 label.sk-toggleable__label {cursor: pointer;display: block;width: 100%;margin-bottom: 0;padding: 0.3em;box-sizing: border-box;text-align: center;}#sk-container-id-126 label.sk-toggleable__label-arrow:before {content: \"▸\";float: left;margin-right: 0.25em;color: #696969;}#sk-container-id-126 label.sk-toggleable__label-arrow:hover:before {color: black;}#sk-container-id-126 div.sk-estimator:hover label.sk-toggleable__label-arrow:before {color: black;}#sk-container-id-126 div.sk-toggleable__content {max-height: 0;max-width: 0;overflow: hidden;text-align: left;background-color: #f0f8ff;}#sk-container-id-126 div.sk-toggleable__content pre {margin: 0.2em;color: black;border-radius: 0.25em;background-color: #f0f8ff;}#sk-container-id-126 input.sk-toggleable__control:checked~div.sk-toggleable__content {max-height: 200px;max-width: 100%;overflow: auto;}#sk-container-id-126 input.sk-toggleable__control:checked~label.sk-toggleable__label-arrow:before {content: \"▾\";}#sk-container-id-126 div.sk-estimator input.sk-toggleable__control:checked~label.sk-toggleable__label {background-color: #d4ebff;}#sk-container-id-126 div.sk-label input.sk-toggleable__control:checked~label.sk-toggleable__label {background-color: #d4ebff;}#sk-container-id-126 input.sk-hidden--visually {border: 0;clip: rect(1px 1px 1px 1px);clip: rect(1px, 1px, 1px, 1px);height: 1px;margin: -1px;overflow: hidden;padding: 0;position: absolute;width: 1px;}#sk-container-id-126 div.sk-estimator {font-family: monospace;background-color: #f0f8ff;border: 1px dotted black;border-radius: 0.25em;box-sizing: border-box;margin-bottom: 0.5em;}#sk-container-id-126 div.sk-estimator:hover {background-color: #d4ebff;}#sk-container-id-126 div.sk-parallel-item::after {content: \"\";width: 100%;border-bottom: 1px solid gray;flex-grow: 1;}#sk-container-id-126 div.sk-label:hover label.sk-toggleable__label {background-color: #d4ebff;}#sk-container-id-126 div.sk-serial::before {content: \"\";position: absolute;border-left: 1px solid gray;box-sizing: border-box;top: 0;bottom: 0;left: 50%;z-index: 0;}#sk-container-id-126 div.sk-serial {display: flex;flex-direction: column;align-items: center;background-color: white;padding-right: 0.2em;padding-left: 0.2em;position: relative;}#sk-container-id-126 div.sk-item {position: relative;z-index: 1;}#sk-container-id-126 div.sk-parallel {display: flex;align-items: stretch;justify-content: center;background-color: white;position: relative;}#sk-container-id-126 div.sk-item::before, #sk-container-id-126 div.sk-parallel-item::before {content: \"\";position: absolute;border-left: 1px solid gray;box-sizing: border-box;top: 0;bottom: 0;left: 50%;z-index: -1;}#sk-container-id-126 div.sk-parallel-item {display: flex;flex-direction: column;z-index: 1;position: relative;background-color: white;}#sk-container-id-126 div.sk-parallel-item:first-child::after {align-self: flex-end;width: 50%;}#sk-container-id-126 div.sk-parallel-item:last-child::after {align-self: flex-start;width: 50%;}#sk-container-id-126 div.sk-parallel-item:only-child::after {width: 0;}#sk-container-id-126 div.sk-dashed-wrapped {border: 1px dashed gray;margin: 0 0.4em 0.5em 0.4em;box-sizing: border-box;padding-bottom: 0.4em;background-color: white;}#sk-container-id-126 div.sk-label label {font-family: monospace;font-weight: bold;display: inline-block;line-height: 1.2em;}#sk-container-id-126 div.sk-label-container {text-align: center;}#sk-container-id-126 div.sk-container {/* jupyter's `normalize.less` sets `[hidden] { display: none; }` but bootstrap.min.css set `[hidden] { display: none !important; }` so we also need the `!important` here to be able to override the default hidden behavior on the sphinx rendered scikit-learn.org. See: https://github.com/scikit-learn/scikit-learn/issues/21755 */display: inline-block !important;position: relative;}#sk-container-id-126 div.sk-text-repr-fallback {display: none;}</style><div id=\"sk-container-id-126\" class=\"sk-top-container\"><div class=\"sk-text-repr-fallback\"><pre>LinearRegression()</pre><b>In a Jupyter environment, please rerun this cell to show the HTML representation or trust the notebook. <br />On GitHub, the HTML representation is unable to render, please try loading this page with nbviewer.org.</b></div><div class=\"sk-container\" hidden><div class=\"sk-item\"><div class=\"sk-estimator sk-toggleable\"><input class=\"sk-toggleable__control sk-hidden--visually\" id=\"sk-estimator-id-162\" type=\"checkbox\" checked><label for=\"sk-estimator-id-162\" class=\"sk-toggleable__label sk-toggleable__label-arrow\">LinearRegression</label><div class=\"sk-toggleable__content\"><pre>LinearRegression()</pre></div></div></div></div></div>"
      ],
      "text/plain": [
       "LinearRegression()"
      ]
     },
     "execution_count": 1575,
     "metadata": {},
     "output_type": "execute_result"
    }
   ],
   "source": [
    "# fit the model with scaled train data\n",
    "\n",
    "model_linear.fit(Xz_train, y_train)"
   ]
  },
  {
   "cell_type": "code",
   "execution_count": 1576,
   "metadata": {},
   "outputs": [
    {
     "data": {
      "text/plain": [
       "array([12844.26971353,  7480.00761381, 12015.62587136, ...,\n",
       "       10254.16222131, 15741.90999448, 36705.42045634])"
      ]
     },
     "execution_count": 1576,
     "metadata": {},
     "output_type": "execute_result"
    }
   ],
   "source": [
    "# prediction with scaled test data\n",
    "\n",
    "y_test_pred= model_linear.predict(Xz_test)\n",
    "y_test_pred"
   ]
  },
  {
   "cell_type": "code",
   "execution_count": 1577,
   "metadata": {},
   "outputs": [
    {
     "data": {
      "text/plain": [
       "array([17409.55781382, 14325.03725162, 19670.0541211 , ...,\n",
       "       19722.96030736, 37178.92679805, 17073.85278695])"
      ]
     },
     "execution_count": 1577,
     "metadata": {},
     "output_type": "execute_result"
    }
   ],
   "source": [
    "# prediction with scaled train data\n",
    "\n",
    "y_train_pred = model_linear.predict(Xz_train)\n",
    "y_train_pred"
   ]
  },
  {
   "cell_type": "code",
   "execution_count": 1578,
   "metadata": {},
   "outputs": [
    {
     "data": {
      "text/html": [
       "<div>\n",
       "<style scoped>\n",
       "    .dataframe tbody tr th:only-of-type {\n",
       "        vertical-align: middle;\n",
       "    }\n",
       "\n",
       "    .dataframe tbody tr th {\n",
       "        vertical-align: top;\n",
       "    }\n",
       "\n",
       "    .dataframe thead th {\n",
       "        text-align: right;\n",
       "    }\n",
       "</style>\n",
       "<table border=\"1\" class=\"dataframe\">\n",
       "  <thead>\n",
       "    <tr style=\"text-align: right;\">\n",
       "      <th></th>\n",
       "      <th>Linear_StandartScaler_train</th>\n",
       "      <th>Linear_StandartScaler_test</th>\n",
       "    </tr>\n",
       "  </thead>\n",
       "  <tbody>\n",
       "    <tr>\n",
       "      <th>R2</th>\n",
       "      <td>0.893157</td>\n",
       "      <td>0.882850</td>\n",
       "    </tr>\n",
       "    <tr>\n",
       "      <th>mae</th>\n",
       "      <td>1676.831325</td>\n",
       "      <td>1728.127943</td>\n",
       "    </tr>\n",
       "    <tr>\n",
       "      <th>mse</th>\n",
       "      <td>5713523.565390</td>\n",
       "      <td>6631687.677799</td>\n",
       "    </tr>\n",
       "    <tr>\n",
       "      <th>rmse</th>\n",
       "      <td>2390.297798</td>\n",
       "      <td>2575.206337</td>\n",
       "    </tr>\n",
       "  </tbody>\n",
       "</table>\n",
       "</div>"
      ],
      "text/plain": [
       "      Linear_StandartScaler_train  Linear_StandartScaler_test\n",
       "R2                       0.893157                    0.882850\n",
       "mae                   1676.831325                 1728.127943\n",
       "mse                5713523.565390              6631687.677799\n",
       "rmse                  2390.297798                 2575.206337"
      ]
     },
     "execution_count": 1578,
     "metadata": {},
     "output_type": "execute_result"
    }
   ],
   "source": [
    "# comparison of evaluation metrics for test and train data\n",
    "\n",
    "train_val(y_train, y_train_pred, y_test, y_test_pred, \"Linear_StandartScaler\")"
   ]
  },
  {
   "cell_type": "code",
   "execution_count": 1579,
   "metadata": {
    "scrolled": true
   },
   "outputs": [
    {
     "data": {
      "text/plain": [
       "17978.459500718393"
      ]
     },
     "execution_count": 1579,
     "metadata": {},
     "output_type": "execute_result"
    }
   ],
   "source": [
    "# intercept for linear_StandartScaler model \n",
    "\n",
    "model_linear.intercept_"
   ]
  },
  {
   "cell_type": "code",
   "execution_count": 1580,
   "metadata": {
    "scrolled": true
   },
   "outputs": [
    {
     "data": {
      "text/plain": [
       "array([-1.34768475e+03,  4.27683646e+02, -1.80743905e+03,  5.84766999e+01,\n",
       "        2.45579645e+03, -9.33419851e+01, -1.01209864e+02, -2.59062408e+02,\n",
       "       -2.05197574e+02,  4.87110381e+01, -1.59563819e+01,  8.07982899e+00,\n",
       "        1.37248353e+02, -1.10472324e+01,  1.38217334e+02, -1.36371837e+01,\n",
       "        7.88681429e+00,  3.91651052e+01,  1.61571889e+01,  1.02430061e+02,\n",
       "        4.63432145e+02,  1.80773094e+02,  5.89111984e+01,  2.34745876e+01,\n",
       "       -1.24746480e+01,  8.44215878e+01,  4.07231884e+01, -1.43361891e+02,\n",
       "        6.43572917e+01,  6.94846216e+01,  1.31444965e+02, -5.47459606e+01,\n",
       "        3.14638707e+02,  2.65100465e+01,  2.24910734e+02,  1.26520990e+02,\n",
       "       -2.83386606e+02,  1.90345579e+01, -1.51215051e+02, -1.69026379e+01,\n",
       "        1.84376658e+02, -8.33703200e+01,  2.53414088e+00,  9.68177377e+01,\n",
       "        1.99662837e+01, -5.12224228e+01, -2.14374228e+01, -1.53935996e+02,\n",
       "        5.12367625e+01,  2.49730583e+02, -3.13394844e+00,  3.53015443e+01,\n",
       "       -4.07132323e+01,  3.90012698e+01, -9.29159920e+01, -2.83699633e+01,\n",
       "       -1.79044626e+02,  7.62825289e+01,  3.57121192e+01,  7.70371460e+01,\n",
       "       -6.08686245e+01, -1.58865919e+01,  1.19656093e+01,  8.92406519e+00,\n",
       "       -3.94979710e+01, -2.99162993e+00,  1.75164547e+02,  3.74599044e+01,\n",
       "       -3.62337515e+01, -1.03704498e+02,  2.94162270e+01,  3.25912163e+01,\n",
       "       -4.18803659e+01,  1.22274354e+01,  6.20595538e+01,  6.16274460e+01,\n",
       "        1.81362934e+01,  4.12711358e+01, -7.22590626e+01, -1.20527068e+02,\n",
       "       -3.77637355e+01, -6.21745648e+01, -5.72380166e+00, -2.57937228e+01,\n",
       "       -7.94339815e+01,  1.08228365e+02, -2.33436369e+02, -4.85291996e+01,\n",
       "       -1.23020942e+01, -1.30206013e+02, -1.90364268e+02, -8.92984354e+01,\n",
       "        3.24580824e+02,  2.90842202e+02, -8.12731237e+00,  1.40954412e+02,\n",
       "       -1.49623657e+02, -1.78009808e+02,  6.33347953e+01,  4.48327189e+01,\n",
       "        3.75538373e+01,  2.65388154e+01, -1.19003290e+02,  4.82757539e+02,\n",
       "       -1.42935506e+03, -1.78024527e+03, -4.96287262e+02, -1.75937075e+03,\n",
       "       -4.28200631e+02,  8.19391764e+02,  1.70588516e+00, -1.41659872e+01,\n",
       "        2.78784370e+01,  5.27149611e+01,  1.28863475e+02, -7.85757329e+01,\n",
       "        3.40375636e+02, -7.24207804e+02, -2.89706647e+02, -6.50133838e+02,\n",
       "       -1.30541294e+03,  2.27861666e+02,  1.63907727e+00,  8.33852984e+01,\n",
       "        2.85440028e+01,  1.12484491e+02, -6.89652386e+02,  3.47483641e+02,\n",
       "       -2.90864018e+02, -7.01610823e+01])"
      ]
     },
     "execution_count": 1580,
     "metadata": {},
     "output_type": "execute_result"
    }
   ],
   "source": [
    "# coefficients for linear_StandartScaler model \n",
    "\n",
    "model_linear.coef_"
   ]
  },
  {
   "cell_type": "markdown",
   "metadata": {},
   "source": [
    "## Linear regression with scaling using MinMaxScaler"
   ]
  },
  {
   "cell_type": "code",
   "execution_count": 1581,
   "metadata": {},
   "outputs": [],
   "source": [
    "# create an empty MinMaxScaler object\n",
    "\n",
    "scaler = MinMaxScaler()"
   ]
  },
  {
   "cell_type": "code",
   "execution_count": 1582,
   "metadata": {},
   "outputs": [],
   "source": [
    "# scale train data applying fit and transform\n",
    "\n",
    "Xz_train= scaler.fit_transform(X_train)"
   ]
  },
  {
   "cell_type": "code",
   "execution_count": 1583,
   "metadata": {},
   "outputs": [],
   "source": [
    "# scaling test data only applying transform to prevent data leakage\n",
    "\n",
    "Xz_test = scaler.transform(X_test)"
   ]
  },
  {
   "cell_type": "code",
   "execution_count": 1584,
   "metadata": {},
   "outputs": [
    {
     "data": {
      "text/html": [
       "<style>#sk-container-id-127 {color: black;background-color: white;}#sk-container-id-127 pre{padding: 0;}#sk-container-id-127 div.sk-toggleable {background-color: white;}#sk-container-id-127 label.sk-toggleable__label {cursor: pointer;display: block;width: 100%;margin-bottom: 0;padding: 0.3em;box-sizing: border-box;text-align: center;}#sk-container-id-127 label.sk-toggleable__label-arrow:before {content: \"▸\";float: left;margin-right: 0.25em;color: #696969;}#sk-container-id-127 label.sk-toggleable__label-arrow:hover:before {color: black;}#sk-container-id-127 div.sk-estimator:hover label.sk-toggleable__label-arrow:before {color: black;}#sk-container-id-127 div.sk-toggleable__content {max-height: 0;max-width: 0;overflow: hidden;text-align: left;background-color: #f0f8ff;}#sk-container-id-127 div.sk-toggleable__content pre {margin: 0.2em;color: black;border-radius: 0.25em;background-color: #f0f8ff;}#sk-container-id-127 input.sk-toggleable__control:checked~div.sk-toggleable__content {max-height: 200px;max-width: 100%;overflow: auto;}#sk-container-id-127 input.sk-toggleable__control:checked~label.sk-toggleable__label-arrow:before {content: \"▾\";}#sk-container-id-127 div.sk-estimator input.sk-toggleable__control:checked~label.sk-toggleable__label {background-color: #d4ebff;}#sk-container-id-127 div.sk-label input.sk-toggleable__control:checked~label.sk-toggleable__label {background-color: #d4ebff;}#sk-container-id-127 input.sk-hidden--visually {border: 0;clip: rect(1px 1px 1px 1px);clip: rect(1px, 1px, 1px, 1px);height: 1px;margin: -1px;overflow: hidden;padding: 0;position: absolute;width: 1px;}#sk-container-id-127 div.sk-estimator {font-family: monospace;background-color: #f0f8ff;border: 1px dotted black;border-radius: 0.25em;box-sizing: border-box;margin-bottom: 0.5em;}#sk-container-id-127 div.sk-estimator:hover {background-color: #d4ebff;}#sk-container-id-127 div.sk-parallel-item::after {content: \"\";width: 100%;border-bottom: 1px solid gray;flex-grow: 1;}#sk-container-id-127 div.sk-label:hover label.sk-toggleable__label {background-color: #d4ebff;}#sk-container-id-127 div.sk-serial::before {content: \"\";position: absolute;border-left: 1px solid gray;box-sizing: border-box;top: 0;bottom: 0;left: 50%;z-index: 0;}#sk-container-id-127 div.sk-serial {display: flex;flex-direction: column;align-items: center;background-color: white;padding-right: 0.2em;padding-left: 0.2em;position: relative;}#sk-container-id-127 div.sk-item {position: relative;z-index: 1;}#sk-container-id-127 div.sk-parallel {display: flex;align-items: stretch;justify-content: center;background-color: white;position: relative;}#sk-container-id-127 div.sk-item::before, #sk-container-id-127 div.sk-parallel-item::before {content: \"\";position: absolute;border-left: 1px solid gray;box-sizing: border-box;top: 0;bottom: 0;left: 50%;z-index: -1;}#sk-container-id-127 div.sk-parallel-item {display: flex;flex-direction: column;z-index: 1;position: relative;background-color: white;}#sk-container-id-127 div.sk-parallel-item:first-child::after {align-self: flex-end;width: 50%;}#sk-container-id-127 div.sk-parallel-item:last-child::after {align-self: flex-start;width: 50%;}#sk-container-id-127 div.sk-parallel-item:only-child::after {width: 0;}#sk-container-id-127 div.sk-dashed-wrapped {border: 1px dashed gray;margin: 0 0.4em 0.5em 0.4em;box-sizing: border-box;padding-bottom: 0.4em;background-color: white;}#sk-container-id-127 div.sk-label label {font-family: monospace;font-weight: bold;display: inline-block;line-height: 1.2em;}#sk-container-id-127 div.sk-label-container {text-align: center;}#sk-container-id-127 div.sk-container {/* jupyter's `normalize.less` sets `[hidden] { display: none; }` but bootstrap.min.css set `[hidden] { display: none !important; }` so we also need the `!important` here to be able to override the default hidden behavior on the sphinx rendered scikit-learn.org. See: https://github.com/scikit-learn/scikit-learn/issues/21755 */display: inline-block !important;position: relative;}#sk-container-id-127 div.sk-text-repr-fallback {display: none;}</style><div id=\"sk-container-id-127\" class=\"sk-top-container\"><div class=\"sk-text-repr-fallback\"><pre>LinearRegression()</pre><b>In a Jupyter environment, please rerun this cell to show the HTML representation or trust the notebook. <br />On GitHub, the HTML representation is unable to render, please try loading this page with nbviewer.org.</b></div><div class=\"sk-container\" hidden><div class=\"sk-item\"><div class=\"sk-estimator sk-toggleable\"><input class=\"sk-toggleable__control sk-hidden--visually\" id=\"sk-estimator-id-163\" type=\"checkbox\" checked><label for=\"sk-estimator-id-163\" class=\"sk-toggleable__label sk-toggleable__label-arrow\">LinearRegression</label><div class=\"sk-toggleable__content\"><pre>LinearRegression()</pre></div></div></div></div></div>"
      ],
      "text/plain": [
       "LinearRegression()"
      ]
     },
     "execution_count": 1584,
     "metadata": {},
     "output_type": "execute_result"
    }
   ],
   "source": [
    "# fit the model with scaled train data\n",
    "\n",
    "model_linear.fit(Xz_train, y_train)"
   ]
  },
  {
   "cell_type": "code",
   "execution_count": 1585,
   "metadata": {
    "scrolled": true
   },
   "outputs": [
    {
     "data": {
      "text/plain": [
       "array([12844.26971353,  7480.00761381, 12015.62587136, ...,\n",
       "       10254.16222131, 15741.90999448, 36705.42045634])"
      ]
     },
     "execution_count": 1585,
     "metadata": {},
     "output_type": "execute_result"
    }
   ],
   "source": [
    "# prediction with scaled test data\n",
    "\n",
    "y_test_pred= model_linear.predict(Xz_test)\n",
    "y_test_pred"
   ]
  },
  {
   "cell_type": "code",
   "execution_count": 1586,
   "metadata": {},
   "outputs": [
    {
     "data": {
      "text/plain": [
       "array([17409.55781382, 14325.03725162, 19670.0541211 , ...,\n",
       "       19722.96030736, 37178.92679805, 17073.85278695])"
      ]
     },
     "execution_count": 1586,
     "metadata": {},
     "output_type": "execute_result"
    }
   ],
   "source": [
    "# prediction with scaled train data\n",
    "\n",
    "y_train_pred = model_linear.predict(Xz_train)\n",
    "y_train_pred"
   ]
  },
  {
   "cell_type": "code",
   "execution_count": 1587,
   "metadata": {
    "scrolled": false
   },
   "outputs": [
    {
     "data": {
      "text/html": [
       "<div>\n",
       "<style scoped>\n",
       "    .dataframe tbody tr th:only-of-type {\n",
       "        vertical-align: middle;\n",
       "    }\n",
       "\n",
       "    .dataframe tbody tr th {\n",
       "        vertical-align: top;\n",
       "    }\n",
       "\n",
       "    .dataframe thead th {\n",
       "        text-align: right;\n",
       "    }\n",
       "</style>\n",
       "<table border=\"1\" class=\"dataframe\">\n",
       "  <thead>\n",
       "    <tr style=\"text-align: right;\">\n",
       "      <th></th>\n",
       "      <th>Linear_MinMaxScaler_train</th>\n",
       "      <th>Linear_MinMaxScaler_test</th>\n",
       "    </tr>\n",
       "  </thead>\n",
       "  <tbody>\n",
       "    <tr>\n",
       "      <th>R2</th>\n",
       "      <td>0.893157</td>\n",
       "      <td>0.882850</td>\n",
       "    </tr>\n",
       "    <tr>\n",
       "      <th>mae</th>\n",
       "      <td>1676.831325</td>\n",
       "      <td>1728.127943</td>\n",
       "    </tr>\n",
       "    <tr>\n",
       "      <th>mse</th>\n",
       "      <td>5713523.565390</td>\n",
       "      <td>6631687.677799</td>\n",
       "    </tr>\n",
       "    <tr>\n",
       "      <th>rmse</th>\n",
       "      <td>2390.297798</td>\n",
       "      <td>2575.206337</td>\n",
       "    </tr>\n",
       "  </tbody>\n",
       "</table>\n",
       "</div>"
      ],
      "text/plain": [
       "      Linear_MinMaxScaler_train  Linear_MinMaxScaler_test\n",
       "R2                     0.893157                  0.882850\n",
       "mae                 1676.831325               1728.127943\n",
       "mse              5713523.565390            6631687.677799\n",
       "rmse                2390.297798               2575.206337"
      ]
     },
     "execution_count": 1587,
     "metadata": {},
     "output_type": "execute_result"
    }
   ],
   "source": [
    "# comparison of evaluation metrics for test and train data\n",
    "\n",
    "lm_sc = train_val(y_train, y_train_pred, y_test, y_test_pred, \"Linear_MinMaxScaler\")\n",
    "lm_sc"
   ]
  },
  {
   "cell_type": "code",
   "execution_count": 1588,
   "metadata": {},
   "outputs": [
    {
     "data": {
      "text/html": [
       "<div>\n",
       "<style scoped>\n",
       "    .dataframe tbody tr th:only-of-type {\n",
       "        vertical-align: middle;\n",
       "    }\n",
       "\n",
       "    .dataframe tbody tr th {\n",
       "        vertical-align: top;\n",
       "    }\n",
       "\n",
       "    .dataframe thead th {\n",
       "        text-align: right;\n",
       "    }\n",
       "</style>\n",
       "<table border=\"1\" class=\"dataframe\">\n",
       "  <thead>\n",
       "    <tr style=\"text-align: right;\">\n",
       "      <th></th>\n",
       "      <th>Lm_train</th>\n",
       "      <th>Lm_test</th>\n",
       "      <th>Linear_MinMaxScaler_train</th>\n",
       "      <th>Linear_MinMaxScaler_test</th>\n",
       "    </tr>\n",
       "  </thead>\n",
       "  <tbody>\n",
       "    <tr>\n",
       "      <th>R2</th>\n",
       "      <td>0.893157</td>\n",
       "      <td>0.882850</td>\n",
       "      <td>0.893157</td>\n",
       "      <td>0.882850</td>\n",
       "    </tr>\n",
       "    <tr>\n",
       "      <th>mae</th>\n",
       "      <td>1676.831325</td>\n",
       "      <td>1728.127943</td>\n",
       "      <td>1676.831325</td>\n",
       "      <td>1728.127943</td>\n",
       "    </tr>\n",
       "    <tr>\n",
       "      <th>mse</th>\n",
       "      <td>5713523.565390</td>\n",
       "      <td>6631687.677788</td>\n",
       "      <td>5713523.565390</td>\n",
       "      <td>6631687.677799</td>\n",
       "    </tr>\n",
       "    <tr>\n",
       "      <th>rmse</th>\n",
       "      <td>2390.297798</td>\n",
       "      <td>2575.206337</td>\n",
       "      <td>2390.297798</td>\n",
       "      <td>2575.206337</td>\n",
       "    </tr>\n",
       "  </tbody>\n",
       "</table>\n",
       "</div>"
      ],
      "text/plain": [
       "           Lm_train        Lm_test  Linear_MinMaxScaler_train  \\\n",
       "R2         0.893157       0.882850                   0.893157   \n",
       "mae     1676.831325    1728.127943                1676.831325   \n",
       "mse  5713523.565390 6631687.677788             5713523.565390   \n",
       "rmse    2390.297798    2575.206337                2390.297798   \n",
       "\n",
       "      Linear_MinMaxScaler_test  \n",
       "R2                    0.882850  \n",
       "mae                1728.127943  \n",
       "mse             6631687.677799  \n",
       "rmse               2575.206337  "
      ]
     },
     "execution_count": 1588,
     "metadata": {},
     "output_type": "execute_result"
    }
   ],
   "source": [
    "# combine evaluation metrics of Linear and Linear_MinMaxScaler model to compare\n",
    "\n",
    "pd.concat([lm, lm_sc], axis=1)"
   ]
  },
  {
   "cell_type": "code",
   "execution_count": 1589,
   "metadata": {
    "scrolled": true
   },
   "outputs": [
    {
     "data": {
      "text/plain": [
       "25331.07547148358"
      ]
     },
     "execution_count": 1589,
     "metadata": {},
     "output_type": "execute_result"
    }
   ],
   "source": [
    "# intercept for Linear_MinMaxScaler model \n",
    "\n",
    "model_linear.intercept_"
   ]
  },
  {
   "cell_type": "code",
   "execution_count": 1590,
   "metadata": {
    "scrolled": false
   },
   "outputs": [
    {
     "data": {
      "text/plain": [
       "array([-1.05771936e+04,  1.81453088e+03, -4.85738844e+03,  6.97694594e+02,\n",
       "        2.25401484e+04, -2.16031678e+02, -5.83715124e+02, -2.10443323e+03,\n",
       "       -1.69792269e+03,  2.13250736e+02, -2.41078555e+02,  1.61753243e+01,\n",
       "        2.77807039e+02, -8.53057275e+01,  3.11943490e+02, -1.43915908e+03,\n",
       "        3.07928147e+01,  9.54820511e+01,  4.76637242e+01,  4.35970668e+02,\n",
       "        2.44949922e+03,  4.53482398e+02,  1.18172033e+02,  6.15060230e+01,\n",
       "       -2.11165238e+02,  1.73178039e+02,  8.14500669e+01, -3.45973475e+02,\n",
       "        4.28613585e+02,  1.57995322e+02,  2.63729755e+02, -2.81639102e+02,\n",
       "        6.67719803e+02,  6.29967083e+01,  1.03798748e+03,  2.60107926e+02,\n",
       "       -5.87561998e+02,  7.37566817e+01, -3.05497101e+02, -3.38937283e+01,\n",
       "        8.18555804e+02, -2.32366421e+02,  5.16324896e+00,  6.30598857e+02,\n",
       "        6.91271480e+01, -1.04152566e+03, -7.54382311e+02, -3.82051115e+02,\n",
       "        1.10198607e+02,  7.15894614e+02, -6.57625335e+00,  7.23465265e+01,\n",
       "       -1.09529157e+02,  1.03079380e+02, -2.66500245e+02, -5.47329094e+02,\n",
       "       -3.60969651e+02,  2.34389253e+02,  2.57777527e+02,  2.22258711e+02,\n",
       "       -1.04377899e+03, -9.68039836e+02,  3.03691356e+01,  5.07981922e+01,\n",
       "       -3.07394418e+02, -3.15712648e+02,  6.62202260e+02,  9.42127579e+01,\n",
       "       -1.19252494e+02, -2.38532117e+02,  1.48128455e+02,  1.30032736e+03,\n",
       "       -9.39123918e+01,  9.64367440e+01,  2.67235523e+02,  2.22541090e+02,\n",
       "        5.25808771e+01,  1.25727352e+02, -2.55890500e+02, -3.39258145e+02,\n",
       "       -1.04722135e+02, -1.36603968e+02, -3.25371432e+01, -1.00648357e+02,\n",
       "       -2.45421605e+02,  2.66920769e+02, -7.81438095e+02, -9.74944078e+01,\n",
       "       -3.55693929e+01, -2.85339278e+02, -4.71691151e+02, -1.84859343e+02,\n",
       "        7.95591729e+02,  7.26763101e+02, -1.20371379e+02,  4.65895216e+02,\n",
       "       -5.24064024e+02, -7.80500405e+02,  1.94168899e+02,  1.00854428e+02,\n",
       "        8.56572577e+01,  7.89987930e+01, -2.82099134e+02,  1.22329925e+03,\n",
       "       -3.92289079e+03, -5.18549286e+03, -1.33601323e+03, -5.45187460e+03,\n",
       "       -1.03754256e+04,  3.36705878e+03,  1.27302932e+02, -3.26521426e+02,\n",
       "        4.91116929e+02,  1.05432643e+02,  3.05101728e+02, -1.01607571e+03,\n",
       "        1.53563636e+03, -2.99585537e+03, -9.55701203e+02, -2.32406179e+03,\n",
       "       -2.84932739e+03,  4.56945711e+02,  2.67399089e+01,  1.83670384e+03,\n",
       "        1.48814265e+02,  2.66178977e+02, -1.37961461e+03,  2.06130349e+03,\n",
       "       -2.65788542e+03, -4.27522298e+03])"
      ]
     },
     "execution_count": 1590,
     "metadata": {},
     "output_type": "execute_result"
    }
   ],
   "source": [
    "# coefficients for Linear_MinMaxScaler model \n",
    "\n",
    "model_linear.coef_"
   ]
  },
  {
   "cell_type": "code",
   "execution_count": 1591,
   "metadata": {
    "scrolled": true
   },
   "outputs": [
    {
     "name": "stdout",
     "output_type": "stream",
     "text": [
      "train RMSE: 0.13264515618003667\n",
      "test RMSE: 0.14290631362041908\n"
     ]
    }
   ],
   "source": [
    "print(\"train RMSE:\", 2390.297798/df[\"price\"].mean())\n",
    "print(\"test RMSE:\", 2575.206337/df[\"price\"].mean())"
   ]
  },
  {
   "cell_type": "markdown",
   "metadata": {},
   "source": [
    "## Linear regression with scaling using RobustScaler"
   ]
  },
  {
   "cell_type": "code",
   "execution_count": 1592,
   "metadata": {},
   "outputs": [],
   "source": [
    "# create an empty RobustScaler object \n",
    "\n",
    "scaler = RobustScaler()"
   ]
  },
  {
   "cell_type": "code",
   "execution_count": 1593,
   "metadata": {},
   "outputs": [],
   "source": [
    "# scale train data applying fit and transform\n",
    "\n",
    "Xz_train= scaler.fit_transform(X_train)"
   ]
  },
  {
   "cell_type": "code",
   "execution_count": 1594,
   "metadata": {},
   "outputs": [],
   "source": [
    "# scaling test data only applying transform to prevent data leakage\n",
    "\n",
    "Xz_test = scaler.transform(X_test)"
   ]
  },
  {
   "cell_type": "code",
   "execution_count": 1595,
   "metadata": {},
   "outputs": [
    {
     "data": {
      "text/html": [
       "<style>#sk-container-id-128 {color: black;background-color: white;}#sk-container-id-128 pre{padding: 0;}#sk-container-id-128 div.sk-toggleable {background-color: white;}#sk-container-id-128 label.sk-toggleable__label {cursor: pointer;display: block;width: 100%;margin-bottom: 0;padding: 0.3em;box-sizing: border-box;text-align: center;}#sk-container-id-128 label.sk-toggleable__label-arrow:before {content: \"▸\";float: left;margin-right: 0.25em;color: #696969;}#sk-container-id-128 label.sk-toggleable__label-arrow:hover:before {color: black;}#sk-container-id-128 div.sk-estimator:hover label.sk-toggleable__label-arrow:before {color: black;}#sk-container-id-128 div.sk-toggleable__content {max-height: 0;max-width: 0;overflow: hidden;text-align: left;background-color: #f0f8ff;}#sk-container-id-128 div.sk-toggleable__content pre {margin: 0.2em;color: black;border-radius: 0.25em;background-color: #f0f8ff;}#sk-container-id-128 input.sk-toggleable__control:checked~div.sk-toggleable__content {max-height: 200px;max-width: 100%;overflow: auto;}#sk-container-id-128 input.sk-toggleable__control:checked~label.sk-toggleable__label-arrow:before {content: \"▾\";}#sk-container-id-128 div.sk-estimator input.sk-toggleable__control:checked~label.sk-toggleable__label {background-color: #d4ebff;}#sk-container-id-128 div.sk-label input.sk-toggleable__control:checked~label.sk-toggleable__label {background-color: #d4ebff;}#sk-container-id-128 input.sk-hidden--visually {border: 0;clip: rect(1px 1px 1px 1px);clip: rect(1px, 1px, 1px, 1px);height: 1px;margin: -1px;overflow: hidden;padding: 0;position: absolute;width: 1px;}#sk-container-id-128 div.sk-estimator {font-family: monospace;background-color: #f0f8ff;border: 1px dotted black;border-radius: 0.25em;box-sizing: border-box;margin-bottom: 0.5em;}#sk-container-id-128 div.sk-estimator:hover {background-color: #d4ebff;}#sk-container-id-128 div.sk-parallel-item::after {content: \"\";width: 100%;border-bottom: 1px solid gray;flex-grow: 1;}#sk-container-id-128 div.sk-label:hover label.sk-toggleable__label {background-color: #d4ebff;}#sk-container-id-128 div.sk-serial::before {content: \"\";position: absolute;border-left: 1px solid gray;box-sizing: border-box;top: 0;bottom: 0;left: 50%;z-index: 0;}#sk-container-id-128 div.sk-serial {display: flex;flex-direction: column;align-items: center;background-color: white;padding-right: 0.2em;padding-left: 0.2em;position: relative;}#sk-container-id-128 div.sk-item {position: relative;z-index: 1;}#sk-container-id-128 div.sk-parallel {display: flex;align-items: stretch;justify-content: center;background-color: white;position: relative;}#sk-container-id-128 div.sk-item::before, #sk-container-id-128 div.sk-parallel-item::before {content: \"\";position: absolute;border-left: 1px solid gray;box-sizing: border-box;top: 0;bottom: 0;left: 50%;z-index: -1;}#sk-container-id-128 div.sk-parallel-item {display: flex;flex-direction: column;z-index: 1;position: relative;background-color: white;}#sk-container-id-128 div.sk-parallel-item:first-child::after {align-self: flex-end;width: 50%;}#sk-container-id-128 div.sk-parallel-item:last-child::after {align-self: flex-start;width: 50%;}#sk-container-id-128 div.sk-parallel-item:only-child::after {width: 0;}#sk-container-id-128 div.sk-dashed-wrapped {border: 1px dashed gray;margin: 0 0.4em 0.5em 0.4em;box-sizing: border-box;padding-bottom: 0.4em;background-color: white;}#sk-container-id-128 div.sk-label label {font-family: monospace;font-weight: bold;display: inline-block;line-height: 1.2em;}#sk-container-id-128 div.sk-label-container {text-align: center;}#sk-container-id-128 div.sk-container {/* jupyter's `normalize.less` sets `[hidden] { display: none; }` but bootstrap.min.css set `[hidden] { display: none !important; }` so we also need the `!important` here to be able to override the default hidden behavior on the sphinx rendered scikit-learn.org. See: https://github.com/scikit-learn/scikit-learn/issues/21755 */display: inline-block !important;position: relative;}#sk-container-id-128 div.sk-text-repr-fallback {display: none;}</style><div id=\"sk-container-id-128\" class=\"sk-top-container\"><div class=\"sk-text-repr-fallback\"><pre>LinearRegression()</pre><b>In a Jupyter environment, please rerun this cell to show the HTML representation or trust the notebook. <br />On GitHub, the HTML representation is unable to render, please try loading this page with nbviewer.org.</b></div><div class=\"sk-container\" hidden><div class=\"sk-item\"><div class=\"sk-estimator sk-toggleable\"><input class=\"sk-toggleable__control sk-hidden--visually\" id=\"sk-estimator-id-164\" type=\"checkbox\" checked><label for=\"sk-estimator-id-164\" class=\"sk-toggleable__label sk-toggleable__label-arrow\">LinearRegression</label><div class=\"sk-toggleable__content\"><pre>LinearRegression()</pre></div></div></div></div></div>"
      ],
      "text/plain": [
       "LinearRegression()"
      ]
     },
     "execution_count": 1595,
     "metadata": {},
     "output_type": "execute_result"
    }
   ],
   "source": [
    "# fit the model with scaled train data\n",
    "\n",
    "model_linear.fit(Xz_train, y_train)"
   ]
  },
  {
   "cell_type": "code",
   "execution_count": 1596,
   "metadata": {
    "scrolled": true
   },
   "outputs": [
    {
     "data": {
      "text/plain": [
       "array([12844.26971353,  7480.00761381, 12015.62587136, ...,\n",
       "       10254.16222131, 15741.90999448, 36705.42045634])"
      ]
     },
     "execution_count": 1596,
     "metadata": {},
     "output_type": "execute_result"
    }
   ],
   "source": [
    "# prediction with scaled test data\n",
    "\n",
    "y_test_pred= model_linear.predict(Xz_test)\n",
    "y_test_pred"
   ]
  },
  {
   "cell_type": "code",
   "execution_count": 1597,
   "metadata": {},
   "outputs": [
    {
     "data": {
      "text/plain": [
       "array([17409.55781382, 14325.03725162, 19670.0541211 , ...,\n",
       "       19722.96030736, 37178.92679805, 17073.85278695])"
      ]
     },
     "execution_count": 1597,
     "metadata": {},
     "output_type": "execute_result"
    }
   ],
   "source": [
    "# prediction with scaled train data\n",
    "\n",
    "y_train_pred = model_linear.predict(Xz_train)\n",
    "y_train_pred"
   ]
  },
  {
   "cell_type": "code",
   "execution_count": 1598,
   "metadata": {
    "scrolled": true
   },
   "outputs": [
    {
     "data": {
      "text/html": [
       "<div>\n",
       "<style scoped>\n",
       "    .dataframe tbody tr th:only-of-type {\n",
       "        vertical-align: middle;\n",
       "    }\n",
       "\n",
       "    .dataframe tbody tr th {\n",
       "        vertical-align: top;\n",
       "    }\n",
       "\n",
       "    .dataframe thead th {\n",
       "        text-align: right;\n",
       "    }\n",
       "</style>\n",
       "<table border=\"1\" class=\"dataframe\">\n",
       "  <thead>\n",
       "    <tr style=\"text-align: right;\">\n",
       "      <th></th>\n",
       "      <th>Linear_RobustScaler_train</th>\n",
       "      <th>Linear_RobustScaler_test</th>\n",
       "    </tr>\n",
       "  </thead>\n",
       "  <tbody>\n",
       "    <tr>\n",
       "      <th>R2</th>\n",
       "      <td>0.893157</td>\n",
       "      <td>0.882850</td>\n",
       "    </tr>\n",
       "    <tr>\n",
       "      <th>mae</th>\n",
       "      <td>1676.831325</td>\n",
       "      <td>1728.127943</td>\n",
       "    </tr>\n",
       "    <tr>\n",
       "      <th>mse</th>\n",
       "      <td>5713523.565390</td>\n",
       "      <td>6631687.677799</td>\n",
       "    </tr>\n",
       "    <tr>\n",
       "      <th>rmse</th>\n",
       "      <td>2390.297798</td>\n",
       "      <td>2575.206337</td>\n",
       "    </tr>\n",
       "  </tbody>\n",
       "</table>\n",
       "</div>"
      ],
      "text/plain": [
       "      Linear_RobustScaler_train  Linear_RobustScaler_test\n",
       "R2                     0.893157                  0.882850\n",
       "mae                 1676.831325               1728.127943\n",
       "mse              5713523.565390            6631687.677799\n",
       "rmse                2390.297798               2575.206337"
      ]
     },
     "execution_count": 1598,
     "metadata": {},
     "output_type": "execute_result"
    }
   ],
   "source": [
    "# comparison of evaluation metrics for test and train data\n",
    "\n",
    "train_val(y_train, y_train_pred, y_test, y_test_pred, \"Linear_RobustScaler\")"
   ]
  },
  {
   "cell_type": "code",
   "execution_count": 1599,
   "metadata": {
    "scrolled": true
   },
   "outputs": [
    {
     "data": {
      "text/plain": [
       "18363.580871617574"
      ]
     },
     "execution_count": 1599,
     "metadata": {},
     "output_type": "execute_result"
    }
   ],
   "source": [
    "# intercept for Linear_RobustScaler model \n",
    "\n",
    "model_linear.intercept_"
   ]
  },
  {
   "cell_type": "code",
   "execution_count": 1600,
   "metadata": {
    "scrolled": false
   },
   "outputs": [
    {
     "data": {
      "text/plain": [
       "array([-1.62424988e+03,  6.04843626e+02, -3.23825896e+03,  1.74423649e+02,\n",
       "        3.43203906e+03, -2.16031678e+02, -1.35465963e+02, -3.96113429e+02,\n",
       "       -2.86811265e+02,  2.13250736e+02, -2.41078555e+02,  1.61753243e+01,\n",
       "        2.77807039e+02, -8.53057275e+01,  3.11943490e+02, -1.43915908e+03,\n",
       "        3.07928147e+01,  9.54820511e+01,  4.76637242e+01,  4.35970668e+02,\n",
       "        2.44949922e+03,  4.53482398e+02,  1.18172033e+02,  6.15060230e+01,\n",
       "       -2.11165238e+02,  1.73178039e+02,  8.14500669e+01, -3.45973475e+02,\n",
       "        4.28613585e+02,  1.57995322e+02,  2.63729755e+02, -2.81639102e+02,\n",
       "        6.67719803e+02,  6.29967083e+01,  1.03798748e+03,  2.60107926e+02,\n",
       "       -5.87561998e+02,  7.37566817e+01, -3.05497101e+02, -3.38937283e+01,\n",
       "        8.18555804e+02, -2.32366421e+02,  5.16324896e+00,  6.30598857e+02,\n",
       "        6.91271480e+01, -1.04152566e+03, -7.54382311e+02, -3.82051115e+02,\n",
       "        1.10198607e+02,  7.15894614e+02, -6.57625335e+00,  7.23465265e+01,\n",
       "       -1.09529157e+02,  1.03079380e+02, -2.66500245e+02, -5.47329094e+02,\n",
       "       -3.60969651e+02,  2.34389253e+02,  2.57777527e+02,  2.22258711e+02,\n",
       "       -1.04377899e+03, -9.68039836e+02,  3.03691356e+01,  5.07981922e+01,\n",
       "       -3.07394418e+02, -3.15712648e+02,  6.62202260e+02,  9.42127579e+01,\n",
       "       -1.19252494e+02, -2.38532117e+02,  1.48128455e+02,  1.30032736e+03,\n",
       "       -9.39123918e+01,  9.64367440e+01,  2.67235523e+02,  2.22541090e+02,\n",
       "        5.25808771e+01,  1.25727352e+02, -2.55890500e+02, -3.39258145e+02,\n",
       "       -1.04722135e+02, -1.36603968e+02, -3.25371432e+01, -1.00648357e+02,\n",
       "       -2.45421605e+02,  2.66920769e+02, -7.81438095e+02, -9.74944078e+01,\n",
       "       -3.55693929e+01, -2.85339278e+02, -4.71691151e+02, -1.84859343e+02,\n",
       "        7.95591729e+02,  7.26763101e+02, -1.20371379e+02,  4.65895216e+02,\n",
       "       -5.24064024e+02, -7.80500405e+02,  1.94168899e+02,  1.00854428e+02,\n",
       "        8.56572577e+01,  7.89987930e+01, -2.82099134e+02,  1.22329925e+03,\n",
       "       -3.92289079e+03, -5.18549286e+03, -1.33601323e+03, -5.45187460e+03,\n",
       "       -1.03754256e+04,  3.36705878e+03,  1.27302932e+02, -3.26521426e+02,\n",
       "        4.91116929e+02,  1.05432643e+02,  3.05101728e+02, -1.01607571e+03,\n",
       "        1.53563636e+03, -2.99585537e+03, -9.55701203e+02, -2.32406179e+03,\n",
       "       -2.84932739e+03,  4.56945711e+02,  2.67399089e+01,  1.83670384e+03,\n",
       "        1.48814265e+02,  2.66178977e+02, -1.37961461e+03,  2.06130349e+03,\n",
       "       -2.65788542e+03, -4.27522298e+03])"
      ]
     },
     "execution_count": 1600,
     "metadata": {},
     "output_type": "execute_result"
    }
   ],
   "source": [
    "# coefficients for Linear_RobustScaler model \n",
    "\n",
    "model_linear.coef_"
   ]
  },
  {
   "cell_type": "code",
   "execution_count": 1601,
   "metadata": {
    "scrolled": true
   },
   "outputs": [
    {
     "name": "stdout",
     "output_type": "stream",
     "text": [
      "train RMSE: 0.13264515618003667\n",
      "test RMSE: 0.14290631362041908\n"
     ]
    }
   ],
   "source": [
    "print(\"train RMSE:\", 2390.297798/df[\"price\"].mean())\n",
    "print(\"test RMSE:\", 2575.206337/df[\"price\"].mean())"
   ]
  },
  {
   "cell_type": "markdown",
   "metadata": {},
   "source": [
    "## Implement Linear Regression with pipeline and MinmaxScaler"
   ]
  },
  {
   "cell_type": "code",
   "execution_count": 1602,
   "metadata": {
    "id": "lq6UKn_HmqZO"
   },
   "outputs": [],
   "source": [
    "# import Pipeline method\n",
    "\n",
    "from sklearn.pipeline import Pipeline"
   ]
  },
  {
   "cell_type": "code",
   "execution_count": 1603,
   "metadata": {},
   "outputs": [],
   "source": [
    "# reset the model before using in pipeline\n",
    "\n",
    "model_linear = LinearRegression()"
   ]
  },
  {
   "cell_type": "code",
   "execution_count": 1604,
   "metadata": {},
   "outputs": [],
   "source": [
    "# Create an empty pipeline object\n",
    "\n",
    "pipe_lm = Pipeline([(\"scaler\", scaler), (\"lm\", model_linear)])"
   ]
  },
  {
   "cell_type": "code",
   "execution_count": 1605,
   "metadata": {},
   "outputs": [
    {
     "data": {
      "text/html": [
       "<style>#sk-container-id-129 {color: black;background-color: white;}#sk-container-id-129 pre{padding: 0;}#sk-container-id-129 div.sk-toggleable {background-color: white;}#sk-container-id-129 label.sk-toggleable__label {cursor: pointer;display: block;width: 100%;margin-bottom: 0;padding: 0.3em;box-sizing: border-box;text-align: center;}#sk-container-id-129 label.sk-toggleable__label-arrow:before {content: \"▸\";float: left;margin-right: 0.25em;color: #696969;}#sk-container-id-129 label.sk-toggleable__label-arrow:hover:before {color: black;}#sk-container-id-129 div.sk-estimator:hover label.sk-toggleable__label-arrow:before {color: black;}#sk-container-id-129 div.sk-toggleable__content {max-height: 0;max-width: 0;overflow: hidden;text-align: left;background-color: #f0f8ff;}#sk-container-id-129 div.sk-toggleable__content pre {margin: 0.2em;color: black;border-radius: 0.25em;background-color: #f0f8ff;}#sk-container-id-129 input.sk-toggleable__control:checked~div.sk-toggleable__content {max-height: 200px;max-width: 100%;overflow: auto;}#sk-container-id-129 input.sk-toggleable__control:checked~label.sk-toggleable__label-arrow:before {content: \"▾\";}#sk-container-id-129 div.sk-estimator input.sk-toggleable__control:checked~label.sk-toggleable__label {background-color: #d4ebff;}#sk-container-id-129 div.sk-label input.sk-toggleable__control:checked~label.sk-toggleable__label {background-color: #d4ebff;}#sk-container-id-129 input.sk-hidden--visually {border: 0;clip: rect(1px 1px 1px 1px);clip: rect(1px, 1px, 1px, 1px);height: 1px;margin: -1px;overflow: hidden;padding: 0;position: absolute;width: 1px;}#sk-container-id-129 div.sk-estimator {font-family: monospace;background-color: #f0f8ff;border: 1px dotted black;border-radius: 0.25em;box-sizing: border-box;margin-bottom: 0.5em;}#sk-container-id-129 div.sk-estimator:hover {background-color: #d4ebff;}#sk-container-id-129 div.sk-parallel-item::after {content: \"\";width: 100%;border-bottom: 1px solid gray;flex-grow: 1;}#sk-container-id-129 div.sk-label:hover label.sk-toggleable__label {background-color: #d4ebff;}#sk-container-id-129 div.sk-serial::before {content: \"\";position: absolute;border-left: 1px solid gray;box-sizing: border-box;top: 0;bottom: 0;left: 50%;z-index: 0;}#sk-container-id-129 div.sk-serial {display: flex;flex-direction: column;align-items: center;background-color: white;padding-right: 0.2em;padding-left: 0.2em;position: relative;}#sk-container-id-129 div.sk-item {position: relative;z-index: 1;}#sk-container-id-129 div.sk-parallel {display: flex;align-items: stretch;justify-content: center;background-color: white;position: relative;}#sk-container-id-129 div.sk-item::before, #sk-container-id-129 div.sk-parallel-item::before {content: \"\";position: absolute;border-left: 1px solid gray;box-sizing: border-box;top: 0;bottom: 0;left: 50%;z-index: -1;}#sk-container-id-129 div.sk-parallel-item {display: flex;flex-direction: column;z-index: 1;position: relative;background-color: white;}#sk-container-id-129 div.sk-parallel-item:first-child::after {align-self: flex-end;width: 50%;}#sk-container-id-129 div.sk-parallel-item:last-child::after {align-self: flex-start;width: 50%;}#sk-container-id-129 div.sk-parallel-item:only-child::after {width: 0;}#sk-container-id-129 div.sk-dashed-wrapped {border: 1px dashed gray;margin: 0 0.4em 0.5em 0.4em;box-sizing: border-box;padding-bottom: 0.4em;background-color: white;}#sk-container-id-129 div.sk-label label {font-family: monospace;font-weight: bold;display: inline-block;line-height: 1.2em;}#sk-container-id-129 div.sk-label-container {text-align: center;}#sk-container-id-129 div.sk-container {/* jupyter's `normalize.less` sets `[hidden] { display: none; }` but bootstrap.min.css set `[hidden] { display: none !important; }` so we also need the `!important` here to be able to override the default hidden behavior on the sphinx rendered scikit-learn.org. See: https://github.com/scikit-learn/scikit-learn/issues/21755 */display: inline-block !important;position: relative;}#sk-container-id-129 div.sk-text-repr-fallback {display: none;}</style><div id=\"sk-container-id-129\" class=\"sk-top-container\"><div class=\"sk-text-repr-fallback\"><pre>Pipeline(steps=[(&#x27;scaler&#x27;, RobustScaler()), (&#x27;lm&#x27;, LinearRegression())])</pre><b>In a Jupyter environment, please rerun this cell to show the HTML representation or trust the notebook. <br />On GitHub, the HTML representation is unable to render, please try loading this page with nbviewer.org.</b></div><div class=\"sk-container\" hidden><div class=\"sk-item sk-dashed-wrapped\"><div class=\"sk-label-container\"><div class=\"sk-label sk-toggleable\"><input class=\"sk-toggleable__control sk-hidden--visually\" id=\"sk-estimator-id-165\" type=\"checkbox\" ><label for=\"sk-estimator-id-165\" class=\"sk-toggleable__label sk-toggleable__label-arrow\">Pipeline</label><div class=\"sk-toggleable__content\"><pre>Pipeline(steps=[(&#x27;scaler&#x27;, RobustScaler()), (&#x27;lm&#x27;, LinearRegression())])</pre></div></div></div><div class=\"sk-serial\"><div class=\"sk-item\"><div class=\"sk-estimator sk-toggleable\"><input class=\"sk-toggleable__control sk-hidden--visually\" id=\"sk-estimator-id-166\" type=\"checkbox\" ><label for=\"sk-estimator-id-166\" class=\"sk-toggleable__label sk-toggleable__label-arrow\">RobustScaler</label><div class=\"sk-toggleable__content\"><pre>RobustScaler()</pre></div></div></div><div class=\"sk-item\"><div class=\"sk-estimator sk-toggleable\"><input class=\"sk-toggleable__control sk-hidden--visually\" id=\"sk-estimator-id-167\" type=\"checkbox\" ><label for=\"sk-estimator-id-167\" class=\"sk-toggleable__label sk-toggleable__label-arrow\">LinearRegression</label><div class=\"sk-toggleable__content\"><pre>LinearRegression()</pre></div></div></div></div></div></div></div>"
      ],
      "text/plain": [
       "Pipeline(steps=[('scaler', RobustScaler()), ('lm', LinearRegression())])"
      ]
     },
     "execution_count": 1605,
     "metadata": {},
     "output_type": "execute_result"
    }
   ],
   "source": [
    "# Fit the model\n",
    "\n",
    "pipe_lm.fit(X_train, y_train)"
   ]
  },
  {
   "cell_type": "code",
   "execution_count": 1606,
   "metadata": {
    "scrolled": true
   },
   "outputs": [
    {
     "data": {
      "text/plain": [
       "array([-1.62424988e+03,  6.04843626e+02, -3.23825896e+03,  1.74423649e+02,\n",
       "        3.43203906e+03, -2.16031678e+02, -1.35465963e+02, -3.96113429e+02,\n",
       "       -2.86811265e+02,  2.13250736e+02, -2.41078555e+02,  1.61753243e+01,\n",
       "        2.77807039e+02, -8.53057275e+01,  3.11943490e+02, -1.43915908e+03,\n",
       "        3.07928147e+01,  9.54820511e+01,  4.76637242e+01,  4.35970668e+02,\n",
       "        2.44949922e+03,  4.53482398e+02,  1.18172033e+02,  6.15060230e+01,\n",
       "       -2.11165238e+02,  1.73178039e+02,  8.14500669e+01, -3.45973475e+02,\n",
       "        4.28613585e+02,  1.57995322e+02,  2.63729755e+02, -2.81639102e+02,\n",
       "        6.67719803e+02,  6.29967083e+01,  1.03798748e+03,  2.60107926e+02,\n",
       "       -5.87561998e+02,  7.37566817e+01, -3.05497101e+02, -3.38937283e+01,\n",
       "        8.18555804e+02, -2.32366421e+02,  5.16324896e+00,  6.30598857e+02,\n",
       "        6.91271480e+01, -1.04152566e+03, -7.54382311e+02, -3.82051115e+02,\n",
       "        1.10198607e+02,  7.15894614e+02, -6.57625335e+00,  7.23465265e+01,\n",
       "       -1.09529157e+02,  1.03079380e+02, -2.66500245e+02, -5.47329094e+02,\n",
       "       -3.60969651e+02,  2.34389253e+02,  2.57777527e+02,  2.22258711e+02,\n",
       "       -1.04377899e+03, -9.68039836e+02,  3.03691356e+01,  5.07981922e+01,\n",
       "       -3.07394418e+02, -3.15712648e+02,  6.62202260e+02,  9.42127579e+01,\n",
       "       -1.19252494e+02, -2.38532117e+02,  1.48128455e+02,  1.30032736e+03,\n",
       "       -9.39123918e+01,  9.64367440e+01,  2.67235523e+02,  2.22541090e+02,\n",
       "        5.25808771e+01,  1.25727352e+02, -2.55890500e+02, -3.39258145e+02,\n",
       "       -1.04722135e+02, -1.36603968e+02, -3.25371432e+01, -1.00648357e+02,\n",
       "       -2.45421605e+02,  2.66920769e+02, -7.81438095e+02, -9.74944078e+01,\n",
       "       -3.55693929e+01, -2.85339278e+02, -4.71691151e+02, -1.84859343e+02,\n",
       "        7.95591729e+02,  7.26763101e+02, -1.20371379e+02,  4.65895216e+02,\n",
       "       -5.24064024e+02, -7.80500405e+02,  1.94168899e+02,  1.00854428e+02,\n",
       "        8.56572577e+01,  7.89987930e+01, -2.82099134e+02,  1.22329925e+03,\n",
       "       -3.92289079e+03, -5.18549286e+03, -1.33601323e+03, -5.45187460e+03,\n",
       "       -1.03754256e+04,  3.36705878e+03,  1.27302932e+02, -3.26521426e+02,\n",
       "        4.91116929e+02,  1.05432643e+02,  3.05101728e+02, -1.01607571e+03,\n",
       "        1.53563636e+03, -2.99585537e+03, -9.55701203e+02, -2.32406179e+03,\n",
       "       -2.84932739e+03,  4.56945711e+02,  2.67399089e+01,  1.83670384e+03,\n",
       "        1.48814265e+02,  2.66178977e+02, -1.37961461e+03,  2.06130349e+03,\n",
       "       -2.65788542e+03, -4.27522298e+03])"
      ]
     },
     "execution_count": 1606,
     "metadata": {},
     "output_type": "execute_result"
    }
   ],
   "source": [
    "# coefficients for linear_MinMaXScaler object with pipeline\n",
    "\n",
    "pipe_lm[\"lm\"].coef_"
   ]
  },
  {
   "cell_type": "code",
   "execution_count": 1607,
   "metadata": {},
   "outputs": [
    {
     "data": {
      "text/plain": [
       "18363.580871617574"
      ]
     },
     "execution_count": 1607,
     "metadata": {},
     "output_type": "execute_result"
    }
   ],
   "source": [
    "# intercept for linear_MinMaXScaler object with pipeline\n",
    "\n",
    "pipe_lm[\"lm\"].intercept_"
   ]
  },
  {
   "cell_type": "code",
   "execution_count": 1608,
   "metadata": {},
   "outputs": [
    {
     "data": {
      "text/plain": [
       "array([12844.26971353,  7480.00761381, 12015.62587136, ...,\n",
       "       10254.16222131, 15741.90999448, 36705.42045634])"
      ]
     },
     "execution_count": 1608,
     "metadata": {},
     "output_type": "execute_result"
    }
   ],
   "source": [
    "# prediction with test data\n",
    "# Important note!: you should use unscaled data in pipeline as scaling process will be applied in pipeline\n",
    "\n",
    "y_test_pred = pipe_lm.predict(X_test)\n",
    "y_test_pred"
   ]
  },
  {
   "cell_type": "code",
   "execution_count": 1609,
   "metadata": {},
   "outputs": [
    {
     "data": {
      "text/plain": [
       "array([17409.55781382, 14325.03725162, 19670.0541211 , ...,\n",
       "       19722.96030736, 37178.92679805, 17073.85278695])"
      ]
     },
     "execution_count": 1609,
     "metadata": {},
     "output_type": "execute_result"
    }
   ],
   "source": [
    "# prediction with train data\n",
    "\n",
    "y_train_pred = pipe_lm.predict(X_train)\n",
    "y_train_pred"
   ]
  },
  {
   "cell_type": "code",
   "execution_count": 1610,
   "metadata": {
    "scrolled": true
   },
   "outputs": [
    {
     "data": {
      "text/html": [
       "<div>\n",
       "<style scoped>\n",
       "    .dataframe tbody tr th:only-of-type {\n",
       "        vertical-align: middle;\n",
       "    }\n",
       "\n",
       "    .dataframe tbody tr th {\n",
       "        vertical-align: top;\n",
       "    }\n",
       "\n",
       "    .dataframe thead th {\n",
       "        text-align: right;\n",
       "    }\n",
       "</style>\n",
       "<table border=\"1\" class=\"dataframe\">\n",
       "  <thead>\n",
       "    <tr style=\"text-align: right;\">\n",
       "      <th></th>\n",
       "      <th>Linear_train</th>\n",
       "      <th>Linear_test</th>\n",
       "    </tr>\n",
       "  </thead>\n",
       "  <tbody>\n",
       "    <tr>\n",
       "      <th>R2</th>\n",
       "      <td>0.893157</td>\n",
       "      <td>0.882850</td>\n",
       "    </tr>\n",
       "    <tr>\n",
       "      <th>mae</th>\n",
       "      <td>1676.831325</td>\n",
       "      <td>1728.127943</td>\n",
       "    </tr>\n",
       "    <tr>\n",
       "      <th>mse</th>\n",
       "      <td>5713523.565390</td>\n",
       "      <td>6631687.677799</td>\n",
       "    </tr>\n",
       "    <tr>\n",
       "      <th>rmse</th>\n",
       "      <td>2390.297798</td>\n",
       "      <td>2575.206337</td>\n",
       "    </tr>\n",
       "  </tbody>\n",
       "</table>\n",
       "</div>"
      ],
      "text/plain": [
       "       Linear_train    Linear_test\n",
       "R2         0.893157       0.882850\n",
       "mae     1676.831325    1728.127943\n",
       "mse  5713523.565390 6631687.677799\n",
       "rmse    2390.297798    2575.206337"
      ]
     },
     "execution_count": 1610,
     "metadata": {},
     "output_type": "execute_result"
    }
   ],
   "source": [
    "# comparison of evaluation metrics for test and train data\n",
    "\n",
    "train_val(y_train, y_train_pred, y_test, y_test_pred, \"Linear\")"
   ]
  },
  {
   "cell_type": "markdown",
   "metadata": {},
   "source": [
    "## Cross validation for linear regression - without scaling"
   ]
  },
  {
   "cell_type": "code",
   "execution_count": 1611,
   "metadata": {},
   "outputs": [],
   "source": [
    "# reset the model before cross validation\n",
    "\n",
    "model_linear = LinearRegression()"
   ]
  },
  {
   "cell_type": "code",
   "execution_count": 1612,
   "metadata": {},
   "outputs": [],
   "source": [
    "# import necessary cross validation methods\n",
    "\n",
    "from sklearn.model_selection import cross_validate, cross_val_score"
   ]
  },
  {
   "cell_type": "code",
   "execution_count": 1613,
   "metadata": {},
   "outputs": [],
   "source": [
    "# cross validation for unscaled train data\n",
    "\n",
    "scores = cross_validate(model_linear, X_train, y_train, scoring = ['r2', 'neg_mean_absolute_error','neg_mean_squared_error', \\\n",
    "                                                            'neg_root_mean_squared_error'], cv = 5)"
   ]
  },
  {
   "cell_type": "code",
   "execution_count": 1614,
   "metadata": {
    "scrolled": true
   },
   "outputs": [
    {
     "data": {
      "text/html": [
       "<div>\n",
       "<style scoped>\n",
       "    .dataframe tbody tr th:only-of-type {\n",
       "        vertical-align: middle;\n",
       "    }\n",
       "\n",
       "    .dataframe tbody tr th {\n",
       "        vertical-align: top;\n",
       "    }\n",
       "\n",
       "    .dataframe thead th {\n",
       "        text-align: right;\n",
       "    }\n",
       "</style>\n",
       "<table border=\"1\" class=\"dataframe\">\n",
       "  <thead>\n",
       "    <tr style=\"text-align: right;\">\n",
       "      <th></th>\n",
       "      <th>fit_time</th>\n",
       "      <th>score_time</th>\n",
       "      <th>test_r2</th>\n",
       "      <th>test_neg_mean_absolute_error</th>\n",
       "      <th>test_neg_mean_squared_error</th>\n",
       "      <th>test_neg_root_mean_squared_error</th>\n",
       "    </tr>\n",
       "  </thead>\n",
       "  <tbody>\n",
       "    <tr>\n",
       "      <th>1</th>\n",
       "      <td>0.051319</td>\n",
       "      <td>0.005006</td>\n",
       "      <td>0.893082</td>\n",
       "      <td>-1689.726783</td>\n",
       "      <td>-5890885.313092</td>\n",
       "      <td>-2427.114607</td>\n",
       "    </tr>\n",
       "    <tr>\n",
       "      <th>2</th>\n",
       "      <td>0.051008</td>\n",
       "      <td>0.005005</td>\n",
       "      <td>0.888332</td>\n",
       "      <td>-1679.270602</td>\n",
       "      <td>-5452446.592942</td>\n",
       "      <td>-2335.047450</td>\n",
       "    </tr>\n",
       "    <tr>\n",
       "      <th>3</th>\n",
       "      <td>0.058490</td>\n",
       "      <td>0.005002</td>\n",
       "      <td>0.890544</td>\n",
       "      <td>-1686.397985</td>\n",
       "      <td>-5502795.638110</td>\n",
       "      <td>-2345.803836</td>\n",
       "    </tr>\n",
       "    <tr>\n",
       "      <th>4</th>\n",
       "      <td>0.054355</td>\n",
       "      <td>0.004000</td>\n",
       "      <td>0.888107</td>\n",
       "      <td>-1772.382628</td>\n",
       "      <td>-6704566.704519</td>\n",
       "      <td>-2589.317807</td>\n",
       "    </tr>\n",
       "    <tr>\n",
       "      <th>5</th>\n",
       "      <td>0.051311</td>\n",
       "      <td>0.003214</td>\n",
       "      <td>0.884593</td>\n",
       "      <td>-1678.397351</td>\n",
       "      <td>-6141052.941734</td>\n",
       "      <td>-2478.114796</td>\n",
       "    </tr>\n",
       "  </tbody>\n",
       "</table>\n",
       "</div>"
      ],
      "text/plain": [
       "   fit_time  score_time  test_r2  test_neg_mean_absolute_error  \\\n",
       "1  0.051319    0.005006 0.893082                  -1689.726783   \n",
       "2  0.051008    0.005005 0.888332                  -1679.270602   \n",
       "3  0.058490    0.005002 0.890544                  -1686.397985   \n",
       "4  0.054355    0.004000 0.888107                  -1772.382628   \n",
       "5  0.051311    0.003214 0.884593                  -1678.397351   \n",
       "\n",
       "   test_neg_mean_squared_error  test_neg_root_mean_squared_error  \n",
       "1              -5890885.313092                      -2427.114607  \n",
       "2              -5452446.592942                      -2335.047450  \n",
       "3              -5502795.638110                      -2345.803836  \n",
       "4              -6704566.704519                      -2589.317807  \n",
       "5              -6141052.941734                      -2478.114796  "
      ]
     },
     "execution_count": 1614,
     "metadata": {},
     "output_type": "execute_result"
    }
   ],
   "source": [
    "# create a dataframe of cross validation scores\n",
    "\n",
    "pd.DataFrame(scores, index = range(1,6))"
   ]
  },
  {
   "cell_type": "code",
   "execution_count": 1615,
   "metadata": {
    "scrolled": true
   },
   "outputs": [
    {
     "data": {
      "text/plain": [
       "test_r2                                   0.888931\n",
       "test_neg_mean_absolute_error          -1701.235070\n",
       "test_neg_mean_squared_error        -5938349.438079\n",
       "test_neg_root_mean_squared_error      -2435.079699\n",
       "dtype: float64"
      ]
     },
     "execution_count": 1615,
     "metadata": {},
     "output_type": "execute_result"
    }
   ],
   "source": [
    "# calculate the mean of cross validation scores\n",
    "\n",
    "scores = pd.DataFrame(scores, index=range(1,6))\n",
    "scores.iloc[:, 2:].mean()"
   ]
  },
  {
   "cell_type": "markdown",
   "metadata": {},
   "source": [
    "## Cross validation for linear regression - with pipeline and MinmaxScaler()"
   ]
  },
  {
   "cell_type": "code",
   "execution_count": 1616,
   "metadata": {},
   "outputs": [],
   "source": [
    "# reset model and scaler\n",
    "\n",
    "model_linear = LinearRegression()\n",
    "scaler = MinMaxScaler()\n",
    "\n",
    "# crate a pipeline object with model and scaler\n",
    "\n",
    "pipe_lm = Pipeline([(\"scaler\", scaler), (\"lm\", model_linear)])"
   ]
  },
  {
   "cell_type": "code",
   "execution_count": 1617,
   "metadata": {},
   "outputs": [],
   "source": [
    "# import cross validation methods\n",
    "\n",
    "from sklearn.model_selection import cross_validate, cross_val_score"
   ]
  },
  {
   "cell_type": "code",
   "execution_count": 1618,
   "metadata": {},
   "outputs": [],
   "source": [
    "scores = cross_validate(pipe_lm, X_train, y_train, scoring = ['r2', 'neg_mean_absolute_error','neg_mean_squared_error', \\\n",
    "                                                            'neg_root_mean_squared_error'], cv = 5)"
   ]
  },
  {
   "cell_type": "code",
   "execution_count": 1619,
   "metadata": {
    "scrolled": true
   },
   "outputs": [
    {
     "data": {
      "text/html": [
       "<div>\n",
       "<style scoped>\n",
       "    .dataframe tbody tr th:only-of-type {\n",
       "        vertical-align: middle;\n",
       "    }\n",
       "\n",
       "    .dataframe tbody tr th {\n",
       "        vertical-align: top;\n",
       "    }\n",
       "\n",
       "    .dataframe thead th {\n",
       "        text-align: right;\n",
       "    }\n",
       "</style>\n",
       "<table border=\"1\" class=\"dataframe\">\n",
       "  <thead>\n",
       "    <tr style=\"text-align: right;\">\n",
       "      <th></th>\n",
       "      <th>fit_time</th>\n",
       "      <th>score_time</th>\n",
       "      <th>test_r2</th>\n",
       "      <th>test_neg_mean_absolute_error</th>\n",
       "      <th>test_neg_mean_squared_error</th>\n",
       "      <th>test_neg_root_mean_squared_error</th>\n",
       "    </tr>\n",
       "  </thead>\n",
       "  <tbody>\n",
       "    <tr>\n",
       "      <th>1</th>\n",
       "      <td>0.065929</td>\n",
       "      <td>0.006010</td>\n",
       "      <td>0.893082</td>\n",
       "      <td>-1689.726783</td>\n",
       "      <td>-5890885.313093</td>\n",
       "      <td>-2427.114607</td>\n",
       "    </tr>\n",
       "    <tr>\n",
       "      <th>2</th>\n",
       "      <td>0.073714</td>\n",
       "      <td>0.008898</td>\n",
       "      <td>0.888332</td>\n",
       "      <td>-1679.270602</td>\n",
       "      <td>-5452446.592942</td>\n",
       "      <td>-2335.047450</td>\n",
       "    </tr>\n",
       "    <tr>\n",
       "      <th>3</th>\n",
       "      <td>0.067204</td>\n",
       "      <td>0.006001</td>\n",
       "      <td>0.890544</td>\n",
       "      <td>-1686.397985</td>\n",
       "      <td>-5502795.638111</td>\n",
       "      <td>-2345.803836</td>\n",
       "    </tr>\n",
       "    <tr>\n",
       "      <th>4</th>\n",
       "      <td>0.086596</td>\n",
       "      <td>0.007007</td>\n",
       "      <td>0.888107</td>\n",
       "      <td>-1772.382628</td>\n",
       "      <td>-6704566.704507</td>\n",
       "      <td>-2589.317807</td>\n",
       "    </tr>\n",
       "    <tr>\n",
       "      <th>5</th>\n",
       "      <td>0.076416</td>\n",
       "      <td>0.007002</td>\n",
       "      <td>-3643687830991875866624.000000</td>\n",
       "      <td>-9330724555861.220703</td>\n",
       "      <td>-193888010912373851612629696512.000000</td>\n",
       "      <td>-440327163495932.687500</td>\n",
       "    </tr>\n",
       "  </tbody>\n",
       "</table>\n",
       "</div>"
      ],
      "text/plain": [
       "   fit_time  score_time                        test_r2  \\\n",
       "1  0.065929    0.006010                       0.893082   \n",
       "2  0.073714    0.008898                       0.888332   \n",
       "3  0.067204    0.006001                       0.890544   \n",
       "4  0.086596    0.007007                       0.888107   \n",
       "5  0.076416    0.007002 -3643687830991875866624.000000   \n",
       "\n",
       "   test_neg_mean_absolute_error            test_neg_mean_squared_error  \\\n",
       "1                  -1689.726783                        -5890885.313093   \n",
       "2                  -1679.270602                        -5452446.592942   \n",
       "3                  -1686.397985                        -5502795.638111   \n",
       "4                  -1772.382628                        -6704566.704507   \n",
       "5         -9330724555861.220703 -193888010912373851612629696512.000000   \n",
       "\n",
       "   test_neg_root_mean_squared_error  \n",
       "1                      -2427.114607  \n",
       "2                      -2335.047450  \n",
       "3                      -2345.803836  \n",
       "4                      -2589.317807  \n",
       "5           -440327163495932.687500  "
      ]
     },
     "execution_count": 1619,
     "metadata": {},
     "output_type": "execute_result"
    }
   ],
   "source": [
    "pd.DataFrame(scores, index = range(1,6))"
   ]
  },
  {
   "cell_type": "code",
   "execution_count": 1620,
   "metadata": {
    "scrolled": true
   },
   "outputs": [
    {
     "data": {
      "text/plain": [
       "test_r2                                    -728737566198375120896.000000\n",
       "test_neg_mean_absolute_error                       -1866144912537.799561\n",
       "test_neg_mean_squared_error        -38777602182474772081744543744.000000\n",
       "test_neg_root_mean_squared_error                  -88065432701126.000000\n",
       "dtype: float64"
      ]
     },
     "execution_count": 1620,
     "metadata": {},
     "output_type": "execute_result"
    }
   ],
   "source": [
    "scores = pd.DataFrame(scores, index=range(1,6))\n",
    "scores.iloc[:, 2:].mean()"
   ]
  },
  {
   "cell_type": "markdown",
   "metadata": {
    "id": "n2ROwYsymqZO"
   },
   "source": [
    "# Implement Ridge Regression"
   ]
  },
  {
   "cell_type": "markdown",
   "metadata": {
    "id": "3RvdF8CRmqZO"
   },
   "source": [
    "- Import the modul \n",
    "- Do not forget to scale the data or use Normalize parameter as True \n",
    "- Fit the model \n",
    "- Predict the test set \n",
    "- Evaluate model performance (use performance metrics for regression) \n",
    "- Tune alpha hiperparameter by using [cross validation](https://scikit-learn.org/stable/modules/generated/sklearn.linear_model.RidgeCV.html) and determine the optimal alpha value.\n",
    "- Fit the model and predict again with the new alpha value. "
   ]
  },
  {
   "cell_type": "code",
   "execution_count": 1621,
   "metadata": {
    "id": "CXm_zzZMmqZO"
   },
   "outputs": [],
   "source": [
    "# import Ridge model\n",
    "\n",
    "from sklearn.linear_model import Ridge"
   ]
  },
  {
   "cell_type": "code",
   "execution_count": 1622,
   "metadata": {},
   "outputs": [],
   "source": [
    "# create a model object with normalization\n",
    "\n",
    "model_ridge = Ridge(normalize=True) # alpha=1"
   ]
  },
  {
   "cell_type": "code",
   "execution_count": 1623,
   "metadata": {
    "scrolled": true
   },
   "outputs": [
    {
     "data": {
      "text/html": [
       "<style>#sk-container-id-130 {color: black;background-color: white;}#sk-container-id-130 pre{padding: 0;}#sk-container-id-130 div.sk-toggleable {background-color: white;}#sk-container-id-130 label.sk-toggleable__label {cursor: pointer;display: block;width: 100%;margin-bottom: 0;padding: 0.3em;box-sizing: border-box;text-align: center;}#sk-container-id-130 label.sk-toggleable__label-arrow:before {content: \"▸\";float: left;margin-right: 0.25em;color: #696969;}#sk-container-id-130 label.sk-toggleable__label-arrow:hover:before {color: black;}#sk-container-id-130 div.sk-estimator:hover label.sk-toggleable__label-arrow:before {color: black;}#sk-container-id-130 div.sk-toggleable__content {max-height: 0;max-width: 0;overflow: hidden;text-align: left;background-color: #f0f8ff;}#sk-container-id-130 div.sk-toggleable__content pre {margin: 0.2em;color: black;border-radius: 0.25em;background-color: #f0f8ff;}#sk-container-id-130 input.sk-toggleable__control:checked~div.sk-toggleable__content {max-height: 200px;max-width: 100%;overflow: auto;}#sk-container-id-130 input.sk-toggleable__control:checked~label.sk-toggleable__label-arrow:before {content: \"▾\";}#sk-container-id-130 div.sk-estimator input.sk-toggleable__control:checked~label.sk-toggleable__label {background-color: #d4ebff;}#sk-container-id-130 div.sk-label input.sk-toggleable__control:checked~label.sk-toggleable__label {background-color: #d4ebff;}#sk-container-id-130 input.sk-hidden--visually {border: 0;clip: rect(1px 1px 1px 1px);clip: rect(1px, 1px, 1px, 1px);height: 1px;margin: -1px;overflow: hidden;padding: 0;position: absolute;width: 1px;}#sk-container-id-130 div.sk-estimator {font-family: monospace;background-color: #f0f8ff;border: 1px dotted black;border-radius: 0.25em;box-sizing: border-box;margin-bottom: 0.5em;}#sk-container-id-130 div.sk-estimator:hover {background-color: #d4ebff;}#sk-container-id-130 div.sk-parallel-item::after {content: \"\";width: 100%;border-bottom: 1px solid gray;flex-grow: 1;}#sk-container-id-130 div.sk-label:hover label.sk-toggleable__label {background-color: #d4ebff;}#sk-container-id-130 div.sk-serial::before {content: \"\";position: absolute;border-left: 1px solid gray;box-sizing: border-box;top: 0;bottom: 0;left: 50%;z-index: 0;}#sk-container-id-130 div.sk-serial {display: flex;flex-direction: column;align-items: center;background-color: white;padding-right: 0.2em;padding-left: 0.2em;position: relative;}#sk-container-id-130 div.sk-item {position: relative;z-index: 1;}#sk-container-id-130 div.sk-parallel {display: flex;align-items: stretch;justify-content: center;background-color: white;position: relative;}#sk-container-id-130 div.sk-item::before, #sk-container-id-130 div.sk-parallel-item::before {content: \"\";position: absolute;border-left: 1px solid gray;box-sizing: border-box;top: 0;bottom: 0;left: 50%;z-index: -1;}#sk-container-id-130 div.sk-parallel-item {display: flex;flex-direction: column;z-index: 1;position: relative;background-color: white;}#sk-container-id-130 div.sk-parallel-item:first-child::after {align-self: flex-end;width: 50%;}#sk-container-id-130 div.sk-parallel-item:last-child::after {align-self: flex-start;width: 50%;}#sk-container-id-130 div.sk-parallel-item:only-child::after {width: 0;}#sk-container-id-130 div.sk-dashed-wrapped {border: 1px dashed gray;margin: 0 0.4em 0.5em 0.4em;box-sizing: border-box;padding-bottom: 0.4em;background-color: white;}#sk-container-id-130 div.sk-label label {font-family: monospace;font-weight: bold;display: inline-block;line-height: 1.2em;}#sk-container-id-130 div.sk-label-container {text-align: center;}#sk-container-id-130 div.sk-container {/* jupyter's `normalize.less` sets `[hidden] { display: none; }` but bootstrap.min.css set `[hidden] { display: none !important; }` so we also need the `!important` here to be able to override the default hidden behavior on the sphinx rendered scikit-learn.org. See: https://github.com/scikit-learn/scikit-learn/issues/21755 */display: inline-block !important;position: relative;}#sk-container-id-130 div.sk-text-repr-fallback {display: none;}</style><div id=\"sk-container-id-130\" class=\"sk-top-container\"><div class=\"sk-text-repr-fallback\"><pre>Ridge(normalize=True)</pre><b>In a Jupyter environment, please rerun this cell to show the HTML representation or trust the notebook. <br />On GitHub, the HTML representation is unable to render, please try loading this page with nbviewer.org.</b></div><div class=\"sk-container\" hidden><div class=\"sk-item\"><div class=\"sk-estimator sk-toggleable\"><input class=\"sk-toggleable__control sk-hidden--visually\" id=\"sk-estimator-id-168\" type=\"checkbox\" checked><label for=\"sk-estimator-id-168\" class=\"sk-toggleable__label sk-toggleable__label-arrow\">Ridge</label><div class=\"sk-toggleable__content\"><pre>Ridge(normalize=True)</pre></div></div></div></div></div>"
      ],
      "text/plain": [
       "Ridge(normalize=True)"
      ]
     },
     "execution_count": 1623,
     "metadata": {},
     "output_type": "execute_result"
    }
   ],
   "source": [
    "# fit the model using train data\n",
    "\n",
    "model_ridge.fit(X_train, y_train)"
   ]
  },
  {
   "cell_type": "code",
   "execution_count": 1624,
   "metadata": {},
   "outputs": [
    {
     "data": {
      "text/plain": [
       "array([13138.516728  ,  9427.17999451, 11804.0367022 , ...,\n",
       "       10510.00511943, 16351.06891967, 35154.44585633])"
      ]
     },
     "execution_count": 1624,
     "metadata": {},
     "output_type": "execute_result"
    }
   ],
   "source": [
    "# predict on test data\n",
    "\n",
    "y_test_pred = model_ridge.predict(X_test)\n",
    "y_test_pred"
   ]
  },
  {
   "cell_type": "code",
   "execution_count": 1625,
   "metadata": {},
   "outputs": [
    {
     "data": {
      "text/plain": [
       "array([17654.72963193, 17201.34127845, 20509.35908879, ...,\n",
       "       18552.6394489 , 32627.97253461, 15290.6919919 ])"
      ]
     },
     "execution_count": 1625,
     "metadata": {},
     "output_type": "execute_result"
    }
   ],
   "source": [
    "# predict on train data\n",
    "\n",
    "y_train_pred = model_ridge.predict(X_train)\n",
    "y_train_pred"
   ]
  },
  {
   "cell_type": "code",
   "execution_count": 1626,
   "metadata": {},
   "outputs": [
    {
     "data": {
      "text/html": [
       "<div>\n",
       "<style scoped>\n",
       "    .dataframe tbody tr th:only-of-type {\n",
       "        vertical-align: middle;\n",
       "    }\n",
       "\n",
       "    .dataframe tbody tr th {\n",
       "        vertical-align: top;\n",
       "    }\n",
       "\n",
       "    .dataframe thead th {\n",
       "        text-align: right;\n",
       "    }\n",
       "</style>\n",
       "<table border=\"1\" class=\"dataframe\">\n",
       "  <thead>\n",
       "    <tr style=\"text-align: right;\">\n",
       "      <th></th>\n",
       "      <th>Ridge_train</th>\n",
       "      <th>Ridge_test</th>\n",
       "    </tr>\n",
       "  </thead>\n",
       "  <tbody>\n",
       "    <tr>\n",
       "      <th>R2</th>\n",
       "      <td>0.822264</td>\n",
       "      <td>0.810479</td>\n",
       "    </tr>\n",
       "    <tr>\n",
       "      <th>mae</th>\n",
       "      <td>2135.611892</td>\n",
       "      <td>2186.871492</td>\n",
       "    </tr>\n",
       "    <tr>\n",
       "      <th>mse</th>\n",
       "      <td>9504543.508484</td>\n",
       "      <td>10728467.832500</td>\n",
       "    </tr>\n",
       "    <tr>\n",
       "      <th>rmse</th>\n",
       "      <td>3082.943968</td>\n",
       "      <td>3275.433991</td>\n",
       "    </tr>\n",
       "  </tbody>\n",
       "</table>\n",
       "</div>"
      ],
      "text/plain": [
       "        Ridge_train      Ridge_test\n",
       "R2         0.822264        0.810479\n",
       "mae     2135.611892     2186.871492\n",
       "mse  9504543.508484 10728467.832500\n",
       "rmse    3082.943968     3275.433991"
      ]
     },
     "execution_count": 1626,
     "metadata": {},
     "output_type": "execute_result"
    }
   ],
   "source": [
    "# comparison of evaluation metrics for test and train data\n",
    "\n",
    "rg_sc = train_val(y_train, y_train_pred, y_test, y_test_pred, \"Ridge\")\n",
    "rg_sc"
   ]
  },
  {
   "cell_type": "code",
   "execution_count": 1627,
   "metadata": {
    "scrolled": true
   },
   "outputs": [
    {
     "data": {
      "text/html": [
       "<div>\n",
       "<style scoped>\n",
       "    .dataframe tbody tr th:only-of-type {\n",
       "        vertical-align: middle;\n",
       "    }\n",
       "\n",
       "    .dataframe tbody tr th {\n",
       "        vertical-align: top;\n",
       "    }\n",
       "\n",
       "    .dataframe thead th {\n",
       "        text-align: right;\n",
       "    }\n",
       "</style>\n",
       "<table border=\"1\" class=\"dataframe\">\n",
       "  <thead>\n",
       "    <tr style=\"text-align: right;\">\n",
       "      <th></th>\n",
       "      <th>Lm_train</th>\n",
       "      <th>Lm_test</th>\n",
       "      <th>Linear_MinMaxScaler_train</th>\n",
       "      <th>Linear_MinMaxScaler_test</th>\n",
       "      <th>Ridge_train</th>\n",
       "      <th>Ridge_test</th>\n",
       "    </tr>\n",
       "  </thead>\n",
       "  <tbody>\n",
       "    <tr>\n",
       "      <th>R2</th>\n",
       "      <td>0.893157</td>\n",
       "      <td>0.882850</td>\n",
       "      <td>0.893157</td>\n",
       "      <td>0.882850</td>\n",
       "      <td>0.822264</td>\n",
       "      <td>0.810479</td>\n",
       "    </tr>\n",
       "    <tr>\n",
       "      <th>mae</th>\n",
       "      <td>1676.831325</td>\n",
       "      <td>1728.127943</td>\n",
       "      <td>1676.831325</td>\n",
       "      <td>1728.127943</td>\n",
       "      <td>2135.611892</td>\n",
       "      <td>2186.871492</td>\n",
       "    </tr>\n",
       "    <tr>\n",
       "      <th>mse</th>\n",
       "      <td>5713523.565390</td>\n",
       "      <td>6631687.677788</td>\n",
       "      <td>5713523.565390</td>\n",
       "      <td>6631687.677799</td>\n",
       "      <td>9504543.508484</td>\n",
       "      <td>10728467.832500</td>\n",
       "    </tr>\n",
       "    <tr>\n",
       "      <th>rmse</th>\n",
       "      <td>2390.297798</td>\n",
       "      <td>2575.206337</td>\n",
       "      <td>2390.297798</td>\n",
       "      <td>2575.206337</td>\n",
       "      <td>3082.943968</td>\n",
       "      <td>3275.433991</td>\n",
       "    </tr>\n",
       "  </tbody>\n",
       "</table>\n",
       "</div>"
      ],
      "text/plain": [
       "           Lm_train        Lm_test  Linear_MinMaxScaler_train  \\\n",
       "R2         0.893157       0.882850                   0.893157   \n",
       "mae     1676.831325    1728.127943                1676.831325   \n",
       "mse  5713523.565390 6631687.677788             5713523.565390   \n",
       "rmse    2390.297798    2575.206337                2390.297798   \n",
       "\n",
       "      Linear_MinMaxScaler_test    Ridge_train      Ridge_test  \n",
       "R2                    0.882850       0.822264        0.810479  \n",
       "mae                1728.127943    2135.611892     2186.871492  \n",
       "mse             6631687.677799 9504543.508484 10728467.832500  \n",
       "rmse               2575.206337    3082.943968     3275.433991  "
      ]
     },
     "execution_count": 1627,
     "metadata": {},
     "output_type": "execute_result"
    }
   ],
   "source": [
    "# combine evaluation metrics of Linear, Linear_MinMaxScaler and Ridge model to compare\n",
    "\n",
    "pd.concat([lm, lm_sc, rg_sc], axis=1)"
   ]
  },
  {
   "cell_type": "code",
   "execution_count": 1628,
   "metadata": {},
   "outputs": [
    {
     "data": {
      "text/plain": [
       "array([-2.31286884e-02,  9.17194061e+02, -8.37048741e+02, -4.16705173e+02,\n",
       "        3.39469537e+01, -1.94361182e+02,  5.46756008e-01,  1.85773940e+00,\n",
       "        1.06762362e+01,  1.58885282e+02, -3.79546894e+01,  4.21290421e+02,\n",
       "        6.10076270e+02, -1.94499991e+02,  4.75516403e+00, -2.03770158e+03,\n",
       "        3.71372421e+02, -2.46944352e+02,  2.32312625e+02,  2.38507455e+02,\n",
       "        1.78237067e+03, -1.22702657e+02, -1.62317804e+02,  1.23685651e+02,\n",
       "       -1.23742461e+02,  1.93074932e+02,  2.15393051e+02, -9.35002649e+01,\n",
       "        9.40782333e+02,  6.67756216e+01,  2.83940308e+02,  4.34062645e+02,\n",
       "        5.52241814e+02,  1.29903370e+02,  7.30047459e+02,  1.79810419e+02,\n",
       "        1.29656170e+02, -1.77021772e+02,  2.39979580e+02,  3.37926160e+02,\n",
       "        7.12969945e+02, -5.31876135e+01,  3.94936521e+02,  5.36803904e+02,\n",
       "       -1.06907130e+02, -5.36043316e+02, -6.38421265e+02, -1.68524953e+02,\n",
       "       -7.30602879e+01,  4.40237838e+02, -2.74455495e+01, -4.50788741e+01,\n",
       "       -5.63396083e+02,  9.64915047e+01,  8.72786782e-01, -6.30806165e+02,\n",
       "       -3.89729512e+02,  5.99997840e+02,  3.33065301e+02,  1.13955684e+02,\n",
       "       -6.34330890e+02, -1.30980552e+03, -2.37318317e+02,  4.99576452e+02,\n",
       "       -5.04489666e+02, -2.99735292e+02,  3.66083135e+02,  1.21495759e+02,\n",
       "        4.77678771e+02, -2.91180544e+02, -3.37817564e+02,  1.33321235e+03,\n",
       "        3.40060671e+01, -3.50385447e+02, -2.14476743e+02,  4.28826677e+02,\n",
       "       -1.96560249e+00,  3.62102489e+01,  3.87025333e+02, -3.22243036e+02,\n",
       "       -2.31016640e+02, -2.11585018e+02,  1.63640505e+02, -8.82956683e+01,\n",
       "       -1.25688449e+02,  4.83442568e+02, -4.35605029e+02, -3.89643201e+02,\n",
       "       -1.09837426e+02, -4.17512111e+01, -3.93662766e+02, -2.00591845e+02,\n",
       "        8.08380744e+02,  6.27005911e+02, -2.61366910e+02,  4.05009777e+01,\n",
       "       -2.77536536e+02, -5.00121728e+02,  1.98489700e+02, -1.52938666e+02,\n",
       "        1.22292189e+02,  2.76434528e+02,  3.82260217e+02,  1.04219323e+03,\n",
       "       -8.13671558e+02, -1.80438229e+03,  1.05640377e+02, -1.50909770e+03,\n",
       "       -3.45817303e+03,  2.13295698e+03,  1.41179917e+03, -2.04678095e+02,\n",
       "       -1.07519727e+03,  1.12977156e+02, -1.59459526e+02, -4.95695051e+02,\n",
       "        2.06322455e+03, -4.22604893e+02,  1.16110933e+03,  2.94383086e+02,\n",
       "       -1.18807146e+03, -1.70689152e+02, -1.61547889e+02, -2.50344319e+02,\n",
       "        3.24260455e+01,  5.79238774e+02, -9.58827009e+02,  1.36700272e+03,\n",
       "       -1.66607231e+03, -1.89374230e+03])"
      ]
     },
     "execution_count": 1628,
     "metadata": {},
     "output_type": "execute_result"
    }
   ],
   "source": [
    "model_ridge.coef_"
   ]
  },
  {
   "cell_type": "code",
   "execution_count": 1629,
   "metadata": {},
   "outputs": [
    {
     "data": {
      "text/plain": [
       "9501.192186829134"
      ]
     },
     "execution_count": 1629,
     "metadata": {},
     "output_type": "execute_result"
    }
   ],
   "source": [
    "model_ridge.intercept_"
   ]
  },
  {
   "cell_type": "code",
   "execution_count": 1630,
   "metadata": {
    "scrolled": true
   },
   "outputs": [
    {
     "name": "stdout",
     "output_type": "stream",
     "text": [
      "train RMSE: 0.17108227454831212\n",
      "test RMSE: 0.18176415242365368\n"
     ]
    }
   ],
   "source": [
    "print(\"train RMSE:\", 3082.943968/df[\"price\"].mean())\n",
    "print(\"test RMSE:\", 3275.433991/df[\"price\"].mean())"
   ]
  },
  {
   "cell_type": "markdown",
   "metadata": {},
   "source": [
    "## Hyperparameter tuning with RidgeCV"
   ]
  },
  {
   "cell_type": "code",
   "execution_count": 1631,
   "metadata": {},
   "outputs": [],
   "source": [
    "# import RidgeCV model\n",
    "\n",
    "from sklearn.linear_model import RidgeCV"
   ]
  },
  {
   "cell_type": "code",
   "execution_count": 1632,
   "metadata": {},
   "outputs": [
    {
     "data": {
      "text/plain": [
       "array([0.1       , 0.10909091, 0.11818182, 0.12727273, 0.13636364,\n",
       "       0.14545455, 0.15454545, 0.16363636, 0.17272727, 0.18181818,\n",
       "       0.19090909, 0.2       , 0.20909091, 0.21818182, 0.22727273,\n",
       "       0.23636364, 0.24545455, 0.25454545, 0.26363636, 0.27272727,\n",
       "       0.28181818, 0.29090909, 0.3       , 0.30909091, 0.31818182,\n",
       "       0.32727273, 0.33636364, 0.34545455, 0.35454545, 0.36363636,\n",
       "       0.37272727, 0.38181818, 0.39090909, 0.4       , 0.40909091,\n",
       "       0.41818182, 0.42727273, 0.43636364, 0.44545455, 0.45454545,\n",
       "       0.46363636, 0.47272727, 0.48181818, 0.49090909, 0.5       ,\n",
       "       0.50909091, 0.51818182, 0.52727273, 0.53636364, 0.54545455,\n",
       "       0.55454545, 0.56363636, 0.57272727, 0.58181818, 0.59090909,\n",
       "       0.6       , 0.60909091, 0.61818182, 0.62727273, 0.63636364,\n",
       "       0.64545455, 0.65454545, 0.66363636, 0.67272727, 0.68181818,\n",
       "       0.69090909, 0.7       , 0.70909091, 0.71818182, 0.72727273,\n",
       "       0.73636364, 0.74545455, 0.75454545, 0.76363636, 0.77272727,\n",
       "       0.78181818, 0.79090909, 0.8       , 0.80909091, 0.81818182,\n",
       "       0.82727273, 0.83636364, 0.84545455, 0.85454545, 0.86363636,\n",
       "       0.87272727, 0.88181818, 0.89090909, 0.9       , 0.90909091,\n",
       "       0.91818182, 0.92727273, 0.93636364, 0.94545455, 0.95454545,\n",
       "       0.96363636, 0.97272727, 0.98181818, 0.99090909, 1.        ])"
      ]
     },
     "execution_count": 1632,
     "metadata": {},
     "output_type": "execute_result"
    }
   ],
   "source": [
    "# define alpha values to be used\n",
    "\n",
    "alpha_space = np.linspace(0.1, 1, 100)\n",
    "alpha_space"
   ]
  },
  {
   "cell_type": "code",
   "execution_count": 1633,
   "metadata": {},
   "outputs": [],
   "source": [
    "# create a model object with alphas (normalized=True means data will be scaled using MinMaxScaler)\n",
    "\n",
    "ridge_cv_model = RidgeCV(alphas=alpha_space, normalize=True, cv = 10, scoring= \"neg_root_mean_squared_error\")"
   ]
  },
  {
   "cell_type": "code",
   "execution_count": 1634,
   "metadata": {
    "scrolled": false
   },
   "outputs": [
    {
     "data": {
      "text/html": [
       "<style>#sk-container-id-131 {color: black;background-color: white;}#sk-container-id-131 pre{padding: 0;}#sk-container-id-131 div.sk-toggleable {background-color: white;}#sk-container-id-131 label.sk-toggleable__label {cursor: pointer;display: block;width: 100%;margin-bottom: 0;padding: 0.3em;box-sizing: border-box;text-align: center;}#sk-container-id-131 label.sk-toggleable__label-arrow:before {content: \"▸\";float: left;margin-right: 0.25em;color: #696969;}#sk-container-id-131 label.sk-toggleable__label-arrow:hover:before {color: black;}#sk-container-id-131 div.sk-estimator:hover label.sk-toggleable__label-arrow:before {color: black;}#sk-container-id-131 div.sk-toggleable__content {max-height: 0;max-width: 0;overflow: hidden;text-align: left;background-color: #f0f8ff;}#sk-container-id-131 div.sk-toggleable__content pre {margin: 0.2em;color: black;border-radius: 0.25em;background-color: #f0f8ff;}#sk-container-id-131 input.sk-toggleable__control:checked~div.sk-toggleable__content {max-height: 200px;max-width: 100%;overflow: auto;}#sk-container-id-131 input.sk-toggleable__control:checked~label.sk-toggleable__label-arrow:before {content: \"▾\";}#sk-container-id-131 div.sk-estimator input.sk-toggleable__control:checked~label.sk-toggleable__label {background-color: #d4ebff;}#sk-container-id-131 div.sk-label input.sk-toggleable__control:checked~label.sk-toggleable__label {background-color: #d4ebff;}#sk-container-id-131 input.sk-hidden--visually {border: 0;clip: rect(1px 1px 1px 1px);clip: rect(1px, 1px, 1px, 1px);height: 1px;margin: -1px;overflow: hidden;padding: 0;position: absolute;width: 1px;}#sk-container-id-131 div.sk-estimator {font-family: monospace;background-color: #f0f8ff;border: 1px dotted black;border-radius: 0.25em;box-sizing: border-box;margin-bottom: 0.5em;}#sk-container-id-131 div.sk-estimator:hover {background-color: #d4ebff;}#sk-container-id-131 div.sk-parallel-item::after {content: \"\";width: 100%;border-bottom: 1px solid gray;flex-grow: 1;}#sk-container-id-131 div.sk-label:hover label.sk-toggleable__label {background-color: #d4ebff;}#sk-container-id-131 div.sk-serial::before {content: \"\";position: absolute;border-left: 1px solid gray;box-sizing: border-box;top: 0;bottom: 0;left: 50%;z-index: 0;}#sk-container-id-131 div.sk-serial {display: flex;flex-direction: column;align-items: center;background-color: white;padding-right: 0.2em;padding-left: 0.2em;position: relative;}#sk-container-id-131 div.sk-item {position: relative;z-index: 1;}#sk-container-id-131 div.sk-parallel {display: flex;align-items: stretch;justify-content: center;background-color: white;position: relative;}#sk-container-id-131 div.sk-item::before, #sk-container-id-131 div.sk-parallel-item::before {content: \"\";position: absolute;border-left: 1px solid gray;box-sizing: border-box;top: 0;bottom: 0;left: 50%;z-index: -1;}#sk-container-id-131 div.sk-parallel-item {display: flex;flex-direction: column;z-index: 1;position: relative;background-color: white;}#sk-container-id-131 div.sk-parallel-item:first-child::after {align-self: flex-end;width: 50%;}#sk-container-id-131 div.sk-parallel-item:last-child::after {align-self: flex-start;width: 50%;}#sk-container-id-131 div.sk-parallel-item:only-child::after {width: 0;}#sk-container-id-131 div.sk-dashed-wrapped {border: 1px dashed gray;margin: 0 0.4em 0.5em 0.4em;box-sizing: border-box;padding-bottom: 0.4em;background-color: white;}#sk-container-id-131 div.sk-label label {font-family: monospace;font-weight: bold;display: inline-block;line-height: 1.2em;}#sk-container-id-131 div.sk-label-container {text-align: center;}#sk-container-id-131 div.sk-container {/* jupyter's `normalize.less` sets `[hidden] { display: none; }` but bootstrap.min.css set `[hidden] { display: none !important; }` so we also need the `!important` here to be able to override the default hidden behavior on the sphinx rendered scikit-learn.org. See: https://github.com/scikit-learn/scikit-learn/issues/21755 */display: inline-block !important;position: relative;}#sk-container-id-131 div.sk-text-repr-fallback {display: none;}</style><div id=\"sk-container-id-131\" class=\"sk-top-container\"><div class=\"sk-text-repr-fallback\"><pre>RidgeCV(alphas=array([0.1       , 0.10909091, 0.11818182, 0.12727273, 0.13636364,\n",
       "       0.14545455, 0.15454545, 0.16363636, 0.17272727, 0.18181818,\n",
       "       0.19090909, 0.2       , 0.20909091, 0.21818182, 0.22727273,\n",
       "       0.23636364, 0.24545455, 0.25454545, 0.26363636, 0.27272727,\n",
       "       0.28181818, 0.29090909, 0.3       , 0.30909091, 0.31818182,\n",
       "       0.32727273, 0.33636364, 0.34545455, 0.35454545, 0.36363636,\n",
       "       0.37272727, 0.381818...\n",
       "       0.73636364, 0.74545455, 0.75454545, 0.76363636, 0.77272727,\n",
       "       0.78181818, 0.79090909, 0.8       , 0.80909091, 0.81818182,\n",
       "       0.82727273, 0.83636364, 0.84545455, 0.85454545, 0.86363636,\n",
       "       0.87272727, 0.88181818, 0.89090909, 0.9       , 0.90909091,\n",
       "       0.91818182, 0.92727273, 0.93636364, 0.94545455, 0.95454545,\n",
       "       0.96363636, 0.97272727, 0.98181818, 0.99090909, 1.        ]),\n",
       "        cv=10, normalize=True, scoring=&#x27;neg_root_mean_squared_error&#x27;)</pre><b>In a Jupyter environment, please rerun this cell to show the HTML representation or trust the notebook. <br />On GitHub, the HTML representation is unable to render, please try loading this page with nbviewer.org.</b></div><div class=\"sk-container\" hidden><div class=\"sk-item\"><div class=\"sk-estimator sk-toggleable\"><input class=\"sk-toggleable__control sk-hidden--visually\" id=\"sk-estimator-id-169\" type=\"checkbox\" checked><label for=\"sk-estimator-id-169\" class=\"sk-toggleable__label sk-toggleable__label-arrow\">RidgeCV</label><div class=\"sk-toggleable__content\"><pre>RidgeCV(alphas=array([0.1       , 0.10909091, 0.11818182, 0.12727273, 0.13636364,\n",
       "       0.14545455, 0.15454545, 0.16363636, 0.17272727, 0.18181818,\n",
       "       0.19090909, 0.2       , 0.20909091, 0.21818182, 0.22727273,\n",
       "       0.23636364, 0.24545455, 0.25454545, 0.26363636, 0.27272727,\n",
       "       0.28181818, 0.29090909, 0.3       , 0.30909091, 0.31818182,\n",
       "       0.32727273, 0.33636364, 0.34545455, 0.35454545, 0.36363636,\n",
       "       0.37272727, 0.381818...\n",
       "       0.73636364, 0.74545455, 0.75454545, 0.76363636, 0.77272727,\n",
       "       0.78181818, 0.79090909, 0.8       , 0.80909091, 0.81818182,\n",
       "       0.82727273, 0.83636364, 0.84545455, 0.85454545, 0.86363636,\n",
       "       0.87272727, 0.88181818, 0.89090909, 0.9       , 0.90909091,\n",
       "       0.91818182, 0.92727273, 0.93636364, 0.94545455, 0.95454545,\n",
       "       0.96363636, 0.97272727, 0.98181818, 0.99090909, 1.        ]),\n",
       "        cv=10, normalize=True, scoring=&#x27;neg_root_mean_squared_error&#x27;)</pre></div></div></div></div></div>"
      ],
      "text/plain": [
       "RidgeCV(alphas=array([0.1       , 0.10909091, 0.11818182, 0.12727273, 0.13636364,\n",
       "       0.14545455, 0.15454545, 0.16363636, 0.17272727, 0.18181818,\n",
       "       0.19090909, 0.2       , 0.20909091, 0.21818182, 0.22727273,\n",
       "       0.23636364, 0.24545455, 0.25454545, 0.26363636, 0.27272727,\n",
       "       0.28181818, 0.29090909, 0.3       , 0.30909091, 0.31818182,\n",
       "       0.32727273, 0.33636364, 0.34545455, 0.35454545, 0.36363636,\n",
       "       0.37272727, 0.381818...\n",
       "       0.73636364, 0.74545455, 0.75454545, 0.76363636, 0.77272727,\n",
       "       0.78181818, 0.79090909, 0.8       , 0.80909091, 0.81818182,\n",
       "       0.82727273, 0.83636364, 0.84545455, 0.85454545, 0.86363636,\n",
       "       0.87272727, 0.88181818, 0.89090909, 0.9       , 0.90909091,\n",
       "       0.91818182, 0.92727273, 0.93636364, 0.94545455, 0.95454545,\n",
       "       0.96363636, 0.97272727, 0.98181818, 0.99090909, 1.        ]),\n",
       "        cv=10, normalize=True, scoring='neg_root_mean_squared_error')"
      ]
     },
     "execution_count": 1634,
     "metadata": {},
     "output_type": "execute_result"
    }
   ],
   "source": [
    "# fit the model using train data\n",
    "\n",
    "ridge_cv_model.fit(X_train, y_train)"
   ]
  },
  {
   "cell_type": "code",
   "execution_count": 1635,
   "metadata": {},
   "outputs": [
    {
     "data": {
      "text/plain": [
       "0.1"
      ]
     },
     "execution_count": 1635,
     "metadata": {},
     "output_type": "execute_result"
    }
   ],
   "source": [
    "# best alpha for Ridge model\n",
    "\n",
    "ridge_cv_model.alpha_"
   ]
  },
  {
   "cell_type": "code",
   "execution_count": 1636,
   "metadata": {},
   "outputs": [
    {
     "data": {
      "text/plain": [
       "array([12761.20797747,  7594.95739643, 11657.32486789, ...,\n",
       "       10128.73678635, 15896.72168847, 36863.1022866 ])"
      ]
     },
     "execution_count": 1636,
     "metadata": {},
     "output_type": "execute_result"
    }
   ],
   "source": [
    "# predict on test data (alpha=0.1)\n",
    "\n",
    "y_test_pred = ridge_cv_model.predict(X_test)\n",
    "y_test_pred"
   ]
  },
  {
   "cell_type": "code",
   "execution_count": 1637,
   "metadata": {},
   "outputs": [
    {
     "data": {
      "text/plain": [
       "array([17577.79307075, 15151.06004129, 19951.83429774, ...,\n",
       "       19412.30142826, 35905.92705625, 16544.91625254])"
      ]
     },
     "execution_count": 1637,
     "metadata": {},
     "output_type": "execute_result"
    }
   ],
   "source": [
    "# predict on train data (alpha=0.1)\n",
    "\n",
    "y_train_pred = ridge_cv_model.predict(X_train)\n",
    "y_train_pred"
   ]
  },
  {
   "cell_type": "code",
   "execution_count": 1638,
   "metadata": {},
   "outputs": [
    {
     "data": {
      "text/html": [
       "<div>\n",
       "<style scoped>\n",
       "    .dataframe tbody tr th:only-of-type {\n",
       "        vertical-align: middle;\n",
       "    }\n",
       "\n",
       "    .dataframe tbody tr th {\n",
       "        vertical-align: top;\n",
       "    }\n",
       "\n",
       "    .dataframe thead th {\n",
       "        text-align: right;\n",
       "    }\n",
       "</style>\n",
       "<table border=\"1\" class=\"dataframe\">\n",
       "  <thead>\n",
       "    <tr style=\"text-align: right;\">\n",
       "      <th></th>\n",
       "      <th>RidgeCV_train</th>\n",
       "      <th>RidgeCV_test</th>\n",
       "    </tr>\n",
       "  </thead>\n",
       "  <tbody>\n",
       "    <tr>\n",
       "      <th>R2</th>\n",
       "      <td>0.886153</td>\n",
       "      <td>0.875171</td>\n",
       "    </tr>\n",
       "    <tr>\n",
       "      <th>mae</th>\n",
       "      <td>1706.966021</td>\n",
       "      <td>1757.854734</td>\n",
       "    </tr>\n",
       "    <tr>\n",
       "      <th>mse</th>\n",
       "      <td>6088047.680598</td>\n",
       "      <td>7066348.921262</td>\n",
       "    </tr>\n",
       "    <tr>\n",
       "      <th>rmse</th>\n",
       "      <td>2467.396944</td>\n",
       "      <td>2658.260507</td>\n",
       "    </tr>\n",
       "  </tbody>\n",
       "</table>\n",
       "</div>"
      ],
      "text/plain": [
       "      RidgeCV_train   RidgeCV_test\n",
       "R2         0.886153       0.875171\n",
       "mae     1706.966021    1757.854734\n",
       "mse  6088047.680598 7066348.921262\n",
       "rmse    2467.396944    2658.260507"
      ]
     },
     "execution_count": 1638,
     "metadata": {},
     "output_type": "execute_result"
    }
   ],
   "source": [
    "# comparison of evaluation metrics for test and train data\n",
    "\n",
    "rg_cv_sc = train_val(y_train, y_train_pred, y_test, y_test_pred, \"RidgeCV\")\n",
    "rg_cv_sc"
   ]
  },
  {
   "cell_type": "code",
   "execution_count": 1639,
   "metadata": {
    "scrolled": false
   },
   "outputs": [
    {
     "data": {
      "text/html": [
       "<div>\n",
       "<style scoped>\n",
       "    .dataframe tbody tr th:only-of-type {\n",
       "        vertical-align: middle;\n",
       "    }\n",
       "\n",
       "    .dataframe tbody tr th {\n",
       "        vertical-align: top;\n",
       "    }\n",
       "\n",
       "    .dataframe thead th {\n",
       "        text-align: right;\n",
       "    }\n",
       "</style>\n",
       "<table border=\"1\" class=\"dataframe\">\n",
       "  <thead>\n",
       "    <tr style=\"text-align: right;\">\n",
       "      <th></th>\n",
       "      <th>Lm_train</th>\n",
       "      <th>Lm_test</th>\n",
       "      <th>Linear_MinMaxScaler_train</th>\n",
       "      <th>Linear_MinMaxScaler_test</th>\n",
       "      <th>Ridge_train</th>\n",
       "      <th>Ridge_test</th>\n",
       "      <th>RidgeCV_train</th>\n",
       "      <th>RidgeCV_test</th>\n",
       "    </tr>\n",
       "  </thead>\n",
       "  <tbody>\n",
       "    <tr>\n",
       "      <th>R2</th>\n",
       "      <td>0.893157</td>\n",
       "      <td>0.882850</td>\n",
       "      <td>0.893157</td>\n",
       "      <td>0.882850</td>\n",
       "      <td>0.822264</td>\n",
       "      <td>0.810479</td>\n",
       "      <td>0.886153</td>\n",
       "      <td>0.875171</td>\n",
       "    </tr>\n",
       "    <tr>\n",
       "      <th>mae</th>\n",
       "      <td>1676.831325</td>\n",
       "      <td>1728.127943</td>\n",
       "      <td>1676.831325</td>\n",
       "      <td>1728.127943</td>\n",
       "      <td>2135.611892</td>\n",
       "      <td>2186.871492</td>\n",
       "      <td>1706.966021</td>\n",
       "      <td>1757.854734</td>\n",
       "    </tr>\n",
       "    <tr>\n",
       "      <th>mse</th>\n",
       "      <td>5713523.565390</td>\n",
       "      <td>6631687.677788</td>\n",
       "      <td>5713523.565390</td>\n",
       "      <td>6631687.677799</td>\n",
       "      <td>9504543.508484</td>\n",
       "      <td>10728467.832500</td>\n",
       "      <td>6088047.680598</td>\n",
       "      <td>7066348.921262</td>\n",
       "    </tr>\n",
       "    <tr>\n",
       "      <th>rmse</th>\n",
       "      <td>2390.297798</td>\n",
       "      <td>2575.206337</td>\n",
       "      <td>2390.297798</td>\n",
       "      <td>2575.206337</td>\n",
       "      <td>3082.943968</td>\n",
       "      <td>3275.433991</td>\n",
       "      <td>2467.396944</td>\n",
       "      <td>2658.260507</td>\n",
       "    </tr>\n",
       "  </tbody>\n",
       "</table>\n",
       "</div>"
      ],
      "text/plain": [
       "           Lm_train        Lm_test  Linear_MinMaxScaler_train  \\\n",
       "R2         0.893157       0.882850                   0.893157   \n",
       "mae     1676.831325    1728.127943                1676.831325   \n",
       "mse  5713523.565390 6631687.677788             5713523.565390   \n",
       "rmse    2390.297798    2575.206337                2390.297798   \n",
       "\n",
       "      Linear_MinMaxScaler_test    Ridge_train      Ridge_test  RidgeCV_train  \\\n",
       "R2                    0.882850       0.822264        0.810479       0.886153   \n",
       "mae                1728.127943    2135.611892     2186.871492    1706.966021   \n",
       "mse             6631687.677799 9504543.508484 10728467.832500 6088047.680598   \n",
       "rmse               2575.206337    3082.943968     3275.433991    2467.396944   \n",
       "\n",
       "       RidgeCV_test  \n",
       "R2         0.875171  \n",
       "mae     1757.854734  \n",
       "mse  7066348.921262  \n",
       "rmse    2658.260507  "
      ]
     },
     "execution_count": 1639,
     "metadata": {},
     "output_type": "execute_result"
    }
   ],
   "source": [
    "# combine evaluation metrics of Linear, Linear_MinMaxScaler, Ridge and RidgeCV model to compare\n",
    "\n",
    "pd.concat([lm, lm_sc, rg_sc, rg_cv_sc], axis=1)"
   ]
  },
  {
   "cell_type": "code",
   "execution_count": 1640,
   "metadata": {
    "scrolled": true
   },
   "outputs": [
    {
     "name": "stdout",
     "output_type": "stream",
     "text": [
      "train RMSE: 0.13692363071616953\n",
      "test RMSE: 0.14751525120144818\n"
     ]
    }
   ],
   "source": [
    "print(\"train RMSE:\", 2467.396944/df[\"price\"].mean())\n",
    "print(\"test RMSE:\", 2658.260507/df[\"price\"].mean())"
   ]
  },
  {
   "cell_type": "markdown",
   "metadata": {
    "id": "oDfXOSnpmqZO"
   },
   "source": [
    "# Implement Lasso Regression"
   ]
  },
  {
   "cell_type": "markdown",
   "metadata": {
    "id": "icqyxzBymqZO"
   },
   "source": [
    "- Import the modul \n",
    "- Do not forget to scale the data or use Normalize parameter as True(If needed)\n",
    "- Fit the model \n",
    "- Predict the test set \n",
    "- Evaluate model performance (use performance metrics for regression) \n",
    "- Tune alpha hyperparameter by using [cross validation](https://scikit-learn.org/stable/modules/generated/sklearn.linear_model.LassoCV.html) and determine the optimal alpha value.\n",
    "- Fit the model and predict again with the new alpha value.\n",
    "- Compare different evaluation metrics\n",
    "\n",
    "*Note: To understand the importance of the alpha hyperparameter, you can observe the effects of different alpha values on feature coefficants.*"
   ]
  },
  {
   "cell_type": "code",
   "execution_count": 1641,
   "metadata": {
    "id": "KbGqu0u5mqZO"
   },
   "outputs": [],
   "source": [
    "# import Lasso and LassoCV models\n",
    "\n",
    "from sklearn.linear_model import Lasso, LassoCV"
   ]
  },
  {
   "cell_type": "code",
   "execution_count": 1642,
   "metadata": {},
   "outputs": [],
   "source": [
    "# create a model object with normalization\n",
    "\n",
    "model_lasso = Lasso(normalize=True) # alpha=1"
   ]
  },
  {
   "cell_type": "code",
   "execution_count": 1643,
   "metadata": {
    "scrolled": true
   },
   "outputs": [
    {
     "data": {
      "text/html": [
       "<style>#sk-container-id-132 {color: black;background-color: white;}#sk-container-id-132 pre{padding: 0;}#sk-container-id-132 div.sk-toggleable {background-color: white;}#sk-container-id-132 label.sk-toggleable__label {cursor: pointer;display: block;width: 100%;margin-bottom: 0;padding: 0.3em;box-sizing: border-box;text-align: center;}#sk-container-id-132 label.sk-toggleable__label-arrow:before {content: \"▸\";float: left;margin-right: 0.25em;color: #696969;}#sk-container-id-132 label.sk-toggleable__label-arrow:hover:before {color: black;}#sk-container-id-132 div.sk-estimator:hover label.sk-toggleable__label-arrow:before {color: black;}#sk-container-id-132 div.sk-toggleable__content {max-height: 0;max-width: 0;overflow: hidden;text-align: left;background-color: #f0f8ff;}#sk-container-id-132 div.sk-toggleable__content pre {margin: 0.2em;color: black;border-radius: 0.25em;background-color: #f0f8ff;}#sk-container-id-132 input.sk-toggleable__control:checked~div.sk-toggleable__content {max-height: 200px;max-width: 100%;overflow: auto;}#sk-container-id-132 input.sk-toggleable__control:checked~label.sk-toggleable__label-arrow:before {content: \"▾\";}#sk-container-id-132 div.sk-estimator input.sk-toggleable__control:checked~label.sk-toggleable__label {background-color: #d4ebff;}#sk-container-id-132 div.sk-label input.sk-toggleable__control:checked~label.sk-toggleable__label {background-color: #d4ebff;}#sk-container-id-132 input.sk-hidden--visually {border: 0;clip: rect(1px 1px 1px 1px);clip: rect(1px, 1px, 1px, 1px);height: 1px;margin: -1px;overflow: hidden;padding: 0;position: absolute;width: 1px;}#sk-container-id-132 div.sk-estimator {font-family: monospace;background-color: #f0f8ff;border: 1px dotted black;border-radius: 0.25em;box-sizing: border-box;margin-bottom: 0.5em;}#sk-container-id-132 div.sk-estimator:hover {background-color: #d4ebff;}#sk-container-id-132 div.sk-parallel-item::after {content: \"\";width: 100%;border-bottom: 1px solid gray;flex-grow: 1;}#sk-container-id-132 div.sk-label:hover label.sk-toggleable__label {background-color: #d4ebff;}#sk-container-id-132 div.sk-serial::before {content: \"\";position: absolute;border-left: 1px solid gray;box-sizing: border-box;top: 0;bottom: 0;left: 50%;z-index: 0;}#sk-container-id-132 div.sk-serial {display: flex;flex-direction: column;align-items: center;background-color: white;padding-right: 0.2em;padding-left: 0.2em;position: relative;}#sk-container-id-132 div.sk-item {position: relative;z-index: 1;}#sk-container-id-132 div.sk-parallel {display: flex;align-items: stretch;justify-content: center;background-color: white;position: relative;}#sk-container-id-132 div.sk-item::before, #sk-container-id-132 div.sk-parallel-item::before {content: \"\";position: absolute;border-left: 1px solid gray;box-sizing: border-box;top: 0;bottom: 0;left: 50%;z-index: -1;}#sk-container-id-132 div.sk-parallel-item {display: flex;flex-direction: column;z-index: 1;position: relative;background-color: white;}#sk-container-id-132 div.sk-parallel-item:first-child::after {align-self: flex-end;width: 50%;}#sk-container-id-132 div.sk-parallel-item:last-child::after {align-self: flex-start;width: 50%;}#sk-container-id-132 div.sk-parallel-item:only-child::after {width: 0;}#sk-container-id-132 div.sk-dashed-wrapped {border: 1px dashed gray;margin: 0 0.4em 0.5em 0.4em;box-sizing: border-box;padding-bottom: 0.4em;background-color: white;}#sk-container-id-132 div.sk-label label {font-family: monospace;font-weight: bold;display: inline-block;line-height: 1.2em;}#sk-container-id-132 div.sk-label-container {text-align: center;}#sk-container-id-132 div.sk-container {/* jupyter's `normalize.less` sets `[hidden] { display: none; }` but bootstrap.min.css set `[hidden] { display: none !important; }` so we also need the `!important` here to be able to override the default hidden behavior on the sphinx rendered scikit-learn.org. See: https://github.com/scikit-learn/scikit-learn/issues/21755 */display: inline-block !important;position: relative;}#sk-container-id-132 div.sk-text-repr-fallback {display: none;}</style><div id=\"sk-container-id-132\" class=\"sk-top-container\"><div class=\"sk-text-repr-fallback\"><pre>Lasso(normalize=True)</pre><b>In a Jupyter environment, please rerun this cell to show the HTML representation or trust the notebook. <br />On GitHub, the HTML representation is unable to render, please try loading this page with nbviewer.org.</b></div><div class=\"sk-container\" hidden><div class=\"sk-item\"><div class=\"sk-estimator sk-toggleable\"><input class=\"sk-toggleable__control sk-hidden--visually\" id=\"sk-estimator-id-170\" type=\"checkbox\" checked><label for=\"sk-estimator-id-170\" class=\"sk-toggleable__label sk-toggleable__label-arrow\">Lasso</label><div class=\"sk-toggleable__content\"><pre>Lasso(normalize=True)</pre></div></div></div></div></div>"
      ],
      "text/plain": [
       "Lasso(normalize=True)"
      ]
     },
     "execution_count": 1643,
     "metadata": {},
     "output_type": "execute_result"
    }
   ],
   "source": [
    "# fit the model using train data\n",
    "\n",
    "model_lasso.fit(X_train, y_train)"
   ]
  },
  {
   "cell_type": "code",
   "execution_count": 1644,
   "metadata": {},
   "outputs": [
    {
     "data": {
      "text/plain": [
       "array([13041.91140596,  6931.44390825, 12620.10275222, ...,\n",
       "       10065.72048705, 16390.85710161, 36180.2163649 ])"
      ]
     },
     "execution_count": 1644,
     "metadata": {},
     "output_type": "execute_result"
    }
   ],
   "source": [
    "# predict on test data\n",
    "\n",
    "y_test_pred = model_lasso.predict(X_test)\n",
    "y_test_pred"
   ]
  },
  {
   "cell_type": "code",
   "execution_count": 1645,
   "metadata": {},
   "outputs": [
    {
     "data": {
      "text/plain": [
       "array([17982.88412788, 15331.26047448, 19684.04371613, ...,\n",
       "       19444.17451958, 36087.76413649, 17332.45086143])"
      ]
     },
     "execution_count": 1645,
     "metadata": {},
     "output_type": "execute_result"
    }
   ],
   "source": [
    "# predict on train data\n",
    "\n",
    "y_train_pred = model_lasso.predict(X_train)\n",
    "y_train_pred"
   ]
  },
  {
   "cell_type": "code",
   "execution_count": 1646,
   "metadata": {},
   "outputs": [
    {
     "data": {
      "text/html": [
       "<div>\n",
       "<style scoped>\n",
       "    .dataframe tbody tr th:only-of-type {\n",
       "        vertical-align: middle;\n",
       "    }\n",
       "\n",
       "    .dataframe tbody tr th {\n",
       "        vertical-align: top;\n",
       "    }\n",
       "\n",
       "    .dataframe thead th {\n",
       "        text-align: right;\n",
       "    }\n",
       "</style>\n",
       "<table border=\"1\" class=\"dataframe\">\n",
       "  <thead>\n",
       "    <tr style=\"text-align: right;\">\n",
       "      <th></th>\n",
       "      <th>Lasso_train</th>\n",
       "      <th>Lasso_test</th>\n",
       "    </tr>\n",
       "  </thead>\n",
       "  <tbody>\n",
       "    <tr>\n",
       "      <th>R2</th>\n",
       "      <td>0.880927</td>\n",
       "      <td>0.871988</td>\n",
       "    </tr>\n",
       "    <tr>\n",
       "      <th>mae</th>\n",
       "      <td>1748.093701</td>\n",
       "      <td>1789.743342</td>\n",
       "    </tr>\n",
       "    <tr>\n",
       "      <th>mse</th>\n",
       "      <td>6367491.225264</td>\n",
       "      <td>7246570.142487</td>\n",
       "    </tr>\n",
       "    <tr>\n",
       "      <th>rmse</th>\n",
       "      <td>2523.388838</td>\n",
       "      <td>2691.945420</td>\n",
       "    </tr>\n",
       "  </tbody>\n",
       "</table>\n",
       "</div>"
      ],
      "text/plain": [
       "        Lasso_train     Lasso_test\n",
       "R2         0.880927       0.871988\n",
       "mae     1748.093701    1789.743342\n",
       "mse  6367491.225264 7246570.142487\n",
       "rmse    2523.388838    2691.945420"
      ]
     },
     "execution_count": 1646,
     "metadata": {},
     "output_type": "execute_result"
    }
   ],
   "source": [
    "# comparison of evaluation metrics for test and train data\n",
    "\n",
    "ls_sc = train_val(y_train, y_train_pred, y_test, y_test_pred, \"Lasso\")\n",
    "ls_sc"
   ]
  },
  {
   "cell_type": "code",
   "execution_count": 1647,
   "metadata": {
    "scrolled": true
   },
   "outputs": [
    {
     "data": {
      "text/html": [
       "<div>\n",
       "<style scoped>\n",
       "    .dataframe tbody tr th:only-of-type {\n",
       "        vertical-align: middle;\n",
       "    }\n",
       "\n",
       "    .dataframe tbody tr th {\n",
       "        vertical-align: top;\n",
       "    }\n",
       "\n",
       "    .dataframe thead th {\n",
       "        text-align: right;\n",
       "    }\n",
       "</style>\n",
       "<table border=\"1\" class=\"dataframe\">\n",
       "  <thead>\n",
       "    <tr style=\"text-align: right;\">\n",
       "      <th></th>\n",
       "      <th>Lm_train</th>\n",
       "      <th>Lm_test</th>\n",
       "      <th>Linear_MinMaxScaler_train</th>\n",
       "      <th>Linear_MinMaxScaler_test</th>\n",
       "      <th>Ridge_train</th>\n",
       "      <th>Ridge_test</th>\n",
       "      <th>RidgeCV_train</th>\n",
       "      <th>RidgeCV_test</th>\n",
       "      <th>Lasso_train</th>\n",
       "      <th>Lasso_test</th>\n",
       "    </tr>\n",
       "  </thead>\n",
       "  <tbody>\n",
       "    <tr>\n",
       "      <th>R2</th>\n",
       "      <td>0.893157</td>\n",
       "      <td>0.882850</td>\n",
       "      <td>0.893157</td>\n",
       "      <td>0.882850</td>\n",
       "      <td>0.822264</td>\n",
       "      <td>0.810479</td>\n",
       "      <td>0.886153</td>\n",
       "      <td>0.875171</td>\n",
       "      <td>0.880927</td>\n",
       "      <td>0.871988</td>\n",
       "    </tr>\n",
       "    <tr>\n",
       "      <th>mae</th>\n",
       "      <td>1676.831325</td>\n",
       "      <td>1728.127943</td>\n",
       "      <td>1676.831325</td>\n",
       "      <td>1728.127943</td>\n",
       "      <td>2135.611892</td>\n",
       "      <td>2186.871492</td>\n",
       "      <td>1706.966021</td>\n",
       "      <td>1757.854734</td>\n",
       "      <td>1748.093701</td>\n",
       "      <td>1789.743342</td>\n",
       "    </tr>\n",
       "    <tr>\n",
       "      <th>mse</th>\n",
       "      <td>5713523.565390</td>\n",
       "      <td>6631687.677788</td>\n",
       "      <td>5713523.565390</td>\n",
       "      <td>6631687.677799</td>\n",
       "      <td>9504543.508484</td>\n",
       "      <td>10728467.832500</td>\n",
       "      <td>6088047.680598</td>\n",
       "      <td>7066348.921262</td>\n",
       "      <td>6367491.225264</td>\n",
       "      <td>7246570.142487</td>\n",
       "    </tr>\n",
       "    <tr>\n",
       "      <th>rmse</th>\n",
       "      <td>2390.297798</td>\n",
       "      <td>2575.206337</td>\n",
       "      <td>2390.297798</td>\n",
       "      <td>2575.206337</td>\n",
       "      <td>3082.943968</td>\n",
       "      <td>3275.433991</td>\n",
       "      <td>2467.396944</td>\n",
       "      <td>2658.260507</td>\n",
       "      <td>2523.388838</td>\n",
       "      <td>2691.945420</td>\n",
       "    </tr>\n",
       "  </tbody>\n",
       "</table>\n",
       "</div>"
      ],
      "text/plain": [
       "           Lm_train        Lm_test  Linear_MinMaxScaler_train  \\\n",
       "R2         0.893157       0.882850                   0.893157   \n",
       "mae     1676.831325    1728.127943                1676.831325   \n",
       "mse  5713523.565390 6631687.677788             5713523.565390   \n",
       "rmse    2390.297798    2575.206337                2390.297798   \n",
       "\n",
       "      Linear_MinMaxScaler_test    Ridge_train      Ridge_test  RidgeCV_train  \\\n",
       "R2                    0.882850       0.822264        0.810479       0.886153   \n",
       "mae                1728.127943    2135.611892     2186.871492    1706.966021   \n",
       "mse             6631687.677799 9504543.508484 10728467.832500 6088047.680598   \n",
       "rmse               2575.206337    3082.943968     3275.433991    2467.396944   \n",
       "\n",
       "       RidgeCV_test    Lasso_train     Lasso_test  \n",
       "R2         0.875171       0.880927       0.871988  \n",
       "mae     1757.854734    1748.093701    1789.743342  \n",
       "mse  7066348.921262 6367491.225264 7246570.142487  \n",
       "rmse    2658.260507    2523.388838    2691.945420  "
      ]
     },
     "execution_count": 1647,
     "metadata": {},
     "output_type": "execute_result"
    }
   ],
   "source": [
    "# combine evaluation metrics of Linear, Linear_MinMaxScaler, Ridge, RidgeCV and Lasso model to compare\n",
    "\n",
    "pd.concat([lm, lm_sc, rg_sc, rg_cv_sc, ls_sc], axis=1)"
   ]
  },
  {
   "cell_type": "code",
   "execution_count": 1648,
   "metadata": {},
   "outputs": [
    {
     "data": {
      "text/plain": [
       "array([-3.35787387e-02,  8.13216043e+02, -1.64713166e+03,  0.00000000e+00,\n",
       "        8.40847829e+01, -0.00000000e+00,  0.00000000e+00, -0.00000000e+00,\n",
       "       -3.55536638e+00,  0.00000000e+00, -0.00000000e+00,  0.00000000e+00,\n",
       "        3.55954659e+02, -0.00000000e+00,  0.00000000e+00, -0.00000000e+00,\n",
       "        0.00000000e+00, -0.00000000e+00,  0.00000000e+00,  6.93028898e+01,\n",
       "        2.41058589e+03,  0.00000000e+00, -0.00000000e+00,  0.00000000e+00,\n",
       "       -0.00000000e+00,  0.00000000e+00,  0.00000000e+00, -0.00000000e+00,\n",
       "        1.63041308e+02,  0.00000000e+00,  0.00000000e+00,  0.00000000e+00,\n",
       "        3.14305382e+02,  0.00000000e+00,  8.87862786e+02,  0.00000000e+00,\n",
       "        0.00000000e+00,  0.00000000e+00,  0.00000000e+00,  2.65179687e+01,\n",
       "        7.88859192e+02, -0.00000000e+00,  0.00000000e+00,  2.84995466e+01,\n",
       "       -0.00000000e+00, -0.00000000e+00, -0.00000000e+00, -1.78519814e+02,\n",
       "        0.00000000e+00,  4.82844641e+02, -0.00000000e+00,  0.00000000e+00,\n",
       "       -0.00000000e+00,  0.00000000e+00, -0.00000000e+00, -0.00000000e+00,\n",
       "       -3.14508248e+02,  2.01092142e+02,  0.00000000e+00,  0.00000000e+00,\n",
       "       -0.00000000e+00, -0.00000000e+00, -0.00000000e+00,  0.00000000e+00,\n",
       "       -0.00000000e+00,  0.00000000e+00,  3.37011444e+02,  0.00000000e+00,\n",
       "        0.00000000e+00, -1.57374669e+02,  0.00000000e+00,  0.00000000e+00,\n",
       "       -0.00000000e+00, -0.00000000e+00, -0.00000000e+00,  0.00000000e+00,\n",
       "        0.00000000e+00,  0.00000000e+00,  0.00000000e+00, -0.00000000e+00,\n",
       "       -0.00000000e+00, -0.00000000e+00,  0.00000000e+00,  0.00000000e+00,\n",
       "       -0.00000000e+00,  0.00000000e+00, -5.89215436e+02, -0.00000000e+00,\n",
       "       -0.00000000e+00, -0.00000000e+00, -3.06008563e+02, -6.72203613e+00,\n",
       "        8.03068229e+02,  6.68596074e+02, -0.00000000e+00,  0.00000000e+00,\n",
       "       -1.35309852e+02, -3.32214159e+02,  0.00000000e+00, -0.00000000e+00,\n",
       "        0.00000000e+00,  0.00000000e+00,  0.00000000e+00,  1.44238750e+03,\n",
       "       -2.70754574e+03, -4.34602619e+03, -1.55059900e+02, -4.18103201e+03,\n",
       "       -6.18623673e+03,  3.84898255e+03,  0.00000000e+00, -0.00000000e+00,\n",
       "       -0.00000000e+00,  0.00000000e+00, -0.00000000e+00, -0.00000000e+00,\n",
       "        1.50078577e+03, -1.17124390e+03,  0.00000000e+00, -6.55625480e+02,\n",
       "       -1.45960046e+03,  0.00000000e+00, -0.00000000e+00,  0.00000000e+00,\n",
       "        0.00000000e+00,  1.57826530e+02, -1.30171350e+03,  1.64500331e+03,\n",
       "       -1.27847013e+03, -0.00000000e+00])"
      ]
     },
     "execution_count": 1648,
     "metadata": {},
     "output_type": "execute_result"
    }
   ],
   "source": [
    "model_lasso.coef_"
   ]
  },
  {
   "cell_type": "code",
   "execution_count": 1649,
   "metadata": {},
   "outputs": [
    {
     "data": {
      "text/plain": [
       "13086.589780343502"
      ]
     },
     "execution_count": 1649,
     "metadata": {},
     "output_type": "execute_result"
    }
   ],
   "source": [
    "model_lasso.intercept_"
   ]
  },
  {
   "cell_type": "code",
   "execution_count": 1650,
   "metadata": {
    "scrolled": true
   },
   "outputs": [
    {
     "name": "stdout",
     "output_type": "stream",
     "text": [
      "train RMSE: 0.1400307973339275\n",
      "test RMSE: 0.14938453315850578\n"
     ]
    }
   ],
   "source": [
    "print(\"train RMSE:\", 2523.388838/df[\"price\"].mean())\n",
    "print(\"test RMSE:\", 2691.945420/df[\"price\"].mean())"
   ]
  },
  {
   "cell_type": "markdown",
   "metadata": {},
   "source": [
    "## Hyperparameter tuning with LassoCV"
   ]
  },
  {
   "cell_type": "code",
   "execution_count": 1651,
   "metadata": {},
   "outputs": [],
   "source": [
    "# create a model object with alphas (normalized=True means data will be scaled using MinMaxScaler)\n",
    "\n",
    "lasso_cv_model = LassoCV(alphas=alpha_space, normalize=True, cv = 10, max_iter=100000, random_state=42)"
   ]
  },
  {
   "cell_type": "code",
   "execution_count": 1652,
   "metadata": {
    "scrolled": false
   },
   "outputs": [
    {
     "data": {
      "text/html": [
       "<style>#sk-container-id-133 {color: black;background-color: white;}#sk-container-id-133 pre{padding: 0;}#sk-container-id-133 div.sk-toggleable {background-color: white;}#sk-container-id-133 label.sk-toggleable__label {cursor: pointer;display: block;width: 100%;margin-bottom: 0;padding: 0.3em;box-sizing: border-box;text-align: center;}#sk-container-id-133 label.sk-toggleable__label-arrow:before {content: \"▸\";float: left;margin-right: 0.25em;color: #696969;}#sk-container-id-133 label.sk-toggleable__label-arrow:hover:before {color: black;}#sk-container-id-133 div.sk-estimator:hover label.sk-toggleable__label-arrow:before {color: black;}#sk-container-id-133 div.sk-toggleable__content {max-height: 0;max-width: 0;overflow: hidden;text-align: left;background-color: #f0f8ff;}#sk-container-id-133 div.sk-toggleable__content pre {margin: 0.2em;color: black;border-radius: 0.25em;background-color: #f0f8ff;}#sk-container-id-133 input.sk-toggleable__control:checked~div.sk-toggleable__content {max-height: 200px;max-width: 100%;overflow: auto;}#sk-container-id-133 input.sk-toggleable__control:checked~label.sk-toggleable__label-arrow:before {content: \"▾\";}#sk-container-id-133 div.sk-estimator input.sk-toggleable__control:checked~label.sk-toggleable__label {background-color: #d4ebff;}#sk-container-id-133 div.sk-label input.sk-toggleable__control:checked~label.sk-toggleable__label {background-color: #d4ebff;}#sk-container-id-133 input.sk-hidden--visually {border: 0;clip: rect(1px 1px 1px 1px);clip: rect(1px, 1px, 1px, 1px);height: 1px;margin: -1px;overflow: hidden;padding: 0;position: absolute;width: 1px;}#sk-container-id-133 div.sk-estimator {font-family: monospace;background-color: #f0f8ff;border: 1px dotted black;border-radius: 0.25em;box-sizing: border-box;margin-bottom: 0.5em;}#sk-container-id-133 div.sk-estimator:hover {background-color: #d4ebff;}#sk-container-id-133 div.sk-parallel-item::after {content: \"\";width: 100%;border-bottom: 1px solid gray;flex-grow: 1;}#sk-container-id-133 div.sk-label:hover label.sk-toggleable__label {background-color: #d4ebff;}#sk-container-id-133 div.sk-serial::before {content: \"\";position: absolute;border-left: 1px solid gray;box-sizing: border-box;top: 0;bottom: 0;left: 50%;z-index: 0;}#sk-container-id-133 div.sk-serial {display: flex;flex-direction: column;align-items: center;background-color: white;padding-right: 0.2em;padding-left: 0.2em;position: relative;}#sk-container-id-133 div.sk-item {position: relative;z-index: 1;}#sk-container-id-133 div.sk-parallel {display: flex;align-items: stretch;justify-content: center;background-color: white;position: relative;}#sk-container-id-133 div.sk-item::before, #sk-container-id-133 div.sk-parallel-item::before {content: \"\";position: absolute;border-left: 1px solid gray;box-sizing: border-box;top: 0;bottom: 0;left: 50%;z-index: -1;}#sk-container-id-133 div.sk-parallel-item {display: flex;flex-direction: column;z-index: 1;position: relative;background-color: white;}#sk-container-id-133 div.sk-parallel-item:first-child::after {align-self: flex-end;width: 50%;}#sk-container-id-133 div.sk-parallel-item:last-child::after {align-self: flex-start;width: 50%;}#sk-container-id-133 div.sk-parallel-item:only-child::after {width: 0;}#sk-container-id-133 div.sk-dashed-wrapped {border: 1px dashed gray;margin: 0 0.4em 0.5em 0.4em;box-sizing: border-box;padding-bottom: 0.4em;background-color: white;}#sk-container-id-133 div.sk-label label {font-family: monospace;font-weight: bold;display: inline-block;line-height: 1.2em;}#sk-container-id-133 div.sk-label-container {text-align: center;}#sk-container-id-133 div.sk-container {/* jupyter's `normalize.less` sets `[hidden] { display: none; }` but bootstrap.min.css set `[hidden] { display: none !important; }` so we also need the `!important` here to be able to override the default hidden behavior on the sphinx rendered scikit-learn.org. See: https://github.com/scikit-learn/scikit-learn/issues/21755 */display: inline-block !important;position: relative;}#sk-container-id-133 div.sk-text-repr-fallback {display: none;}</style><div id=\"sk-container-id-133\" class=\"sk-top-container\"><div class=\"sk-text-repr-fallback\"><pre>LassoCV(alphas=array([0.1       , 0.10909091, 0.11818182, 0.12727273, 0.13636364,\n",
       "       0.14545455, 0.15454545, 0.16363636, 0.17272727, 0.18181818,\n",
       "       0.19090909, 0.2       , 0.20909091, 0.21818182, 0.22727273,\n",
       "       0.23636364, 0.24545455, 0.25454545, 0.26363636, 0.27272727,\n",
       "       0.28181818, 0.29090909, 0.3       , 0.30909091, 0.31818182,\n",
       "       0.32727273, 0.33636364, 0.34545455, 0.35454545, 0.36363636,\n",
       "       0.37272727, 0.381818...\n",
       "       0.73636364, 0.74545455, 0.75454545, 0.76363636, 0.77272727,\n",
       "       0.78181818, 0.79090909, 0.8       , 0.80909091, 0.81818182,\n",
       "       0.82727273, 0.83636364, 0.84545455, 0.85454545, 0.86363636,\n",
       "       0.87272727, 0.88181818, 0.89090909, 0.9       , 0.90909091,\n",
       "       0.91818182, 0.92727273, 0.93636364, 0.94545455, 0.95454545,\n",
       "       0.96363636, 0.97272727, 0.98181818, 0.99090909, 1.        ]),\n",
       "        cv=10, max_iter=100000, normalize=True, random_state=42)</pre><b>In a Jupyter environment, please rerun this cell to show the HTML representation or trust the notebook. <br />On GitHub, the HTML representation is unable to render, please try loading this page with nbviewer.org.</b></div><div class=\"sk-container\" hidden><div class=\"sk-item\"><div class=\"sk-estimator sk-toggleable\"><input class=\"sk-toggleable__control sk-hidden--visually\" id=\"sk-estimator-id-171\" type=\"checkbox\" checked><label for=\"sk-estimator-id-171\" class=\"sk-toggleable__label sk-toggleable__label-arrow\">LassoCV</label><div class=\"sk-toggleable__content\"><pre>LassoCV(alphas=array([0.1       , 0.10909091, 0.11818182, 0.12727273, 0.13636364,\n",
       "       0.14545455, 0.15454545, 0.16363636, 0.17272727, 0.18181818,\n",
       "       0.19090909, 0.2       , 0.20909091, 0.21818182, 0.22727273,\n",
       "       0.23636364, 0.24545455, 0.25454545, 0.26363636, 0.27272727,\n",
       "       0.28181818, 0.29090909, 0.3       , 0.30909091, 0.31818182,\n",
       "       0.32727273, 0.33636364, 0.34545455, 0.35454545, 0.36363636,\n",
       "       0.37272727, 0.381818...\n",
       "       0.73636364, 0.74545455, 0.75454545, 0.76363636, 0.77272727,\n",
       "       0.78181818, 0.79090909, 0.8       , 0.80909091, 0.81818182,\n",
       "       0.82727273, 0.83636364, 0.84545455, 0.85454545, 0.86363636,\n",
       "       0.87272727, 0.88181818, 0.89090909, 0.9       , 0.90909091,\n",
       "       0.91818182, 0.92727273, 0.93636364, 0.94545455, 0.95454545,\n",
       "       0.96363636, 0.97272727, 0.98181818, 0.99090909, 1.        ]),\n",
       "        cv=10, max_iter=100000, normalize=True, random_state=42)</pre></div></div></div></div></div>"
      ],
      "text/plain": [
       "LassoCV(alphas=array([0.1       , 0.10909091, 0.11818182, 0.12727273, 0.13636364,\n",
       "       0.14545455, 0.15454545, 0.16363636, 0.17272727, 0.18181818,\n",
       "       0.19090909, 0.2       , 0.20909091, 0.21818182, 0.22727273,\n",
       "       0.23636364, 0.24545455, 0.25454545, 0.26363636, 0.27272727,\n",
       "       0.28181818, 0.29090909, 0.3       , 0.30909091, 0.31818182,\n",
       "       0.32727273, 0.33636364, 0.34545455, 0.35454545, 0.36363636,\n",
       "       0.37272727, 0.381818...\n",
       "       0.73636364, 0.74545455, 0.75454545, 0.76363636, 0.77272727,\n",
       "       0.78181818, 0.79090909, 0.8       , 0.80909091, 0.81818182,\n",
       "       0.82727273, 0.83636364, 0.84545455, 0.85454545, 0.86363636,\n",
       "       0.87272727, 0.88181818, 0.89090909, 0.9       , 0.90909091,\n",
       "       0.91818182, 0.92727273, 0.93636364, 0.94545455, 0.95454545,\n",
       "       0.96363636, 0.97272727, 0.98181818, 0.99090909, 1.        ]),\n",
       "        cv=10, max_iter=100000, normalize=True, random_state=42)"
      ]
     },
     "execution_count": 1652,
     "metadata": {},
     "output_type": "execute_result"
    }
   ],
   "source": [
    "# fit the model using train data\n",
    "\n",
    "lasso_cv_model.fit(X_train, y_train)"
   ]
  },
  {
   "cell_type": "code",
   "execution_count": 1653,
   "metadata": {},
   "outputs": [
    {
     "data": {
      "text/plain": [
       "0.1"
      ]
     },
     "execution_count": 1653,
     "metadata": {},
     "output_type": "execute_result"
    }
   ],
   "source": [
    "# best alpha for Ridge model\n",
    "\n",
    "lasso_cv_model.alpha_"
   ]
  },
  {
   "cell_type": "code",
   "execution_count": 1654,
   "metadata": {},
   "outputs": [
    {
     "data": {
      "text/plain": [
       "array([12784.61329565,  7573.60010256, 12013.39717162, ...,\n",
       "       10084.91481217, 15980.21799912, 36749.56458825])"
      ]
     },
     "execution_count": 1654,
     "metadata": {},
     "output_type": "execute_result"
    }
   ],
   "source": [
    "# predict on test data (alpha=0.1)\n",
    "\n",
    "y_test_pred = lasso_cv_model.predict(X_test)\n",
    "y_test_pred"
   ]
  },
  {
   "cell_type": "code",
   "execution_count": 1655,
   "metadata": {},
   "outputs": [
    {
     "data": {
      "text/plain": [
       "array([17442.73763555, 14350.78091599, 19593.7310511 , ...,\n",
       "       19660.94630849, 37116.58432994, 17150.9457692 ])"
      ]
     },
     "execution_count": 1655,
     "metadata": {},
     "output_type": "execute_result"
    }
   ],
   "source": [
    "# predict on train data (alpha=0.1)\n",
    "\n",
    "y_train_pred = lasso_cv_model.predict(X_train)\n",
    "y_train_pred"
   ]
  },
  {
   "cell_type": "code",
   "execution_count": 1656,
   "metadata": {},
   "outputs": [
    {
     "data": {
      "text/html": [
       "<div>\n",
       "<style scoped>\n",
       "    .dataframe tbody tr th:only-of-type {\n",
       "        vertical-align: middle;\n",
       "    }\n",
       "\n",
       "    .dataframe tbody tr th {\n",
       "        vertical-align: top;\n",
       "    }\n",
       "\n",
       "    .dataframe thead th {\n",
       "        text-align: right;\n",
       "    }\n",
       "</style>\n",
       "<table border=\"1\" class=\"dataframe\">\n",
       "  <thead>\n",
       "    <tr style=\"text-align: right;\">\n",
       "      <th></th>\n",
       "      <th>LassoCV_train</th>\n",
       "      <th>LassoCV_test</th>\n",
       "    </tr>\n",
       "  </thead>\n",
       "  <tbody>\n",
       "    <tr>\n",
       "      <th>R2</th>\n",
       "      <td>0.892639</td>\n",
       "      <td>0.882641</td>\n",
       "    </tr>\n",
       "    <tr>\n",
       "      <th>mae</th>\n",
       "      <td>1675.789547</td>\n",
       "      <td>1724.681751</td>\n",
       "    </tr>\n",
       "    <tr>\n",
       "      <th>mse</th>\n",
       "      <td>5741199.557586</td>\n",
       "      <td>6643487.878513</td>\n",
       "    </tr>\n",
       "    <tr>\n",
       "      <th>rmse</th>\n",
       "      <td>2396.080040</td>\n",
       "      <td>2577.496436</td>\n",
       "    </tr>\n",
       "  </tbody>\n",
       "</table>\n",
       "</div>"
      ],
      "text/plain": [
       "      LassoCV_train   LassoCV_test\n",
       "R2         0.892639       0.882641\n",
       "mae     1675.789547    1724.681751\n",
       "mse  5741199.557586 6643487.878513\n",
       "rmse    2396.080040    2577.496436"
      ]
     },
     "execution_count": 1656,
     "metadata": {},
     "output_type": "execute_result"
    }
   ],
   "source": [
    "# comparison of evaluation metrics for test and train data\n",
    "\n",
    "ls_cv_sc = train_val(y_train, y_train_pred, y_test, y_test_pred, \"LassoCV\")\n",
    "ls_cv_sc"
   ]
  },
  {
   "cell_type": "code",
   "execution_count": 1657,
   "metadata": {
    "scrolled": false
   },
   "outputs": [
    {
     "data": {
      "text/html": [
       "<div>\n",
       "<style scoped>\n",
       "    .dataframe tbody tr th:only-of-type {\n",
       "        vertical-align: middle;\n",
       "    }\n",
       "\n",
       "    .dataframe tbody tr th {\n",
       "        vertical-align: top;\n",
       "    }\n",
       "\n",
       "    .dataframe thead th {\n",
       "        text-align: right;\n",
       "    }\n",
       "</style>\n",
       "<table border=\"1\" class=\"dataframe\">\n",
       "  <thead>\n",
       "    <tr style=\"text-align: right;\">\n",
       "      <th></th>\n",
       "      <th>Lm_train</th>\n",
       "      <th>Lm_test</th>\n",
       "      <th>Linear_MinMaxScaler_train</th>\n",
       "      <th>Linear_MinMaxScaler_test</th>\n",
       "      <th>Ridge_train</th>\n",
       "      <th>Ridge_test</th>\n",
       "      <th>RidgeCV_train</th>\n",
       "      <th>RidgeCV_test</th>\n",
       "      <th>Lasso_train</th>\n",
       "      <th>Lasso_test</th>\n",
       "      <th>LassoCV_train</th>\n",
       "      <th>LassoCV_test</th>\n",
       "    </tr>\n",
       "  </thead>\n",
       "  <tbody>\n",
       "    <tr>\n",
       "      <th>R2</th>\n",
       "      <td>0.893157</td>\n",
       "      <td>0.882850</td>\n",
       "      <td>0.893157</td>\n",
       "      <td>0.882850</td>\n",
       "      <td>0.822264</td>\n",
       "      <td>0.810479</td>\n",
       "      <td>0.886153</td>\n",
       "      <td>0.875171</td>\n",
       "      <td>0.880927</td>\n",
       "      <td>0.871988</td>\n",
       "      <td>0.892639</td>\n",
       "      <td>0.882641</td>\n",
       "    </tr>\n",
       "    <tr>\n",
       "      <th>mae</th>\n",
       "      <td>1676.831325</td>\n",
       "      <td>1728.127943</td>\n",
       "      <td>1676.831325</td>\n",
       "      <td>1728.127943</td>\n",
       "      <td>2135.611892</td>\n",
       "      <td>2186.871492</td>\n",
       "      <td>1706.966021</td>\n",
       "      <td>1757.854734</td>\n",
       "      <td>1748.093701</td>\n",
       "      <td>1789.743342</td>\n",
       "      <td>1675.789547</td>\n",
       "      <td>1724.681751</td>\n",
       "    </tr>\n",
       "    <tr>\n",
       "      <th>mse</th>\n",
       "      <td>5713523.565390</td>\n",
       "      <td>6631687.677788</td>\n",
       "      <td>5713523.565390</td>\n",
       "      <td>6631687.677799</td>\n",
       "      <td>9504543.508484</td>\n",
       "      <td>10728467.832500</td>\n",
       "      <td>6088047.680598</td>\n",
       "      <td>7066348.921262</td>\n",
       "      <td>6367491.225264</td>\n",
       "      <td>7246570.142487</td>\n",
       "      <td>5741199.557586</td>\n",
       "      <td>6643487.878513</td>\n",
       "    </tr>\n",
       "    <tr>\n",
       "      <th>rmse</th>\n",
       "      <td>2390.297798</td>\n",
       "      <td>2575.206337</td>\n",
       "      <td>2390.297798</td>\n",
       "      <td>2575.206337</td>\n",
       "      <td>3082.943968</td>\n",
       "      <td>3275.433991</td>\n",
       "      <td>2467.396944</td>\n",
       "      <td>2658.260507</td>\n",
       "      <td>2523.388838</td>\n",
       "      <td>2691.945420</td>\n",
       "      <td>2396.080040</td>\n",
       "      <td>2577.496436</td>\n",
       "    </tr>\n",
       "  </tbody>\n",
       "</table>\n",
       "</div>"
      ],
      "text/plain": [
       "           Lm_train        Lm_test  Linear_MinMaxScaler_train  \\\n",
       "R2         0.893157       0.882850                   0.893157   \n",
       "mae     1676.831325    1728.127943                1676.831325   \n",
       "mse  5713523.565390 6631687.677788             5713523.565390   \n",
       "rmse    2390.297798    2575.206337                2390.297798   \n",
       "\n",
       "      Linear_MinMaxScaler_test    Ridge_train      Ridge_test  RidgeCV_train  \\\n",
       "R2                    0.882850       0.822264        0.810479       0.886153   \n",
       "mae                1728.127943    2135.611892     2186.871492    1706.966021   \n",
       "mse             6631687.677799 9504543.508484 10728467.832500 6088047.680598   \n",
       "rmse               2575.206337    3082.943968     3275.433991    2467.396944   \n",
       "\n",
       "       RidgeCV_test    Lasso_train     Lasso_test  LassoCV_train  \\\n",
       "R2         0.875171       0.880927       0.871988       0.892639   \n",
       "mae     1757.854734    1748.093701    1789.743342    1675.789547   \n",
       "mse  7066348.921262 6367491.225264 7246570.142487 5741199.557586   \n",
       "rmse    2658.260507    2523.388838    2691.945420    2396.080040   \n",
       "\n",
       "       LassoCV_test  \n",
       "R2         0.882641  \n",
       "mae     1724.681751  \n",
       "mse  6643487.878513  \n",
       "rmse    2577.496436  "
      ]
     },
     "execution_count": 1657,
     "metadata": {},
     "output_type": "execute_result"
    }
   ],
   "source": [
    "# combine evaluation metrics of Linear, Linear_MinMaxScaler, Ridge, RidgeCV, Lasso and LassoCV model to compare\n",
    "\n",
    "pd.concat([lm, lm_sc, rg_sc, rg_cv_sc, ls_sc, ls_cv_sc], axis=1)"
   ]
  },
  {
   "cell_type": "code",
   "execution_count": 1658,
   "metadata": {
    "scrolled": true
   },
   "outputs": [
    {
     "name": "stdout",
     "output_type": "stream",
     "text": [
      "train RMSE: 0.1400307973339275\n",
      "test RMSE: 0.14938453315850578\n"
     ]
    }
   ],
   "source": [
    "print(\"train RMSE:\", 2523.388838/df[\"price\"].mean())\n",
    "print(\"test RMSE:\", 2691.945420/df[\"price\"].mean())"
   ]
  },
  {
   "cell_type": "markdown",
   "metadata": {
    "id": "qpoOypMbmqZO"
   },
   "source": [
    "# Implement Elastic-Net"
   ]
  },
  {
   "cell_type": "markdown",
   "metadata": {
    "id": "El7SNJUemqZO"
   },
   "source": [
    "- Import the modul \n",
    "- Do not forget to scale the data or use Normalize parameter as True(If needed)\n",
    "- Fit the model \n",
    "- Predict the test set \n",
    "- Evaluate model performance (use performance metrics for regression) \n",
    "- Tune alpha hyperparameter by using [GridSearchCV](https://scikit-learn.org/stable/modules/generated/sklearn.model_selection.GridSearchCV.html) and determine the optimal alpha value.\n",
    "- Fit the model and predict again with the new alpha value.\n",
    "- Compare different evaluation metrics"
   ]
  },
  {
   "cell_type": "code",
   "execution_count": 1659,
   "metadata": {
    "id": "XKVr6v2JmqZO"
   },
   "outputs": [],
   "source": [
    "# import the ElasticNet and ElasticNetCV models\n",
    "\n",
    "from sklearn.linear_model import ElasticNet, ElasticNetCV"
   ]
  },
  {
   "cell_type": "code",
   "execution_count": 1660,
   "metadata": {},
   "outputs": [],
   "source": [
    "# create a model object with normalization\n",
    "\n",
    "elastic_model = ElasticNet(alpha=1, l1_ratio=0.5, normalize=True, random_state=42)"
   ]
  },
  {
   "cell_type": "code",
   "execution_count": 1661,
   "metadata": {},
   "outputs": [
    {
     "data": {
      "text/html": [
       "<style>#sk-container-id-134 {color: black;background-color: white;}#sk-container-id-134 pre{padding: 0;}#sk-container-id-134 div.sk-toggleable {background-color: white;}#sk-container-id-134 label.sk-toggleable__label {cursor: pointer;display: block;width: 100%;margin-bottom: 0;padding: 0.3em;box-sizing: border-box;text-align: center;}#sk-container-id-134 label.sk-toggleable__label-arrow:before {content: \"▸\";float: left;margin-right: 0.25em;color: #696969;}#sk-container-id-134 label.sk-toggleable__label-arrow:hover:before {color: black;}#sk-container-id-134 div.sk-estimator:hover label.sk-toggleable__label-arrow:before {color: black;}#sk-container-id-134 div.sk-toggleable__content {max-height: 0;max-width: 0;overflow: hidden;text-align: left;background-color: #f0f8ff;}#sk-container-id-134 div.sk-toggleable__content pre {margin: 0.2em;color: black;border-radius: 0.25em;background-color: #f0f8ff;}#sk-container-id-134 input.sk-toggleable__control:checked~div.sk-toggleable__content {max-height: 200px;max-width: 100%;overflow: auto;}#sk-container-id-134 input.sk-toggleable__control:checked~label.sk-toggleable__label-arrow:before {content: \"▾\";}#sk-container-id-134 div.sk-estimator input.sk-toggleable__control:checked~label.sk-toggleable__label {background-color: #d4ebff;}#sk-container-id-134 div.sk-label input.sk-toggleable__control:checked~label.sk-toggleable__label {background-color: #d4ebff;}#sk-container-id-134 input.sk-hidden--visually {border: 0;clip: rect(1px 1px 1px 1px);clip: rect(1px, 1px, 1px, 1px);height: 1px;margin: -1px;overflow: hidden;padding: 0;position: absolute;width: 1px;}#sk-container-id-134 div.sk-estimator {font-family: monospace;background-color: #f0f8ff;border: 1px dotted black;border-radius: 0.25em;box-sizing: border-box;margin-bottom: 0.5em;}#sk-container-id-134 div.sk-estimator:hover {background-color: #d4ebff;}#sk-container-id-134 div.sk-parallel-item::after {content: \"\";width: 100%;border-bottom: 1px solid gray;flex-grow: 1;}#sk-container-id-134 div.sk-label:hover label.sk-toggleable__label {background-color: #d4ebff;}#sk-container-id-134 div.sk-serial::before {content: \"\";position: absolute;border-left: 1px solid gray;box-sizing: border-box;top: 0;bottom: 0;left: 50%;z-index: 0;}#sk-container-id-134 div.sk-serial {display: flex;flex-direction: column;align-items: center;background-color: white;padding-right: 0.2em;padding-left: 0.2em;position: relative;}#sk-container-id-134 div.sk-item {position: relative;z-index: 1;}#sk-container-id-134 div.sk-parallel {display: flex;align-items: stretch;justify-content: center;background-color: white;position: relative;}#sk-container-id-134 div.sk-item::before, #sk-container-id-134 div.sk-parallel-item::before {content: \"\";position: absolute;border-left: 1px solid gray;box-sizing: border-box;top: 0;bottom: 0;left: 50%;z-index: -1;}#sk-container-id-134 div.sk-parallel-item {display: flex;flex-direction: column;z-index: 1;position: relative;background-color: white;}#sk-container-id-134 div.sk-parallel-item:first-child::after {align-self: flex-end;width: 50%;}#sk-container-id-134 div.sk-parallel-item:last-child::after {align-self: flex-start;width: 50%;}#sk-container-id-134 div.sk-parallel-item:only-child::after {width: 0;}#sk-container-id-134 div.sk-dashed-wrapped {border: 1px dashed gray;margin: 0 0.4em 0.5em 0.4em;box-sizing: border-box;padding-bottom: 0.4em;background-color: white;}#sk-container-id-134 div.sk-label label {font-family: monospace;font-weight: bold;display: inline-block;line-height: 1.2em;}#sk-container-id-134 div.sk-label-container {text-align: center;}#sk-container-id-134 div.sk-container {/* jupyter's `normalize.less` sets `[hidden] { display: none; }` but bootstrap.min.css set `[hidden] { display: none !important; }` so we also need the `!important` here to be able to override the default hidden behavior on the sphinx rendered scikit-learn.org. See: https://github.com/scikit-learn/scikit-learn/issues/21755 */display: inline-block !important;position: relative;}#sk-container-id-134 div.sk-text-repr-fallback {display: none;}</style><div id=\"sk-container-id-134\" class=\"sk-top-container\"><div class=\"sk-text-repr-fallback\"><pre>ElasticNet(alpha=1, normalize=True, random_state=42)</pre><b>In a Jupyter environment, please rerun this cell to show the HTML representation or trust the notebook. <br />On GitHub, the HTML representation is unable to render, please try loading this page with nbviewer.org.</b></div><div class=\"sk-container\" hidden><div class=\"sk-item\"><div class=\"sk-estimator sk-toggleable\"><input class=\"sk-toggleable__control sk-hidden--visually\" id=\"sk-estimator-id-172\" type=\"checkbox\" checked><label for=\"sk-estimator-id-172\" class=\"sk-toggleable__label sk-toggleable__label-arrow\">ElasticNet</label><div class=\"sk-toggleable__content\"><pre>ElasticNet(alpha=1, normalize=True, random_state=42)</pre></div></div></div></div></div>"
      ],
      "text/plain": [
       "ElasticNet(alpha=1, normalize=True, random_state=42)"
      ]
     },
     "execution_count": 1661,
     "metadata": {},
     "output_type": "execute_result"
    }
   ],
   "source": [
    "# fit the model using train data\n",
    "\n",
    "elastic_model.fit(X_train, y_train)"
   ]
  },
  {
   "cell_type": "code",
   "execution_count": 1662,
   "metadata": {},
   "outputs": [],
   "source": [
    "y_test_pred = elastic_model.predict(X_test) # predict on test data\n",
    "y_train_pred = elastic_model.predict(X_train) # predict on train data"
   ]
  },
  {
   "cell_type": "code",
   "execution_count": 1663,
   "metadata": {
    "scrolled": false
   },
   "outputs": [
    {
     "data": {
      "text/html": [
       "<div>\n",
       "<style scoped>\n",
       "    .dataframe tbody tr th:only-of-type {\n",
       "        vertical-align: middle;\n",
       "    }\n",
       "\n",
       "    .dataframe tbody tr th {\n",
       "        vertical-align: top;\n",
       "    }\n",
       "\n",
       "    .dataframe thead th {\n",
       "        text-align: right;\n",
       "    }\n",
       "</style>\n",
       "<table border=\"1\" class=\"dataframe\">\n",
       "  <thead>\n",
       "    <tr style=\"text-align: right;\">\n",
       "      <th></th>\n",
       "      <th>ElasticNet_train</th>\n",
       "      <th>ElasticNet_test</th>\n",
       "    </tr>\n",
       "  </thead>\n",
       "  <tbody>\n",
       "    <tr>\n",
       "      <th>R2</th>\n",
       "      <td>0.002102</td>\n",
       "      <td>0.001711</td>\n",
       "    </tr>\n",
       "    <tr>\n",
       "      <th>mae</th>\n",
       "      <td>5587.548922</td>\n",
       "      <td>5664.315936</td>\n",
       "    </tr>\n",
       "    <tr>\n",
       "      <th>mse</th>\n",
       "      <td>53363321.883203</td>\n",
       "      <td>56511569.958226</td>\n",
       "    </tr>\n",
       "    <tr>\n",
       "      <th>rmse</th>\n",
       "      <td>7305.020321</td>\n",
       "      <td>7517.417772</td>\n",
       "    </tr>\n",
       "  </tbody>\n",
       "</table>\n",
       "</div>"
      ],
      "text/plain": [
       "      ElasticNet_train  ElasticNet_test\n",
       "R2            0.002102         0.001711\n",
       "mae        5587.548922      5664.315936\n",
       "mse    53363321.883203  56511569.958226\n",
       "rmse       7305.020321      7517.417772"
      ]
     },
     "execution_count": 1663,
     "metadata": {},
     "output_type": "execute_result"
    }
   ],
   "source": [
    "# comparison of evaluation metrics for test and train data\n",
    "\n",
    "es_sc = train_val(y_train, y_train_pred, y_test, y_test_pred, \"ElasticNet\")\n",
    "es_sc"
   ]
  },
  {
   "cell_type": "code",
   "execution_count": 1664,
   "metadata": {
    "scrolled": true
   },
   "outputs": [
    {
     "data": {
      "text/html": [
       "<div>\n",
       "<style scoped>\n",
       "    .dataframe tbody tr th:only-of-type {\n",
       "        vertical-align: middle;\n",
       "    }\n",
       "\n",
       "    .dataframe tbody tr th {\n",
       "        vertical-align: top;\n",
       "    }\n",
       "\n",
       "    .dataframe thead th {\n",
       "        text-align: right;\n",
       "    }\n",
       "</style>\n",
       "<table border=\"1\" class=\"dataframe\">\n",
       "  <thead>\n",
       "    <tr style=\"text-align: right;\">\n",
       "      <th></th>\n",
       "      <th>Lm_train</th>\n",
       "      <th>Lm_test</th>\n",
       "      <th>Linear_MinMaxScaler_train</th>\n",
       "      <th>Linear_MinMaxScaler_test</th>\n",
       "      <th>Ridge_train</th>\n",
       "      <th>Ridge_test</th>\n",
       "      <th>RidgeCV_train</th>\n",
       "      <th>RidgeCV_test</th>\n",
       "      <th>Lasso_train</th>\n",
       "      <th>Lasso_test</th>\n",
       "      <th>LassoCV_train</th>\n",
       "      <th>LassoCV_test</th>\n",
       "      <th>ElasticNet_train</th>\n",
       "      <th>ElasticNet_test</th>\n",
       "    </tr>\n",
       "  </thead>\n",
       "  <tbody>\n",
       "    <tr>\n",
       "      <th>R2</th>\n",
       "      <td>0.893157</td>\n",
       "      <td>0.882850</td>\n",
       "      <td>0.893157</td>\n",
       "      <td>0.882850</td>\n",
       "      <td>0.822264</td>\n",
       "      <td>0.810479</td>\n",
       "      <td>0.886153</td>\n",
       "      <td>0.875171</td>\n",
       "      <td>0.880927</td>\n",
       "      <td>0.871988</td>\n",
       "      <td>0.892639</td>\n",
       "      <td>0.882641</td>\n",
       "      <td>0.002102</td>\n",
       "      <td>0.001711</td>\n",
       "    </tr>\n",
       "    <tr>\n",
       "      <th>mae</th>\n",
       "      <td>1676.831325</td>\n",
       "      <td>1728.127943</td>\n",
       "      <td>1676.831325</td>\n",
       "      <td>1728.127943</td>\n",
       "      <td>2135.611892</td>\n",
       "      <td>2186.871492</td>\n",
       "      <td>1706.966021</td>\n",
       "      <td>1757.854734</td>\n",
       "      <td>1748.093701</td>\n",
       "      <td>1789.743342</td>\n",
       "      <td>1675.789547</td>\n",
       "      <td>1724.681751</td>\n",
       "      <td>5587.548922</td>\n",
       "      <td>5664.315936</td>\n",
       "    </tr>\n",
       "    <tr>\n",
       "      <th>mse</th>\n",
       "      <td>5713523.565390</td>\n",
       "      <td>6631687.677788</td>\n",
       "      <td>5713523.565390</td>\n",
       "      <td>6631687.677799</td>\n",
       "      <td>9504543.508484</td>\n",
       "      <td>10728467.832500</td>\n",
       "      <td>6088047.680598</td>\n",
       "      <td>7066348.921262</td>\n",
       "      <td>6367491.225264</td>\n",
       "      <td>7246570.142487</td>\n",
       "      <td>5741199.557586</td>\n",
       "      <td>6643487.878513</td>\n",
       "      <td>53363321.883203</td>\n",
       "      <td>56511569.958226</td>\n",
       "    </tr>\n",
       "    <tr>\n",
       "      <th>rmse</th>\n",
       "      <td>2390.297798</td>\n",
       "      <td>2575.206337</td>\n",
       "      <td>2390.297798</td>\n",
       "      <td>2575.206337</td>\n",
       "      <td>3082.943968</td>\n",
       "      <td>3275.433991</td>\n",
       "      <td>2467.396944</td>\n",
       "      <td>2658.260507</td>\n",
       "      <td>2523.388838</td>\n",
       "      <td>2691.945420</td>\n",
       "      <td>2396.080040</td>\n",
       "      <td>2577.496436</td>\n",
       "      <td>7305.020321</td>\n",
       "      <td>7517.417772</td>\n",
       "    </tr>\n",
       "  </tbody>\n",
       "</table>\n",
       "</div>"
      ],
      "text/plain": [
       "           Lm_train        Lm_test  Linear_MinMaxScaler_train  \\\n",
       "R2         0.893157       0.882850                   0.893157   \n",
       "mae     1676.831325    1728.127943                1676.831325   \n",
       "mse  5713523.565390 6631687.677788             5713523.565390   \n",
       "rmse    2390.297798    2575.206337                2390.297798   \n",
       "\n",
       "      Linear_MinMaxScaler_test    Ridge_train      Ridge_test  RidgeCV_train  \\\n",
       "R2                    0.882850       0.822264        0.810479       0.886153   \n",
       "mae                1728.127943    2135.611892     2186.871492    1706.966021   \n",
       "mse             6631687.677799 9504543.508484 10728467.832500 6088047.680598   \n",
       "rmse               2575.206337    3082.943968     3275.433991    2467.396944   \n",
       "\n",
       "       RidgeCV_test    Lasso_train     Lasso_test  LassoCV_train  \\\n",
       "R2         0.875171       0.880927       0.871988       0.892639   \n",
       "mae     1757.854734    1748.093701    1789.743342    1675.789547   \n",
       "mse  7066348.921262 6367491.225264 7246570.142487 5741199.557586   \n",
       "rmse    2658.260507    2523.388838    2691.945420    2396.080040   \n",
       "\n",
       "       LassoCV_test  ElasticNet_train  ElasticNet_test  \n",
       "R2         0.882641          0.002102         0.001711  \n",
       "mae     1724.681751       5587.548922      5664.315936  \n",
       "mse  6643487.878513   53363321.883203  56511569.958226  \n",
       "rmse    2577.496436       7305.020321      7517.417772  "
      ]
     },
     "execution_count": 1664,
     "metadata": {},
     "output_type": "execute_result"
    }
   ],
   "source": [
    "# combine evaluation metrics of Linear, Linear_MinMaxScaler, Ridge, RidgeCV, Lasso, LassoCV and ElasticNet model to compare\n",
    "\n",
    "pd.concat([lm, lm_sc, rg_sc, rg_cv_sc, ls_sc, ls_cv_sc, es_sc], axis=1)"
   ]
  },
  {
   "cell_type": "code",
   "execution_count": 1665,
   "metadata": {
    "scrolled": false
   },
   "outputs": [
    {
     "name": "stdout",
     "output_type": "stream",
     "text": [
      "train RMSE: 0.4053785943275117\n",
      "test RMSE: 0.41716519810705327\n"
     ]
    }
   ],
   "source": [
    "print(\"train RMSE:\", 7305.020321/df[\"price\"].mean())\n",
    "print(\"test RMSE:\", 7517.417772/df[\"price\"].mean())"
   ]
  },
  {
   "cell_type": "markdown",
   "metadata": {},
   "source": [
    "## Hyperparameter tuning using GridSearchCV"
   ]
  },
  {
   "cell_type": "code",
   "execution_count": 1666,
   "metadata": {},
   "outputs": [],
   "source": [
    "# import GridSearchCV model\n",
    "\n",
    "from sklearn.model_selection import GridSearchCV"
   ]
  },
  {
   "cell_type": "code",
   "execution_count": 1667,
   "metadata": {},
   "outputs": [],
   "source": [
    "# create an ElasticNet model object\n",
    "\n",
    "elastic_model = ElasticNet(max_iter=10000, normalize=True, random_state=42)"
   ]
  },
  {
   "cell_type": "code",
   "execution_count": 1668,
   "metadata": {},
   "outputs": [],
   "source": [
    "# define grid parameters as a dictionary\n",
    "\n",
    "param_grid = {\"alpha\":[0.01, 0.012, 0.2, 0.5, 0.6, 0.7, 1],\n",
    "            \"l1_ratio\":[0.1, 0.5, 0.7, 0.9, 0.95, 0.99, 1]}"
   ]
  },
  {
   "cell_type": "code",
   "execution_count": 1669,
   "metadata": {},
   "outputs": [],
   "source": [
    "# create a GridSearchCV model object\n",
    "\n",
    "grid_model = GridSearchCV(estimator = elastic_model, param_grid = param_grid, scoring = 'neg_root_mean_squared_error',\n",
    "                         cv =5, verbose =2)"
   ]
  },
  {
   "cell_type": "code",
   "execution_count": 1670,
   "metadata": {},
   "outputs": [
    {
     "name": "stdout",
     "output_type": "stream",
     "text": [
      "Fitting 5 folds for each of 49 candidates, totalling 245 fits\n",
      "[CV] END ...........................alpha=0.01, l1_ratio=0.1; total time=   0.0s\n",
      "[CV] END ...........................alpha=0.01, l1_ratio=0.1; total time=   0.0s\n",
      "[CV] END ...........................alpha=0.01, l1_ratio=0.1; total time=   0.0s\n",
      "[CV] END ...........................alpha=0.01, l1_ratio=0.1; total time=   0.0s\n",
      "[CV] END ...........................alpha=0.01, l1_ratio=0.1; total time=   0.0s\n",
      "[CV] END ...........................alpha=0.01, l1_ratio=0.5; total time=   0.0s\n",
      "[CV] END ...........................alpha=0.01, l1_ratio=0.5; total time=   0.0s\n",
      "[CV] END ...........................alpha=0.01, l1_ratio=0.5; total time=   0.0s\n",
      "[CV] END ...........................alpha=0.01, l1_ratio=0.5; total time=   0.0s\n",
      "[CV] END ...........................alpha=0.01, l1_ratio=0.5; total time=   0.0s\n",
      "[CV] END ...........................alpha=0.01, l1_ratio=0.7; total time=   0.0s\n",
      "[CV] END ...........................alpha=0.01, l1_ratio=0.7; total time=   0.0s\n",
      "[CV] END ...........................alpha=0.01, l1_ratio=0.7; total time=   0.0s\n",
      "[CV] END ...........................alpha=0.01, l1_ratio=0.7; total time=   0.0s\n",
      "[CV] END ...........................alpha=0.01, l1_ratio=0.7; total time=   0.0s\n",
      "[CV] END ...........................alpha=0.01, l1_ratio=0.9; total time=   0.0s\n",
      "[CV] END ...........................alpha=0.01, l1_ratio=0.9; total time=   0.0s\n",
      "[CV] END ...........................alpha=0.01, l1_ratio=0.9; total time=   0.0s\n",
      "[CV] END ...........................alpha=0.01, l1_ratio=0.9; total time=   0.0s\n",
      "[CV] END ...........................alpha=0.01, l1_ratio=0.9; total time=   0.0s\n",
      "[CV] END ..........................alpha=0.01, l1_ratio=0.95; total time=   0.0s\n",
      "[CV] END ..........................alpha=0.01, l1_ratio=0.95; total time=   0.0s\n",
      "[CV] END ..........................alpha=0.01, l1_ratio=0.95; total time=   0.0s\n",
      "[CV] END ..........................alpha=0.01, l1_ratio=0.95; total time=   0.0s\n",
      "[CV] END ..........................alpha=0.01, l1_ratio=0.95; total time=   0.0s\n",
      "[CV] END ..........................alpha=0.01, l1_ratio=0.99; total time=   0.0s\n",
      "[CV] END ..........................alpha=0.01, l1_ratio=0.99; total time=   0.0s\n",
      "[CV] END ..........................alpha=0.01, l1_ratio=0.99; total time=   0.0s\n",
      "[CV] END ..........................alpha=0.01, l1_ratio=0.99; total time=   0.0s\n",
      "[CV] END ..........................alpha=0.01, l1_ratio=0.99; total time=   0.0s\n",
      "[CV] END .............................alpha=0.01, l1_ratio=1; total time=   0.0s\n",
      "[CV] END .............................alpha=0.01, l1_ratio=1; total time=   0.0s\n",
      "[CV] END .............................alpha=0.01, l1_ratio=1; total time=   0.0s\n",
      "[CV] END .............................alpha=0.01, l1_ratio=1; total time=   0.0s\n",
      "[CV] END .............................alpha=0.01, l1_ratio=1; total time=   0.0s\n",
      "[CV] END ..........................alpha=0.012, l1_ratio=0.1; total time=   0.0s\n",
      "[CV] END ..........................alpha=0.012, l1_ratio=0.1; total time=   0.0s\n",
      "[CV] END ..........................alpha=0.012, l1_ratio=0.1; total time=   0.0s\n",
      "[CV] END ..........................alpha=0.012, l1_ratio=0.1; total time=   0.0s\n",
      "[CV] END ..........................alpha=0.012, l1_ratio=0.1; total time=   0.0s\n",
      "[CV] END ..........................alpha=0.012, l1_ratio=0.5; total time=   0.0s\n",
      "[CV] END ..........................alpha=0.012, l1_ratio=0.5; total time=   0.0s\n",
      "[CV] END ..........................alpha=0.012, l1_ratio=0.5; total time=   0.0s\n",
      "[CV] END ..........................alpha=0.012, l1_ratio=0.5; total time=   0.0s\n",
      "[CV] END ..........................alpha=0.012, l1_ratio=0.5; total time=   0.0s\n",
      "[CV] END ..........................alpha=0.012, l1_ratio=0.7; total time=   0.0s\n",
      "[CV] END ..........................alpha=0.012, l1_ratio=0.7; total time=   0.0s\n",
      "[CV] END ..........................alpha=0.012, l1_ratio=0.7; total time=   0.0s\n",
      "[CV] END ..........................alpha=0.012, l1_ratio=0.7; total time=   0.0s\n",
      "[CV] END ..........................alpha=0.012, l1_ratio=0.7; total time=   0.0s\n",
      "[CV] END ..........................alpha=0.012, l1_ratio=0.9; total time=   0.0s\n",
      "[CV] END ..........................alpha=0.012, l1_ratio=0.9; total time=   0.0s\n",
      "[CV] END ..........................alpha=0.012, l1_ratio=0.9; total time=   0.0s\n",
      "[CV] END ..........................alpha=0.012, l1_ratio=0.9; total time=   0.0s\n",
      "[CV] END ..........................alpha=0.012, l1_ratio=0.9; total time=   0.0s\n",
      "[CV] END .........................alpha=0.012, l1_ratio=0.95; total time=   0.0s\n",
      "[CV] END .........................alpha=0.012, l1_ratio=0.95; total time=   0.0s\n",
      "[CV] END .........................alpha=0.012, l1_ratio=0.95; total time=   0.0s\n",
      "[CV] END .........................alpha=0.012, l1_ratio=0.95; total time=   0.0s\n",
      "[CV] END .........................alpha=0.012, l1_ratio=0.95; total time=   0.0s\n",
      "[CV] END .........................alpha=0.012, l1_ratio=0.99; total time=   0.0s\n",
      "[CV] END .........................alpha=0.012, l1_ratio=0.99; total time=   0.0s\n",
      "[CV] END .........................alpha=0.012, l1_ratio=0.99; total time=   0.0s\n",
      "[CV] END .........................alpha=0.012, l1_ratio=0.99; total time=   0.0s\n",
      "[CV] END .........................alpha=0.012, l1_ratio=0.99; total time=   0.0s\n",
      "[CV] END ............................alpha=0.012, l1_ratio=1; total time=   0.0s\n",
      "[CV] END ............................alpha=0.012, l1_ratio=1; total time=   0.0s\n",
      "[CV] END ............................alpha=0.012, l1_ratio=1; total time=   0.0s\n",
      "[CV] END ............................alpha=0.012, l1_ratio=1; total time=   0.0s\n",
      "[CV] END ............................alpha=0.012, l1_ratio=1; total time=   0.0s\n",
      "[CV] END ............................alpha=0.2, l1_ratio=0.1; total time=   0.0s\n",
      "[CV] END ............................alpha=0.2, l1_ratio=0.1; total time=   0.0s\n",
      "[CV] END ............................alpha=0.2, l1_ratio=0.1; total time=   0.0s\n",
      "[CV] END ............................alpha=0.2, l1_ratio=0.1; total time=   0.0s\n",
      "[CV] END ............................alpha=0.2, l1_ratio=0.1; total time=   0.0s\n",
      "[CV] END ............................alpha=0.2, l1_ratio=0.5; total time=   0.0s\n",
      "[CV] END ............................alpha=0.2, l1_ratio=0.5; total time=   0.0s\n",
      "[CV] END ............................alpha=0.2, l1_ratio=0.5; total time=   0.0s\n",
      "[CV] END ............................alpha=0.2, l1_ratio=0.5; total time=   0.0s\n",
      "[CV] END ............................alpha=0.2, l1_ratio=0.5; total time=   0.0s\n",
      "[CV] END ............................alpha=0.2, l1_ratio=0.7; total time=   0.0s\n",
      "[CV] END ............................alpha=0.2, l1_ratio=0.7; total time=   0.0s\n",
      "[CV] END ............................alpha=0.2, l1_ratio=0.7; total time=   0.0s\n",
      "[CV] END ............................alpha=0.2, l1_ratio=0.7; total time=   0.0s\n",
      "[CV] END ............................alpha=0.2, l1_ratio=0.7; total time=   0.0s\n",
      "[CV] END ............................alpha=0.2, l1_ratio=0.9; total time=   0.0s\n",
      "[CV] END ............................alpha=0.2, l1_ratio=0.9; total time=   0.0s\n",
      "[CV] END ............................alpha=0.2, l1_ratio=0.9; total time=   0.0s\n",
      "[CV] END ............................alpha=0.2, l1_ratio=0.9; total time=   0.0s\n",
      "[CV] END ............................alpha=0.2, l1_ratio=0.9; total time=   0.0s\n",
      "[CV] END ...........................alpha=0.2, l1_ratio=0.95; total time=   0.0s\n",
      "[CV] END ...........................alpha=0.2, l1_ratio=0.95; total time=   0.0s\n",
      "[CV] END ...........................alpha=0.2, l1_ratio=0.95; total time=   0.0s\n",
      "[CV] END ...........................alpha=0.2, l1_ratio=0.95; total time=   0.0s\n",
      "[CV] END ...........................alpha=0.2, l1_ratio=0.95; total time=   0.0s\n",
      "[CV] END ...........................alpha=0.2, l1_ratio=0.99; total time=   0.0s\n",
      "[CV] END ...........................alpha=0.2, l1_ratio=0.99; total time=   0.0s\n",
      "[CV] END ...........................alpha=0.2, l1_ratio=0.99; total time=   0.0s\n",
      "[CV] END ...........................alpha=0.2, l1_ratio=0.99; total time=   0.0s\n",
      "[CV] END ...........................alpha=0.2, l1_ratio=0.99; total time=   0.0s\n",
      "[CV] END ..............................alpha=0.2, l1_ratio=1; total time=   0.0s\n",
      "[CV] END ..............................alpha=0.2, l1_ratio=1; total time=   0.0s\n",
      "[CV] END ..............................alpha=0.2, l1_ratio=1; total time=   0.0s\n"
     ]
    },
    {
     "name": "stdout",
     "output_type": "stream",
     "text": [
      "[CV] END ..............................alpha=0.2, l1_ratio=1; total time=   0.0s\n",
      "[CV] END ..............................alpha=0.2, l1_ratio=1; total time=   0.0s\n",
      "[CV] END ............................alpha=0.5, l1_ratio=0.1; total time=   0.0s\n",
      "[CV] END ............................alpha=0.5, l1_ratio=0.1; total time=   0.0s\n",
      "[CV] END ............................alpha=0.5, l1_ratio=0.1; total time=   0.0s\n",
      "[CV] END ............................alpha=0.5, l1_ratio=0.1; total time=   0.0s\n",
      "[CV] END ............................alpha=0.5, l1_ratio=0.1; total time=   0.0s\n",
      "[CV] END ............................alpha=0.5, l1_ratio=0.5; total time=   0.0s\n",
      "[CV] END ............................alpha=0.5, l1_ratio=0.5; total time=   0.0s\n",
      "[CV] END ............................alpha=0.5, l1_ratio=0.5; total time=   0.0s\n",
      "[CV] END ............................alpha=0.5, l1_ratio=0.5; total time=   0.0s\n",
      "[CV] END ............................alpha=0.5, l1_ratio=0.5; total time=   0.0s\n",
      "[CV] END ............................alpha=0.5, l1_ratio=0.7; total time=   0.0s\n",
      "[CV] END ............................alpha=0.5, l1_ratio=0.7; total time=   0.0s\n",
      "[CV] END ............................alpha=0.5, l1_ratio=0.7; total time=   0.0s\n",
      "[CV] END ............................alpha=0.5, l1_ratio=0.7; total time=   0.0s\n",
      "[CV] END ............................alpha=0.5, l1_ratio=0.7; total time=   0.0s\n",
      "[CV] END ............................alpha=0.5, l1_ratio=0.9; total time=   0.0s\n",
      "[CV] END ............................alpha=0.5, l1_ratio=0.9; total time=   0.0s\n",
      "[CV] END ............................alpha=0.5, l1_ratio=0.9; total time=   0.0s\n",
      "[CV] END ............................alpha=0.5, l1_ratio=0.9; total time=   0.0s\n",
      "[CV] END ............................alpha=0.5, l1_ratio=0.9; total time=   0.0s\n",
      "[CV] END ...........................alpha=0.5, l1_ratio=0.95; total time=   0.0s\n",
      "[CV] END ...........................alpha=0.5, l1_ratio=0.95; total time=   0.0s\n",
      "[CV] END ...........................alpha=0.5, l1_ratio=0.95; total time=   0.0s\n",
      "[CV] END ...........................alpha=0.5, l1_ratio=0.95; total time=   0.0s\n",
      "[CV] END ...........................alpha=0.5, l1_ratio=0.95; total time=   0.0s\n",
      "[CV] END ...........................alpha=0.5, l1_ratio=0.99; total time=   0.0s\n",
      "[CV] END ...........................alpha=0.5, l1_ratio=0.99; total time=   0.0s\n",
      "[CV] END ...........................alpha=0.5, l1_ratio=0.99; total time=   0.0s\n",
      "[CV] END ...........................alpha=0.5, l1_ratio=0.99; total time=   0.0s\n",
      "[CV] END ...........................alpha=0.5, l1_ratio=0.99; total time=   0.0s\n",
      "[CV] END ..............................alpha=0.5, l1_ratio=1; total time=   0.0s\n",
      "[CV] END ..............................alpha=0.5, l1_ratio=1; total time=   0.0s\n",
      "[CV] END ..............................alpha=0.5, l1_ratio=1; total time=   0.0s\n",
      "[CV] END ..............................alpha=0.5, l1_ratio=1; total time=   0.0s\n",
      "[CV] END ..............................alpha=0.5, l1_ratio=1; total time=   0.0s\n",
      "[CV] END ............................alpha=0.6, l1_ratio=0.1; total time=   0.0s\n",
      "[CV] END ............................alpha=0.6, l1_ratio=0.1; total time=   0.0s\n",
      "[CV] END ............................alpha=0.6, l1_ratio=0.1; total time=   0.0s\n",
      "[CV] END ............................alpha=0.6, l1_ratio=0.1; total time=   0.0s\n",
      "[CV] END ............................alpha=0.6, l1_ratio=0.1; total time=   0.0s\n",
      "[CV] END ............................alpha=0.6, l1_ratio=0.5; total time=   0.0s\n",
      "[CV] END ............................alpha=0.6, l1_ratio=0.5; total time=   0.0s\n",
      "[CV] END ............................alpha=0.6, l1_ratio=0.5; total time=   0.0s\n",
      "[CV] END ............................alpha=0.6, l1_ratio=0.5; total time=   0.0s\n",
      "[CV] END ............................alpha=0.6, l1_ratio=0.5; total time=   0.0s\n",
      "[CV] END ............................alpha=0.6, l1_ratio=0.7; total time=   0.0s\n",
      "[CV] END ............................alpha=0.6, l1_ratio=0.7; total time=   0.0s\n",
      "[CV] END ............................alpha=0.6, l1_ratio=0.7; total time=   0.0s\n",
      "[CV] END ............................alpha=0.6, l1_ratio=0.7; total time=   0.0s\n",
      "[CV] END ............................alpha=0.6, l1_ratio=0.7; total time=   0.0s\n",
      "[CV] END ............................alpha=0.6, l1_ratio=0.9; total time=   0.0s\n",
      "[CV] END ............................alpha=0.6, l1_ratio=0.9; total time=   0.0s\n",
      "[CV] END ............................alpha=0.6, l1_ratio=0.9; total time=   0.0s\n",
      "[CV] END ............................alpha=0.6, l1_ratio=0.9; total time=   0.0s\n",
      "[CV] END ............................alpha=0.6, l1_ratio=0.9; total time=   0.0s\n",
      "[CV] END ...........................alpha=0.6, l1_ratio=0.95; total time=   0.0s\n",
      "[CV] END ...........................alpha=0.6, l1_ratio=0.95; total time=   0.0s\n",
      "[CV] END ...........................alpha=0.6, l1_ratio=0.95; total time=   0.0s\n",
      "[CV] END ...........................alpha=0.6, l1_ratio=0.95; total time=   0.0s\n",
      "[CV] END ...........................alpha=0.6, l1_ratio=0.95; total time=   0.0s\n",
      "[CV] END ...........................alpha=0.6, l1_ratio=0.99; total time=   0.0s\n",
      "[CV] END ...........................alpha=0.6, l1_ratio=0.99; total time=   0.0s\n",
      "[CV] END ...........................alpha=0.6, l1_ratio=0.99; total time=   0.0s\n",
      "[CV] END ...........................alpha=0.6, l1_ratio=0.99; total time=   0.0s\n",
      "[CV] END ...........................alpha=0.6, l1_ratio=0.99; total time=   0.0s\n",
      "[CV] END ..............................alpha=0.6, l1_ratio=1; total time=   0.0s\n",
      "[CV] END ..............................alpha=0.6, l1_ratio=1; total time=   0.0s\n",
      "[CV] END ..............................alpha=0.6, l1_ratio=1; total time=   0.0s\n",
      "[CV] END ..............................alpha=0.6, l1_ratio=1; total time=   0.0s\n",
      "[CV] END ..............................alpha=0.6, l1_ratio=1; total time=   0.0s\n",
      "[CV] END ............................alpha=0.7, l1_ratio=0.1; total time=   0.0s\n",
      "[CV] END ............................alpha=0.7, l1_ratio=0.1; total time=   0.0s\n",
      "[CV] END ............................alpha=0.7, l1_ratio=0.1; total time=   0.0s\n",
      "[CV] END ............................alpha=0.7, l1_ratio=0.1; total time=   0.0s\n",
      "[CV] END ............................alpha=0.7, l1_ratio=0.1; total time=   0.0s\n",
      "[CV] END ............................alpha=0.7, l1_ratio=0.5; total time=   0.0s\n",
      "[CV] END ............................alpha=0.7, l1_ratio=0.5; total time=   0.0s\n",
      "[CV] END ............................alpha=0.7, l1_ratio=0.5; total time=   0.0s\n",
      "[CV] END ............................alpha=0.7, l1_ratio=0.5; total time=   0.0s\n",
      "[CV] END ............................alpha=0.7, l1_ratio=0.5; total time=   0.0s\n",
      "[CV] END ............................alpha=0.7, l1_ratio=0.7; total time=   0.0s\n",
      "[CV] END ............................alpha=0.7, l1_ratio=0.7; total time=   0.0s\n",
      "[CV] END ............................alpha=0.7, l1_ratio=0.7; total time=   0.0s\n",
      "[CV] END ............................alpha=0.7, l1_ratio=0.7; total time=   0.0s\n",
      "[CV] END ............................alpha=0.7, l1_ratio=0.7; total time=   0.0s\n",
      "[CV] END ............................alpha=0.7, l1_ratio=0.9; total time=   0.0s\n",
      "[CV] END ............................alpha=0.7, l1_ratio=0.9; total time=   0.0s\n",
      "[CV] END ............................alpha=0.7, l1_ratio=0.9; total time=   0.0s\n",
      "[CV] END ............................alpha=0.7, l1_ratio=0.9; total time=   0.0s\n",
      "[CV] END ............................alpha=0.7, l1_ratio=0.9; total time=   0.0s\n",
      "[CV] END ...........................alpha=0.7, l1_ratio=0.95; total time=   0.0s\n",
      "[CV] END ...........................alpha=0.7, l1_ratio=0.95; total time=   0.0s\n",
      "[CV] END ...........................alpha=0.7, l1_ratio=0.95; total time=   0.0s\n",
      "[CV] END ...........................alpha=0.7, l1_ratio=0.95; total time=   0.0s\n",
      "[CV] END ...........................alpha=0.7, l1_ratio=0.95; total time=   0.0s\n",
      "[CV] END ...........................alpha=0.7, l1_ratio=0.99; total time=   0.0s\n",
      "[CV] END ...........................alpha=0.7, l1_ratio=0.99; total time=   0.0s\n",
      "[CV] END ...........................alpha=0.7, l1_ratio=0.99; total time=   0.0s\n",
      "[CV] END ...........................alpha=0.7, l1_ratio=0.99; total time=   0.0s\n",
      "[CV] END ...........................alpha=0.7, l1_ratio=0.99; total time=   0.0s\n",
      "[CV] END ..............................alpha=0.7, l1_ratio=1; total time=   0.0s\n",
      "[CV] END ..............................alpha=0.7, l1_ratio=1; total time=   0.0s\n",
      "[CV] END ..............................alpha=0.7, l1_ratio=1; total time=   0.0s\n"
     ]
    },
    {
     "name": "stdout",
     "output_type": "stream",
     "text": [
      "[CV] END ..............................alpha=0.7, l1_ratio=1; total time=   0.0s\n",
      "[CV] END ..............................alpha=0.7, l1_ratio=1; total time=   0.0s\n",
      "[CV] END ..............................alpha=1, l1_ratio=0.1; total time=   0.0s\n",
      "[CV] END ..............................alpha=1, l1_ratio=0.1; total time=   0.0s\n",
      "[CV] END ..............................alpha=1, l1_ratio=0.1; total time=   0.0s\n",
      "[CV] END ..............................alpha=1, l1_ratio=0.1; total time=   0.0s\n",
      "[CV] END ..............................alpha=1, l1_ratio=0.1; total time=   0.0s\n",
      "[CV] END ..............................alpha=1, l1_ratio=0.5; total time=   0.0s\n",
      "[CV] END ..............................alpha=1, l1_ratio=0.5; total time=   0.0s\n",
      "[CV] END ..............................alpha=1, l1_ratio=0.5; total time=   0.0s\n",
      "[CV] END ..............................alpha=1, l1_ratio=0.5; total time=   0.0s\n",
      "[CV] END ..............................alpha=1, l1_ratio=0.5; total time=   0.0s\n",
      "[CV] END ..............................alpha=1, l1_ratio=0.7; total time=   0.0s\n",
      "[CV] END ..............................alpha=1, l1_ratio=0.7; total time=   0.0s\n",
      "[CV] END ..............................alpha=1, l1_ratio=0.7; total time=   0.0s\n",
      "[CV] END ..............................alpha=1, l1_ratio=0.7; total time=   0.0s\n",
      "[CV] END ..............................alpha=1, l1_ratio=0.7; total time=   0.0s\n",
      "[CV] END ..............................alpha=1, l1_ratio=0.9; total time=   0.0s\n",
      "[CV] END ..............................alpha=1, l1_ratio=0.9; total time=   0.0s\n",
      "[CV] END ..............................alpha=1, l1_ratio=0.9; total time=   0.0s\n",
      "[CV] END ..............................alpha=1, l1_ratio=0.9; total time=   0.0s\n",
      "[CV] END ..............................alpha=1, l1_ratio=0.9; total time=   0.0s\n",
      "[CV] END .............................alpha=1, l1_ratio=0.95; total time=   0.0s\n",
      "[CV] END .............................alpha=1, l1_ratio=0.95; total time=   0.0s\n",
      "[CV] END .............................alpha=1, l1_ratio=0.95; total time=   0.0s\n",
      "[CV] END .............................alpha=1, l1_ratio=0.95; total time=   0.0s\n",
      "[CV] END .............................alpha=1, l1_ratio=0.95; total time=   0.0s\n",
      "[CV] END .............................alpha=1, l1_ratio=0.99; total time=   0.0s\n",
      "[CV] END .............................alpha=1, l1_ratio=0.99; total time=   0.0s\n",
      "[CV] END .............................alpha=1, l1_ratio=0.99; total time=   0.0s\n",
      "[CV] END .............................alpha=1, l1_ratio=0.99; total time=   0.0s\n",
      "[CV] END .............................alpha=1, l1_ratio=0.99; total time=   0.0s\n",
      "[CV] END ................................alpha=1, l1_ratio=1; total time=   0.0s\n",
      "[CV] END ................................alpha=1, l1_ratio=1; total time=   0.0s\n",
      "[CV] END ................................alpha=1, l1_ratio=1; total time=   0.0s\n",
      "[CV] END ................................alpha=1, l1_ratio=1; total time=   0.0s\n",
      "[CV] END ................................alpha=1, l1_ratio=1; total time=   0.0s\n"
     ]
    },
    {
     "data": {
      "text/html": [
       "<style>#sk-container-id-135 {color: black;background-color: white;}#sk-container-id-135 pre{padding: 0;}#sk-container-id-135 div.sk-toggleable {background-color: white;}#sk-container-id-135 label.sk-toggleable__label {cursor: pointer;display: block;width: 100%;margin-bottom: 0;padding: 0.3em;box-sizing: border-box;text-align: center;}#sk-container-id-135 label.sk-toggleable__label-arrow:before {content: \"▸\";float: left;margin-right: 0.25em;color: #696969;}#sk-container-id-135 label.sk-toggleable__label-arrow:hover:before {color: black;}#sk-container-id-135 div.sk-estimator:hover label.sk-toggleable__label-arrow:before {color: black;}#sk-container-id-135 div.sk-toggleable__content {max-height: 0;max-width: 0;overflow: hidden;text-align: left;background-color: #f0f8ff;}#sk-container-id-135 div.sk-toggleable__content pre {margin: 0.2em;color: black;border-radius: 0.25em;background-color: #f0f8ff;}#sk-container-id-135 input.sk-toggleable__control:checked~div.sk-toggleable__content {max-height: 200px;max-width: 100%;overflow: auto;}#sk-container-id-135 input.sk-toggleable__control:checked~label.sk-toggleable__label-arrow:before {content: \"▾\";}#sk-container-id-135 div.sk-estimator input.sk-toggleable__control:checked~label.sk-toggleable__label {background-color: #d4ebff;}#sk-container-id-135 div.sk-label input.sk-toggleable__control:checked~label.sk-toggleable__label {background-color: #d4ebff;}#sk-container-id-135 input.sk-hidden--visually {border: 0;clip: rect(1px 1px 1px 1px);clip: rect(1px, 1px, 1px, 1px);height: 1px;margin: -1px;overflow: hidden;padding: 0;position: absolute;width: 1px;}#sk-container-id-135 div.sk-estimator {font-family: monospace;background-color: #f0f8ff;border: 1px dotted black;border-radius: 0.25em;box-sizing: border-box;margin-bottom: 0.5em;}#sk-container-id-135 div.sk-estimator:hover {background-color: #d4ebff;}#sk-container-id-135 div.sk-parallel-item::after {content: \"\";width: 100%;border-bottom: 1px solid gray;flex-grow: 1;}#sk-container-id-135 div.sk-label:hover label.sk-toggleable__label {background-color: #d4ebff;}#sk-container-id-135 div.sk-serial::before {content: \"\";position: absolute;border-left: 1px solid gray;box-sizing: border-box;top: 0;bottom: 0;left: 50%;z-index: 0;}#sk-container-id-135 div.sk-serial {display: flex;flex-direction: column;align-items: center;background-color: white;padding-right: 0.2em;padding-left: 0.2em;position: relative;}#sk-container-id-135 div.sk-item {position: relative;z-index: 1;}#sk-container-id-135 div.sk-parallel {display: flex;align-items: stretch;justify-content: center;background-color: white;position: relative;}#sk-container-id-135 div.sk-item::before, #sk-container-id-135 div.sk-parallel-item::before {content: \"\";position: absolute;border-left: 1px solid gray;box-sizing: border-box;top: 0;bottom: 0;left: 50%;z-index: -1;}#sk-container-id-135 div.sk-parallel-item {display: flex;flex-direction: column;z-index: 1;position: relative;background-color: white;}#sk-container-id-135 div.sk-parallel-item:first-child::after {align-self: flex-end;width: 50%;}#sk-container-id-135 div.sk-parallel-item:last-child::after {align-self: flex-start;width: 50%;}#sk-container-id-135 div.sk-parallel-item:only-child::after {width: 0;}#sk-container-id-135 div.sk-dashed-wrapped {border: 1px dashed gray;margin: 0 0.4em 0.5em 0.4em;box-sizing: border-box;padding-bottom: 0.4em;background-color: white;}#sk-container-id-135 div.sk-label label {font-family: monospace;font-weight: bold;display: inline-block;line-height: 1.2em;}#sk-container-id-135 div.sk-label-container {text-align: center;}#sk-container-id-135 div.sk-container {/* jupyter's `normalize.less` sets `[hidden] { display: none; }` but bootstrap.min.css set `[hidden] { display: none !important; }` so we also need the `!important` here to be able to override the default hidden behavior on the sphinx rendered scikit-learn.org. See: https://github.com/scikit-learn/scikit-learn/issues/21755 */display: inline-block !important;position: relative;}#sk-container-id-135 div.sk-text-repr-fallback {display: none;}</style><div id=\"sk-container-id-135\" class=\"sk-top-container\"><div class=\"sk-text-repr-fallback\"><pre>GridSearchCV(cv=5,\n",
       "             estimator=ElasticNet(max_iter=10000, normalize=True,\n",
       "                                  random_state=42),\n",
       "             param_grid={&#x27;alpha&#x27;: [0.01, 0.012, 0.2, 0.5, 0.6, 0.7, 1],\n",
       "                         &#x27;l1_ratio&#x27;: [0.1, 0.5, 0.7, 0.9, 0.95, 0.99, 1]},\n",
       "             scoring=&#x27;neg_root_mean_squared_error&#x27;, verbose=2)</pre><b>In a Jupyter environment, please rerun this cell to show the HTML representation or trust the notebook. <br />On GitHub, the HTML representation is unable to render, please try loading this page with nbviewer.org.</b></div><div class=\"sk-container\" hidden><div class=\"sk-item sk-dashed-wrapped\"><div class=\"sk-label-container\"><div class=\"sk-label sk-toggleable\"><input class=\"sk-toggleable__control sk-hidden--visually\" id=\"sk-estimator-id-173\" type=\"checkbox\" ><label for=\"sk-estimator-id-173\" class=\"sk-toggleable__label sk-toggleable__label-arrow\">GridSearchCV</label><div class=\"sk-toggleable__content\"><pre>GridSearchCV(cv=5,\n",
       "             estimator=ElasticNet(max_iter=10000, normalize=True,\n",
       "                                  random_state=42),\n",
       "             param_grid={&#x27;alpha&#x27;: [0.01, 0.012, 0.2, 0.5, 0.6, 0.7, 1],\n",
       "                         &#x27;l1_ratio&#x27;: [0.1, 0.5, 0.7, 0.9, 0.95, 0.99, 1]},\n",
       "             scoring=&#x27;neg_root_mean_squared_error&#x27;, verbose=2)</pre></div></div></div><div class=\"sk-parallel\"><div class=\"sk-parallel-item\"><div class=\"sk-item\"><div class=\"sk-label-container\"><div class=\"sk-label sk-toggleable\"><input class=\"sk-toggleable__control sk-hidden--visually\" id=\"sk-estimator-id-174\" type=\"checkbox\" ><label for=\"sk-estimator-id-174\" class=\"sk-toggleable__label sk-toggleable__label-arrow\">estimator: ElasticNet</label><div class=\"sk-toggleable__content\"><pre>ElasticNet(max_iter=10000, normalize=True, random_state=42)</pre></div></div></div><div class=\"sk-serial\"><div class=\"sk-item\"><div class=\"sk-estimator sk-toggleable\"><input class=\"sk-toggleable__control sk-hidden--visually\" id=\"sk-estimator-id-175\" type=\"checkbox\" ><label for=\"sk-estimator-id-175\" class=\"sk-toggleable__label sk-toggleable__label-arrow\">ElasticNet</label><div class=\"sk-toggleable__content\"><pre>ElasticNet(max_iter=10000, normalize=True, random_state=42)</pre></div></div></div></div></div></div></div></div></div></div>"
      ],
      "text/plain": [
       "GridSearchCV(cv=5,\n",
       "             estimator=ElasticNet(max_iter=10000, normalize=True,\n",
       "                                  random_state=42),\n",
       "             param_grid={'alpha': [0.01, 0.012, 0.2, 0.5, 0.6, 0.7, 1],\n",
       "                         'l1_ratio': [0.1, 0.5, 0.7, 0.9, 0.95, 0.99, 1]},\n",
       "             scoring='neg_root_mean_squared_error', verbose=2)"
      ]
     },
     "execution_count": 1670,
     "metadata": {},
     "output_type": "execute_result"
    }
   ],
   "source": [
    "# fit the model using train data\n",
    "\n",
    "grid_model.fit(X_train, y_train)"
   ]
  },
  {
   "cell_type": "code",
   "execution_count": 1671,
   "metadata": {},
   "outputs": [
    {
     "data": {
      "text/plain": [
       "{'alpha': 0.012, 'l1_ratio': 1}"
      ]
     },
     "execution_count": 1671,
     "metadata": {},
     "output_type": "execute_result"
    }
   ],
   "source": [
    "# display best parameters for ElasticNet model\n",
    "\n",
    "grid_model.best_params_"
   ]
  },
  {
   "cell_type": "code",
   "execution_count": 1672,
   "metadata": {},
   "outputs": [],
   "source": [
    "# predict on test and train data using best parameters(alpha=0.012, l1_ratio=1)\n",
    "\n",
    "y_test_pred = grid_model.predict(X_test)\n",
    "y_train_pred = grid_model.predict(X_train)"
   ]
  },
  {
   "cell_type": "code",
   "execution_count": 1673,
   "metadata": {
    "scrolled": true
   },
   "outputs": [
    {
     "data": {
      "text/html": [
       "<div>\n",
       "<style scoped>\n",
       "    .dataframe tbody tr th:only-of-type {\n",
       "        vertical-align: middle;\n",
       "    }\n",
       "\n",
       "    .dataframe tbody tr th {\n",
       "        vertical-align: top;\n",
       "    }\n",
       "\n",
       "    .dataframe thead th {\n",
       "        text-align: right;\n",
       "    }\n",
       "</style>\n",
       "<table border=\"1\" class=\"dataframe\">\n",
       "  <thead>\n",
       "    <tr style=\"text-align: right;\">\n",
       "      <th></th>\n",
       "      <th>GridSearch_train</th>\n",
       "      <th>GridSearch_test</th>\n",
       "    </tr>\n",
       "  </thead>\n",
       "  <tbody>\n",
       "    <tr>\n",
       "      <th>R2</th>\n",
       "      <td>0.893148</td>\n",
       "      <td>0.882882</td>\n",
       "    </tr>\n",
       "    <tr>\n",
       "      <th>mae</th>\n",
       "      <td>1676.213412</td>\n",
       "      <td>1727.388602</td>\n",
       "    </tr>\n",
       "    <tr>\n",
       "      <th>mse</th>\n",
       "      <td>5713976.334307</td>\n",
       "      <td>6629848.462717</td>\n",
       "    </tr>\n",
       "    <tr>\n",
       "      <th>rmse</th>\n",
       "      <td>2390.392506</td>\n",
       "      <td>2574.849212</td>\n",
       "    </tr>\n",
       "  </tbody>\n",
       "</table>\n",
       "</div>"
      ],
      "text/plain": [
       "      GridSearch_train  GridSearch_test\n",
       "R2            0.893148         0.882882\n",
       "mae        1676.213412      1727.388602\n",
       "mse     5713976.334307   6629848.462717\n",
       "rmse       2390.392506      2574.849212"
      ]
     },
     "execution_count": 1673,
     "metadata": {},
     "output_type": "execute_result"
    }
   ],
   "source": [
    "es_cv_sc = train_val(y_train, y_train_pred, y_test, y_test_pred, \"GridSearch\")\n",
    "es_cv_sc"
   ]
  },
  {
   "cell_type": "code",
   "execution_count": 1674,
   "metadata": {
    "scrolled": true
   },
   "outputs": [
    {
     "data": {
      "text/html": [
       "<div>\n",
       "<style scoped>\n",
       "    .dataframe tbody tr th:only-of-type {\n",
       "        vertical-align: middle;\n",
       "    }\n",
       "\n",
       "    .dataframe tbody tr th {\n",
       "        vertical-align: top;\n",
       "    }\n",
       "\n",
       "    .dataframe thead th {\n",
       "        text-align: right;\n",
       "    }\n",
       "</style>\n",
       "<table border=\"1\" class=\"dataframe\">\n",
       "  <thead>\n",
       "    <tr style=\"text-align: right;\">\n",
       "      <th></th>\n",
       "      <th>Lm_train</th>\n",
       "      <th>Lm_test</th>\n",
       "      <th>Linear_MinMaxScaler_train</th>\n",
       "      <th>Linear_MinMaxScaler_test</th>\n",
       "      <th>Ridge_train</th>\n",
       "      <th>Ridge_test</th>\n",
       "      <th>RidgeCV_train</th>\n",
       "      <th>RidgeCV_test</th>\n",
       "      <th>Lasso_train</th>\n",
       "      <th>Lasso_test</th>\n",
       "      <th>LassoCV_train</th>\n",
       "      <th>LassoCV_test</th>\n",
       "      <th>ElasticNet_train</th>\n",
       "      <th>ElasticNet_test</th>\n",
       "      <th>GridSearch_train</th>\n",
       "      <th>GridSearch_test</th>\n",
       "    </tr>\n",
       "  </thead>\n",
       "  <tbody>\n",
       "    <tr>\n",
       "      <th>R2</th>\n",
       "      <td>0.893157</td>\n",
       "      <td>0.882850</td>\n",
       "      <td>0.893157</td>\n",
       "      <td>0.882850</td>\n",
       "      <td>0.822264</td>\n",
       "      <td>0.810479</td>\n",
       "      <td>0.886153</td>\n",
       "      <td>0.875171</td>\n",
       "      <td>0.880927</td>\n",
       "      <td>0.871988</td>\n",
       "      <td>0.892639</td>\n",
       "      <td>0.882641</td>\n",
       "      <td>0.002102</td>\n",
       "      <td>0.001711</td>\n",
       "      <td>0.893148</td>\n",
       "      <td>0.882882</td>\n",
       "    </tr>\n",
       "    <tr>\n",
       "      <th>mae</th>\n",
       "      <td>1676.831325</td>\n",
       "      <td>1728.127943</td>\n",
       "      <td>1676.831325</td>\n",
       "      <td>1728.127943</td>\n",
       "      <td>2135.611892</td>\n",
       "      <td>2186.871492</td>\n",
       "      <td>1706.966021</td>\n",
       "      <td>1757.854734</td>\n",
       "      <td>1748.093701</td>\n",
       "      <td>1789.743342</td>\n",
       "      <td>1675.789547</td>\n",
       "      <td>1724.681751</td>\n",
       "      <td>5587.548922</td>\n",
       "      <td>5664.315936</td>\n",
       "      <td>1676.213412</td>\n",
       "      <td>1727.388602</td>\n",
       "    </tr>\n",
       "    <tr>\n",
       "      <th>mse</th>\n",
       "      <td>5713523.565390</td>\n",
       "      <td>6631687.677788</td>\n",
       "      <td>5713523.565390</td>\n",
       "      <td>6631687.677799</td>\n",
       "      <td>9504543.508484</td>\n",
       "      <td>10728467.832500</td>\n",
       "      <td>6088047.680598</td>\n",
       "      <td>7066348.921262</td>\n",
       "      <td>6367491.225264</td>\n",
       "      <td>7246570.142487</td>\n",
       "      <td>5741199.557586</td>\n",
       "      <td>6643487.878513</td>\n",
       "      <td>53363321.883203</td>\n",
       "      <td>56511569.958226</td>\n",
       "      <td>5713976.334307</td>\n",
       "      <td>6629848.462717</td>\n",
       "    </tr>\n",
       "    <tr>\n",
       "      <th>rmse</th>\n",
       "      <td>2390.297798</td>\n",
       "      <td>2575.206337</td>\n",
       "      <td>2390.297798</td>\n",
       "      <td>2575.206337</td>\n",
       "      <td>3082.943968</td>\n",
       "      <td>3275.433991</td>\n",
       "      <td>2467.396944</td>\n",
       "      <td>2658.260507</td>\n",
       "      <td>2523.388838</td>\n",
       "      <td>2691.945420</td>\n",
       "      <td>2396.080040</td>\n",
       "      <td>2577.496436</td>\n",
       "      <td>7305.020321</td>\n",
       "      <td>7517.417772</td>\n",
       "      <td>2390.392506</td>\n",
       "      <td>2574.849212</td>\n",
       "    </tr>\n",
       "  </tbody>\n",
       "</table>\n",
       "</div>"
      ],
      "text/plain": [
       "           Lm_train        Lm_test  Linear_MinMaxScaler_train  \\\n",
       "R2         0.893157       0.882850                   0.893157   \n",
       "mae     1676.831325    1728.127943                1676.831325   \n",
       "mse  5713523.565390 6631687.677788             5713523.565390   \n",
       "rmse    2390.297798    2575.206337                2390.297798   \n",
       "\n",
       "      Linear_MinMaxScaler_test    Ridge_train      Ridge_test  RidgeCV_train  \\\n",
       "R2                    0.882850       0.822264        0.810479       0.886153   \n",
       "mae                1728.127943    2135.611892     2186.871492    1706.966021   \n",
       "mse             6631687.677799 9504543.508484 10728467.832500 6088047.680598   \n",
       "rmse               2575.206337    3082.943968     3275.433991    2467.396944   \n",
       "\n",
       "       RidgeCV_test    Lasso_train     Lasso_test  LassoCV_train  \\\n",
       "R2         0.875171       0.880927       0.871988       0.892639   \n",
       "mae     1757.854734    1748.093701    1789.743342    1675.789547   \n",
       "mse  7066348.921262 6367491.225264 7246570.142487 5741199.557586   \n",
       "rmse    2658.260507    2523.388838    2691.945420    2396.080040   \n",
       "\n",
       "       LassoCV_test  ElasticNet_train  ElasticNet_test  GridSearch_train  \\\n",
       "R2         0.882641          0.002102         0.001711          0.893148   \n",
       "mae     1724.681751       5587.548922      5664.315936       1676.213412   \n",
       "mse  6643487.878513   53363321.883203  56511569.958226    5713976.334307   \n",
       "rmse    2577.496436       7305.020321      7517.417772       2390.392506   \n",
       "\n",
       "      GridSearch_test  \n",
       "R2           0.882882  \n",
       "mae       1727.388602  \n",
       "mse    6629848.462717  \n",
       "rmse      2574.849212  "
      ]
     },
     "execution_count": 1674,
     "metadata": {},
     "output_type": "execute_result"
    }
   ],
   "source": [
    "# combine evaluation metrics of Linear, Linear_MinMaxScaler, Ridge, RidgeCV, Lasso, LassoCV, ElasticNet and ElasticNetCV model to compare\n",
    "\n",
    "pd.concat([lm, lm_sc, rg_sc, rg_cv_sc, ls_sc, ls_cv_sc, es_sc, es_cv_sc], axis=1)"
   ]
  },
  {
   "cell_type": "code",
   "execution_count": 1675,
   "metadata": {
    "scrolled": false
   },
   "outputs": [
    {
     "name": "stdout",
     "output_type": "stream",
     "text": [
      "train RMSE: 0.13265041182536338\n",
      "test RMSE: 0.14288649562893682\n"
     ]
    }
   ],
   "source": [
    "print(\"train RMSE:\", 2390.392506/df[\"price\"].mean())\n",
    "print(\"test RMSE:\", 2574.849212/df[\"price\"].mean())"
   ]
  },
  {
   "cell_type": "markdown",
   "metadata": {
    "id": "sYyuZQtWmqZO"
   },
   "source": [
    "## 7. Visually Compare Models Performance In a Graph"
   ]
  },
  {
   "cell_type": "code",
   "execution_count": 1677,
   "metadata": {
    "id": "iig18G7zmqZO"
   },
   "outputs": [],
   "source": [
    "df_em = pd.concat([lm, lm_sc, rg_sc, rg_cv_sc, ls_sc, ls_cv_sc, es_sc, es_cv_sc], axis=1).T.reset_index()"
   ]
  },
  {
   "cell_type": "code",
   "execution_count": 1678,
   "metadata": {
    "scrolled": true
   },
   "outputs": [
    {
     "data": {
      "text/html": [
       "<div>\n",
       "<style scoped>\n",
       "    .dataframe tbody tr th:only-of-type {\n",
       "        vertical-align: middle;\n",
       "    }\n",
       "\n",
       "    .dataframe tbody tr th {\n",
       "        vertical-align: top;\n",
       "    }\n",
       "\n",
       "    .dataframe thead th {\n",
       "        text-align: right;\n",
       "    }\n",
       "</style>\n",
       "<table border=\"1\" class=\"dataframe\">\n",
       "  <thead>\n",
       "    <tr style=\"text-align: right;\">\n",
       "      <th></th>\n",
       "      <th>ML_models</th>\n",
       "      <th>R2</th>\n",
       "      <th>mae</th>\n",
       "      <th>mse</th>\n",
       "      <th>rmse</th>\n",
       "    </tr>\n",
       "  </thead>\n",
       "  <tbody>\n",
       "    <tr>\n",
       "      <th>0</th>\n",
       "      <td>Lm_train</td>\n",
       "      <td>0.893157</td>\n",
       "      <td>1676.831325</td>\n",
       "      <td>5713523.565390</td>\n",
       "      <td>2390.297798</td>\n",
       "    </tr>\n",
       "    <tr>\n",
       "      <th>1</th>\n",
       "      <td>Lm_test</td>\n",
       "      <td>0.882850</td>\n",
       "      <td>1728.127943</td>\n",
       "      <td>6631687.677788</td>\n",
       "      <td>2575.206337</td>\n",
       "    </tr>\n",
       "    <tr>\n",
       "      <th>2</th>\n",
       "      <td>Linear_MinMaxScaler_train</td>\n",
       "      <td>0.893157</td>\n",
       "      <td>1676.831325</td>\n",
       "      <td>5713523.565390</td>\n",
       "      <td>2390.297798</td>\n",
       "    </tr>\n",
       "    <tr>\n",
       "      <th>3</th>\n",
       "      <td>Linear_MinMaxScaler_test</td>\n",
       "      <td>0.882850</td>\n",
       "      <td>1728.127943</td>\n",
       "      <td>6631687.677799</td>\n",
       "      <td>2575.206337</td>\n",
       "    </tr>\n",
       "    <tr>\n",
       "      <th>4</th>\n",
       "      <td>Ridge_train</td>\n",
       "      <td>0.822264</td>\n",
       "      <td>2135.611892</td>\n",
       "      <td>9504543.508484</td>\n",
       "      <td>3082.943968</td>\n",
       "    </tr>\n",
       "    <tr>\n",
       "      <th>5</th>\n",
       "      <td>Ridge_test</td>\n",
       "      <td>0.810479</td>\n",
       "      <td>2186.871492</td>\n",
       "      <td>10728467.832500</td>\n",
       "      <td>3275.433991</td>\n",
       "    </tr>\n",
       "    <tr>\n",
       "      <th>6</th>\n",
       "      <td>RidgeCV_train</td>\n",
       "      <td>0.886153</td>\n",
       "      <td>1706.966021</td>\n",
       "      <td>6088047.680598</td>\n",
       "      <td>2467.396944</td>\n",
       "    </tr>\n",
       "    <tr>\n",
       "      <th>7</th>\n",
       "      <td>RidgeCV_test</td>\n",
       "      <td>0.875171</td>\n",
       "      <td>1757.854734</td>\n",
       "      <td>7066348.921262</td>\n",
       "      <td>2658.260507</td>\n",
       "    </tr>\n",
       "    <tr>\n",
       "      <th>8</th>\n",
       "      <td>Lasso_train</td>\n",
       "      <td>0.880927</td>\n",
       "      <td>1748.093701</td>\n",
       "      <td>6367491.225264</td>\n",
       "      <td>2523.388838</td>\n",
       "    </tr>\n",
       "    <tr>\n",
       "      <th>9</th>\n",
       "      <td>Lasso_test</td>\n",
       "      <td>0.871988</td>\n",
       "      <td>1789.743342</td>\n",
       "      <td>7246570.142487</td>\n",
       "      <td>2691.945420</td>\n",
       "    </tr>\n",
       "    <tr>\n",
       "      <th>10</th>\n",
       "      <td>LassoCV_train</td>\n",
       "      <td>0.892639</td>\n",
       "      <td>1675.789547</td>\n",
       "      <td>5741199.557586</td>\n",
       "      <td>2396.080040</td>\n",
       "    </tr>\n",
       "    <tr>\n",
       "      <th>11</th>\n",
       "      <td>LassoCV_test</td>\n",
       "      <td>0.882641</td>\n",
       "      <td>1724.681751</td>\n",
       "      <td>6643487.878513</td>\n",
       "      <td>2577.496436</td>\n",
       "    </tr>\n",
       "    <tr>\n",
       "      <th>12</th>\n",
       "      <td>ElasticNet_train</td>\n",
       "      <td>0.002102</td>\n",
       "      <td>5587.548922</td>\n",
       "      <td>53363321.883203</td>\n",
       "      <td>7305.020321</td>\n",
       "    </tr>\n",
       "    <tr>\n",
       "      <th>13</th>\n",
       "      <td>ElasticNet_test</td>\n",
       "      <td>0.001711</td>\n",
       "      <td>5664.315936</td>\n",
       "      <td>56511569.958226</td>\n",
       "      <td>7517.417772</td>\n",
       "    </tr>\n",
       "    <tr>\n",
       "      <th>14</th>\n",
       "      <td>GridSearch_train</td>\n",
       "      <td>0.893148</td>\n",
       "      <td>1676.213412</td>\n",
       "      <td>5713976.334307</td>\n",
       "      <td>2390.392506</td>\n",
       "    </tr>\n",
       "    <tr>\n",
       "      <th>15</th>\n",
       "      <td>GridSearch_test</td>\n",
       "      <td>0.882882</td>\n",
       "      <td>1727.388602</td>\n",
       "      <td>6629848.462717</td>\n",
       "      <td>2574.849212</td>\n",
       "    </tr>\n",
       "  </tbody>\n",
       "</table>\n",
       "</div>"
      ],
      "text/plain": [
       "                    ML_models       R2         mae             mse        rmse\n",
       "0                    Lm_train 0.893157 1676.831325  5713523.565390 2390.297798\n",
       "1                     Lm_test 0.882850 1728.127943  6631687.677788 2575.206337\n",
       "2   Linear_MinMaxScaler_train 0.893157 1676.831325  5713523.565390 2390.297798\n",
       "3    Linear_MinMaxScaler_test 0.882850 1728.127943  6631687.677799 2575.206337\n",
       "4                 Ridge_train 0.822264 2135.611892  9504543.508484 3082.943968\n",
       "5                  Ridge_test 0.810479 2186.871492 10728467.832500 3275.433991\n",
       "6               RidgeCV_train 0.886153 1706.966021  6088047.680598 2467.396944\n",
       "7                RidgeCV_test 0.875171 1757.854734  7066348.921262 2658.260507\n",
       "8                 Lasso_train 0.880927 1748.093701  6367491.225264 2523.388838\n",
       "9                  Lasso_test 0.871988 1789.743342  7246570.142487 2691.945420\n",
       "10              LassoCV_train 0.892639 1675.789547  5741199.557586 2396.080040\n",
       "11               LassoCV_test 0.882641 1724.681751  6643487.878513 2577.496436\n",
       "12           ElasticNet_train 0.002102 5587.548922 53363321.883203 7305.020321\n",
       "13            ElasticNet_test 0.001711 5664.315936 56511569.958226 7517.417772\n",
       "14           GridSearch_train 0.893148 1676.213412  5713976.334307 2390.392506\n",
       "15            GridSearch_test 0.882882 1727.388602  6629848.462717 2574.849212"
      ]
     },
     "execution_count": 1678,
     "metadata": {},
     "output_type": "execute_result"
    }
   ],
   "source": [
    "df_em.rename(columns={\"index\":\"ML_models\"}, inplace=True)\n",
    "df_em"
   ]
  },
  {
   "cell_type": "code",
   "execution_count": 1681,
   "metadata": {},
   "outputs": [
    {
     "data": {
      "image/png": "[encoded data removed]",
      "text/plain": [
       "<Figure size 720x432 with 1 Axes>"
      ]
     },
     "metadata": {
      "needs_background": "light"
     },
     "output_type": "display_data"
    }
   ],
   "source": [
    "plt.figure(figsize=(10,6))\n",
    "ax = sns.barplot(x=\"R2\", y= \"ML_models\", data=df_em.sort_values(by=\"R2\", ascending=False), palette=sns.color_palette(\"Greens_d\", len(df_em)))\n",
    "ax.bar_label(ax.containers[0]);"
   ]
  },
  {
   "cell_type": "code",
   "execution_count": 1683,
   "metadata": {},
   "outputs": [
    {
     "data": {
      "image/png": "[encoded data removed]",
      "text/plain": [
       "<Figure size 720x432 with 1 Axes>"
      ]
     },
     "metadata": {
      "needs_background": "light"
     },
     "output_type": "display_data"
    }
   ],
   "source": [
    "plt.figure(figsize=(10,6))\n",
    "ax = sns.barplot(x=\"rmse\", y= \"ML_models\", data=df_em.sort_values(by=\"rmse\", ascending=False), palette=sns.color_palette(\"Greens_d\", len(df_em)))\n",
    "ax.bar_label(ax.containers[0]);"
   ]
  },
  {
   "cell_type": "markdown",
   "metadata": {},
   "source": [
    "___\n",
    "\n",
    "<p style=\"text-align: center;\"><img src=\"https://docs.google.com/uc?id=1lY0Uj5R04yMY3-ZppPWxqCr5pvBLYPnV\" class=\"img-fluid\" alt=\"CLRSWY\"></p>\n",
    "\n",
    "___"
   ]
  },
  {
   "cell_type": "code",
   "execution_count": null,
   "metadata": {},
   "outputs": [],
   "source": []
  }
 ],
 "metadata": {
  "colab": {
   "collapsed_sections": [],
   "name": "modeling_auto_scout_Student_V1.ipynb",
   "provenance": []
  },
  "kernelspec": {
   "display_name": "Python 3 (ipykernel)",
   "language": "python",
   "name": "python3"
  },
  "language_info": {
   "codemirror_mode": {
    "name": "ipython",
    "version": 3
   },
   "file_extension": ".py",
   "mimetype": "text/x-python",
   "name": "python",
   "nbconvert_exporter": "python",
   "pygments_lexer": "ipython3",
   "version": "3.9.7"
  },
  "toc": {
   "base_numbering": 1,
   "nav_menu": {},
   "number_sections": true,
   "sideBar": true,
   "skip_h1_title": false,
   "title_cell": "Table of Contents",
   "title_sidebar": "Contents",
   "toc_cell": false,
   "toc_position": {
    "height": "calc(100% - 180px)",
    "left": "10px",
    "top": "150px",
    "width": "245.76px"
   },
   "toc_section_display": true,
   "toc_window_display": true
  }
 },
 "nbformat": 4,
 "nbformat_minor": 4
}
